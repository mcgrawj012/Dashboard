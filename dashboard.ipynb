{
 "cells": [
  {
   "cell_type": "markdown",
   "metadata": {},
   "source": [
    "# San Francisco Rental Prices Dashboard\n",
    "\n",
    "In this notebook, you will compile the visualizations from the previous analysis into functions that can be used for a Panel dashboard."
   ]
  },
  {
   "cell_type": "code",
   "execution_count": 4,
   "metadata": {},
   "outputs": [],
   "source": [
    "# imports\n",
    "import panel as pn\n",
    "pn.extension('plotly')\n",
    "import plotly.express as px\n",
    "import pandas as pd\n",
    "import hvplot.pandas\n",
    "import matplotlib.pyplot as plt\n",
    "import os\n",
    "from pathlib import Path\n",
    "from dotenv import load_dotenv\n",
    "from panel.interact import interact"
   ]
  },
  {
   "cell_type": "code",
   "execution_count": 5,
   "metadata": {},
   "outputs": [],
   "source": [
    "# Read the Mapbox API key\n",
    "load_dotenv()\n",
    "map_box_api = os.getenv(\"mapbox\")\n",
    "px.set_mapbox_access_token(map_box_api)"
   ]
  },
  {
   "cell_type": "markdown",
   "metadata": {},
   "source": [
    "# Import Data"
   ]
  },
  {
   "cell_type": "code",
   "execution_count": 6,
   "metadata": {},
   "outputs": [],
   "source": [
    "# Import the necessary CSVs to Pandas DataFrames\n",
    "file_path = Path(\"sfo_neighborhoods_census_data.csv\")\n",
    "sfoData = pd.read_csv(file_path, index_col=\"year\")\n",
    "\n",
    "file_path = Path(\"neighborhoods_coordinates.csv\")\n",
    "neighborhoodLocations = pd.read_csv(file_path)"
   ]
  },
  {
   "cell_type": "markdown",
   "metadata": {},
   "source": [
    "- - -"
   ]
  },
  {
   "cell_type": "markdown",
   "metadata": {},
   "source": [
    "## Panel Visualizations\n",
    "\n",
    "In this section, you will copy the code for each plot type from your analysis notebook and place it into separate functions that Panel can use to create panes for the dashboard. \n",
    "\n",
    "These functions will convert the plot object to a Panel pane.\n",
    "\n",
    "Be sure to include any DataFrame transformation/manipulation code required along with the plotting code.\n",
    "\n",
    "Return a Panel pane object from each function that can be used to build the dashboard.\n",
    "\n",
    "Note: Remove any `.show()` lines from the code. We want to return the plots instead of showing them. The Panel dashboard will then display the plots."
   ]
  },
  {
   "cell_type": "code",
   "execution_count": 59,
   "metadata": {},
   "outputs": [],
   "source": [
    "# Define Panel Visualization Functions\n",
    "def housing_units_per_year():\n",
    "    \"\"\"Housing Units Per Year.\"\"\"\n",
    "    housingUnits = sfoData[\"housing_units\"]\n",
    "    housingUnits = housingUnits.groupby([sfoData.index]).mean()\n",
    "    \n",
    "    housingUnitsFigure = plt.figure()\n",
    "    housingUnitsPlot = housingUnits.plot.bar(x='year', ylim=[370000, 385000], title=\"Average Number of Housing Units Sold per Year\")\n",
    "    plt.close(housingUnitsFigure)\n",
    "    \n",
    "    return pn.pane.Matplotlib(housingUnitsFigure)\n",
    "\n",
    "def average_gross_rent():\n",
    "    \"\"\"Average Gross Rent in San Francisco Per Year.\"\"\"\n",
    "    \n",
    "    averageRent = sfoData[\"gross_rent\"].groupby([sfoData.index]).mean()\n",
    "    \n",
    "    rentFigure = plt.figure()\n",
    "    averageRentPlot = (averageRent.plot.line(x='year', y='gross_rent', title=\"Average Goss Rent per Year\"))\n",
    "    plt.close(rentFigure)\n",
    "    \n",
    "    return pn.pane.Matplotlib(rentFigure)\n",
    "\n",
    "\n",
    "\n",
    "def average_sales_price():\n",
    "    \"\"\"Average Sales Price Per Year.\"\"\"\n",
    "   \n",
    "    averagePrice = sfoData[\"sale_price_sqr_foot\"].groupby([sfoData.index]).mean()\n",
    "    salesPriceFigure = plt.figure()\n",
    "    averagePricePlot = (averagePrice.plot.line(x='year', y='sale_price_sqr_foot', title=\"Average Sales Price per Year\"))\n",
    "    plt.close(salesPriceFigure)\n",
    "    \n",
    "    return pn.pane.Matplotlib(salesPriceFigure)\n",
    "\n",
    "\n",
    "\n",
    "def average_price_by_neighborhood():\n",
    "    \"\"\"Average Prices by Neighborhood.\"\"\"\n",
    "    \n",
    "    costs= sfoData.groupby([sfoData.index, \"neighborhood\"]).mean()\n",
    "    costs.reset_index(inplace=True)\n",
    "    costs.rename(columns={\"level_0\":\"year\"}, inplace=True)\n",
    "    \n",
    "    avgPrice = costs.hvplot.line(\"year\",\"sale_price_sqr_foot\",xlabel=\"Year\",ylabel= \"Avg Sale Per Sqr Foot\",groupby=\"neighborhood\",)\n",
    "    return avgPrice\n",
    "\n",
    "\n",
    "    \n",
    "\n",
    "\n",
    "\n",
    "def top_most_expensive_neighborhoods():\n",
    "    \"\"\"Top 10 Most Expensive Neighborhoods.\"\"\"\n",
    "\n",
    "    avgValue = sfoData.groupby([sfoData.index,\"neighborhood\"]).mean()\n",
    "    avgValue = avgValue.reset_index()\n",
    "    avgValue.rename(columns={\"level_0\":\"year\"},inplace=True)\n",
    "    topTenPlot = avgValue.hvplot.line(\"year\", \"sale_price_sqr_foot\", xlabel=\"Year\", ylabel=\"Avg Sale Price Per Sqr Foot\", groupby=\"neighborhood\",)\n",
    "   \n",
    "\n",
    "    return topTenPlot\n",
    "\n",
    "\n",
    "def most_expensive_neighborhoods_rent_sales():\n",
    "    \"\"\"Comparison of Rent and Sales Prices of Most Expensive Neighborhoods.\"\"\"   \n",
    "    costs= sfoData.groupby([sfoData.index, \"neighborhood\"]).mean()\n",
    "    costs.reset_index(inplace=True)\n",
    "    costs.rename(columns={\"level_0\":\"year\"},inplace=True)\n",
    "    rentSalesPlot = costs.hvplot.bar(\"year\", [\"gross_rent\", \"sale_price_sqr_foot\"], title=\"Top10 Expensice Neighborhoods in SFO\", xlabel=\"Neighborhood\", ylabel=\"Number Housing Units\",groupby='neighborhood',height=500,rot=100)\n",
    "    return rentSalesPlot\n",
    "    \n",
    "\n",
    "    \n",
    "    \n",
    "def parallel_coordinates():\n",
    "    \"\"\"Parallel Coordinates Plot.\"\"\"\n",
    "\n",
    "    avgValue = sfoData.groupby([sfoData[\"neighborhood\"]]).mean()    \n",
    "    topTen = avgValue.nlargest(10, 'sale_price_sqr_foot').reset_index()\n",
    "    topTenParallel = px.parallel_coordinates(\n",
    "    topTen, \n",
    "    color='sale_price_sqr_foot')\n",
    "\n",
    "    return topTenParallel\n",
    "\n",
    "\n",
    "\n",
    "def parallel_categories():\n",
    "    \"\"\"Parallel Categories Plot.\"\"\"\n",
    "\n",
    "    avgValue = sfoData.groupby([sfoData[\"neighborhood\"]]).mean()  \n",
    "    top10 = avgValue.nlargest(10, 'sale_price_sqr_foot').reset_index()\n",
    "    topTenCategories = px.parallel_categories(\n",
    "    top10,\n",
    "    dimensions=[\"neighborhood\", \"sale_price_sqr_foot\", \"housing_units\", \"gross_rent\"],\n",
    "    color=\"sale_price_sqr_foot\",\n",
    "    color_continuous_scale=px.colors.sequential.Inferno,\n",
    ")\n",
    "\n",
    "    return topTenCategories\n",
    "\n",
    "\n",
    "def neighborhood_map():\n",
    "    \"\"\"Neighborhood Map.\"\"\"\n",
    "\n",
    "    px.set_mapbox_access_token(map_box_api)\n",
    "    allNeighborhoods = sfoData.groupby(by=\"neighborhood\").mean()\n",
    "    allNeighborhoods.reset_index(inplace=True)\n",
    "    allNeighborhoods.rename(columns={\"neighborhood\":\"Neighborhood\"},inplace=True)\n",
    "    allNeighborhoods = pd.merge(allNeighborhoods, neighborhoodLocations,on=\"Neighborhood\")\n",
    " \n",
    "    \n",
    "\n",
    "    return allNeighborhoods\n",
    "\n",
    "\n",
    "def sunburst():\n",
    "    \"\"\"Sunburst Plot.\"\"\"\n",
    "    fig = px.sunburst(most_expensive_neighborhoods_rent_sales, path=[\"year\",\"neighborhood\"], values=\"sale_price_sqr_foot\", color=\"gross_rent\",color_continuous_scale=\"Blues\", title = \"Cost Analysis of Most Expensive Neighborhoods in SFO\") \n",
    "    \n",
    "    return fig"
   ]
  },
  {
   "cell_type": "markdown",
   "metadata": {},
   "source": [
    "## Panel Dashboard\n",
    "\n",
    "In this section, you will combine all of the plots into a single dashboard view using Panel. Be creative with your dashboard design!"
   ]
  },
  {
   "cell_type": "code",
   "execution_count": 62,
   "metadata": {},
   "outputs": [],
   "source": [
    "# Create a Title for the Dashboard\n",
    "title = \"San Francisco from 2010-2016\"\n",
    "\n",
    "\n",
    "# Create a tab layout for the dashboard\n",
    "welcomeTab = pn.Row(pn.Column(title), neighborhood_map())\n",
    "\n",
    "marketAnalysisRow = pn.Row(housing_units_per_year(), average_gross_rent(), average_sales_price())\n",
    "\n",
    "\n",
    "neighborhoodAnalysisTab = pn.Column(most_expensive_neighborhoods_rent_sales,\n",
    "    top_most_expensive_neighborhoods()\n",
    ")\n",
    "\n",
    "parallelPlotTab = pn.Column( \n",
    "    parallel_categories(),\n",
    "    parallel_coordinates()\n",
    ")\n",
    "\n",
    "\n",
    "\n",
    "# Create the dashboard\n",
    "SanFran = pn.Tabs((\"Welcome\", welcomeTab), (\"Market Analysis\", marketAnalysisRow), (\"Neighborhood Analysis\", neighborhoodAnalysisTab), (\"Interactive Market Analysis By Neighborhood\", parallelPlotTab))"
   ]
  },
  {
   "cell_type": "markdown",
   "metadata": {},
   "source": [
    "## Serve the Panel Dashboard"
   ]
  },
  {
   "cell_type": "code",
   "execution_count": 63,
   "metadata": {},
   "outputs": [
    {
     "data": {},
     "metadata": {},
     "output_type": "display_data"
    },
    {
     "data": {},
     "metadata": {},
     "output_type": "display_data"
    },
    {
     "data": {
      "application/vnd.holoviews_exec.v0+json": "",
      "text/html": [
       "<div id='2594'>\n",
       "\n",
       "\n",
       "\n",
       "\n",
       "\n",
       "  <div class=\"bk-root\" id=\"17ee34c1-d02f-416d-8835-4cc5e57b8940\" data-root-id=\"2594\"></div>\n",
       "</div>\n",
       "<script type=\"application/javascript\">(function(root) {\n",
       "  function embed_document(root) {\n",
       "  var docs_json = {\"37480ac0-5a61-4015-8a0c-132768200d27\":{\"roots\":{\"references\":[{\"attributes\":{},\"id\":\"2693\",\"type\":\"PanTool\"},{\"attributes\":{},\"id\":\"2618\",\"type\":\"CategoricalScale\"},{\"attributes\":{},\"id\":\"2694\",\"type\":\"WheelZoomTool\"},{\"attributes\":{\"data_source\":{\"id\":\"2705\"},\"glyph\":{\"id\":\"2708\"},\"hover_glyph\":null,\"muted_glyph\":{\"id\":\"2710\"},\"nonselection_glyph\":{\"id\":\"2709\"},\"selection_glyph\":null,\"view\":{\"id\":\"2712\"}},\"id\":\"2711\",\"type\":\"GlyphRenderer\"},{\"attributes\":{},\"id\":\"2742\",\"type\":\"Selection\"},{\"attributes\":{\"axis_label\":\"Number Housing Units\",\"bounds\":\"auto\",\"formatter\":{\"id\":\"2653\"},\"major_label_orientation\":\"horizontal\",\"ticker\":{\"id\":\"2626\"}},\"id\":\"2625\",\"type\":\"LinearAxis\"},{\"attributes\":{},\"id\":\"2743\",\"type\":\"UnionRenderers\"},{\"attributes\":{},\"id\":\"2623\",\"type\":\"CategoricalTicker\"},{\"attributes\":{\"_render_count\":0,\"config\":null,\"data\":[{\"dimensions\":[{\"label\":\"sale_price_sqr_foot\"},{\"label\":\"housing_units\"},{\"label\":\"gross_rent\"}],\"domain\":{\"x\":[0.0,1.0],\"y\":[0.0,1.0]},\"line\":{\"coloraxis\":\"coloraxis\"},\"name\":\"\",\"type\":\"parcoords\"}],\"data_sources\":[{\"id\":\"2737\"}],\"layout\":{\"coloraxis\":{\"colorbar\":{\"title\":{\"text\":\"sale_price_sqr_foot\"}},\"colorscale\":[[0.0,\"#0d0887\"],[0.1111111111111111,\"#46039f\"],[0.2222222222222222,\"#7201a8\"],[0.3333333333333333,\"#9c179e\"],[0.4444444444444444,\"#bd3786\"],[0.5555555555555556,\"#d8576b\"],[0.6666666666666666,\"#ed7953\"],[0.7777777777777778,\"#fb9f3a\"],[0.8888888888888888,\"#fdca26\"],[1.0,\"#f0f921\"]]},\"legend\":{\"tracegroupgap\":0},\"margin\":{\"t\":60},\"template\":{\"data\":{\"bar\":[{\"error_x\":{\"color\":\"#2a3f5f\"},\"error_y\":{\"color\":\"#2a3f5f\"},\"marker\":{\"line\":{\"color\":\"#E5ECF6\",\"width\":0.5},\"pattern\":{\"fillmode\":\"overlay\",\"size\":10,\"solidity\":0.2}},\"type\":\"bar\"}],\"barpolar\":[{\"marker\":{\"line\":{\"color\":\"#E5ECF6\",\"width\":0.5},\"pattern\":{\"fillmode\":\"overlay\",\"size\":10,\"solidity\":0.2}},\"type\":\"barpolar\"}],\"carpet\":[{\"aaxis\":{\"endlinecolor\":\"#2a3f5f\",\"gridcolor\":\"white\",\"linecolor\":\"white\",\"minorgridcolor\":\"white\",\"startlinecolor\":\"#2a3f5f\"},\"baxis\":{\"endlinecolor\":\"#2a3f5f\",\"gridcolor\":\"white\",\"linecolor\":\"white\",\"minorgridcolor\":\"white\",\"startlinecolor\":\"#2a3f5f\"},\"type\":\"carpet\"}],\"choropleth\":[{\"colorbar\":{\"outlinewidth\":0,\"ticks\":\"\"},\"type\":\"choropleth\"}],\"contour\":[{\"colorbar\":{\"outlinewidth\":0,\"ticks\":\"\"},\"colorscale\":[[0.0,\"#0d0887\"],[0.1111111111111111,\"#46039f\"],[0.2222222222222222,\"#7201a8\"],[0.3333333333333333,\"#9c179e\"],[0.4444444444444444,\"#bd3786\"],[0.5555555555555556,\"#d8576b\"],[0.6666666666666666,\"#ed7953\"],[0.7777777777777778,\"#fb9f3a\"],[0.8888888888888888,\"#fdca26\"],[1.0,\"#f0f921\"]],\"type\":\"contour\"}],\"contourcarpet\":[{\"colorbar\":{\"outlinewidth\":0,\"ticks\":\"\"},\"type\":\"contourcarpet\"}],\"heatmap\":[{\"colorbar\":{\"outlinewidth\":0,\"ticks\":\"\"},\"colorscale\":[[0.0,\"#0d0887\"],[0.1111111111111111,\"#46039f\"],[0.2222222222222222,\"#7201a8\"],[0.3333333333333333,\"#9c179e\"],[0.4444444444444444,\"#bd3786\"],[0.5555555555555556,\"#d8576b\"],[0.6666666666666666,\"#ed7953\"],[0.7777777777777778,\"#fb9f3a\"],[0.8888888888888888,\"#fdca26\"],[1.0,\"#f0f921\"]],\"type\":\"heatmap\"}],\"heatmapgl\":[{\"colorbar\":{\"outlinewidth\":0,\"ticks\":\"\"},\"colorscale\":[[0.0,\"#0d0887\"],[0.1111111111111111,\"#46039f\"],[0.2222222222222222,\"#7201a8\"],[0.3333333333333333,\"#9c179e\"],[0.4444444444444444,\"#bd3786\"],[0.5555555555555556,\"#d8576b\"],[0.6666666666666666,\"#ed7953\"],[0.7777777777777778,\"#fb9f3a\"],[0.8888888888888888,\"#fdca26\"],[1.0,\"#f0f921\"]],\"type\":\"heatmapgl\"}],\"histogram\":[{\"marker\":{\"pattern\":{\"fillmode\":\"overlay\",\"size\":10,\"solidity\":0.2}},\"type\":\"histogram\"}],\"histogram2d\":[{\"colorbar\":{\"outlinewidth\":0,\"ticks\":\"\"},\"colorscale\":[[0.0,\"#0d0887\"],[0.1111111111111111,\"#46039f\"],[0.2222222222222222,\"#7201a8\"],[0.3333333333333333,\"#9c179e\"],[0.4444444444444444,\"#bd3786\"],[0.5555555555555556,\"#d8576b\"],[0.6666666666666666,\"#ed7953\"],[0.7777777777777778,\"#fb9f3a\"],[0.8888888888888888,\"#fdca26\"],[1.0,\"#f0f921\"]],\"type\":\"histogram2d\"}],\"histogram2dcontour\":[{\"colorbar\":{\"outlinewidth\":0,\"ticks\":\"\"},\"colorscale\":[[0.0,\"#0d0887\"],[0.1111111111111111,\"#46039f\"],[0.2222222222222222,\"#7201a8\"],[0.3333333333333333,\"#9c179e\"],[0.4444444444444444,\"#bd3786\"],[0.5555555555555556,\"#d8576b\"],[0.6666666666666666,\"#ed7953\"],[0.7777777777777778,\"#fb9f3a\"],[0.8888888888888888,\"#fdca26\"],[1.0,\"#f0f921\"]],\"type\":\"histogram2dcontour\"}],\"mesh3d\":[{\"colorbar\":{\"outlinewidth\":0,\"ticks\":\"\"},\"type\":\"mesh3d\"}],\"parcoords\":[{\"line\":{\"colorbar\":{\"outlinewidth\":0,\"ticks\":\"\"}},\"type\":\"parcoords\"}],\"pie\":[{\"automargin\":true,\"type\":\"pie\"}],\"scatter\":[{\"marker\":{\"colorbar\":{\"outlinewidth\":0,\"ticks\":\"\"}},\"type\":\"scatter\"}],\"scatter3d\":[{\"line\":{\"colorbar\":{\"outlinewidth\":0,\"ticks\":\"\"}},\"marker\":{\"colorbar\":{\"outlinewidth\":0,\"ticks\":\"\"}},\"type\":\"scatter3d\"}],\"scattercarpet\":[{\"marker\":{\"colorbar\":{\"outlinewidth\":0,\"ticks\":\"\"}},\"type\":\"scattercarpet\"}],\"scattergeo\":[{\"marker\":{\"colorbar\":{\"outlinewidth\":0,\"ticks\":\"\"}},\"type\":\"scattergeo\"}],\"scattergl\":[{\"marker\":{\"colorbar\":{\"outlinewidth\":0,\"ticks\":\"\"}},\"type\":\"scattergl\"}],\"scattermapbox\":[{\"marker\":{\"colorbar\":{\"outlinewidth\":0,\"ticks\":\"\"}},\"type\":\"scattermapbox\"}],\"scatterpolar\":[{\"marker\":{\"colorbar\":{\"outlinewidth\":0,\"ticks\":\"\"}},\"type\":\"scatterpolar\"}],\"scatterpolargl\":[{\"marker\":{\"colorbar\":{\"outlinewidth\":0,\"ticks\":\"\"}},\"type\":\"scatterpolargl\"}],\"scatterternary\":[{\"marker\":{\"colorbar\":{\"outlinewidth\":0,\"ticks\":\"\"}},\"type\":\"scatterternary\"}],\"surface\":[{\"colorbar\":{\"outlinewidth\":0,\"ticks\":\"\"},\"colorscale\":[[0.0,\"#0d0887\"],[0.1111111111111111,\"#46039f\"],[0.2222222222222222,\"#7201a8\"],[0.3333333333333333,\"#9c179e\"],[0.4444444444444444,\"#bd3786\"],[0.5555555555555556,\"#d8576b\"],[0.6666666666666666,\"#ed7953\"],[0.7777777777777778,\"#fb9f3a\"],[0.8888888888888888,\"#fdca26\"],[1.0,\"#f0f921\"]],\"type\":\"surface\"}],\"table\":[{\"cells\":{\"fill\":{\"color\":\"#EBF0F8\"},\"line\":{\"color\":\"white\"}},\"header\":{\"fill\":{\"color\":\"#C8D4E3\"},\"line\":{\"color\":\"white\"}},\"type\":\"table\"}]},\"layout\":{\"annotationdefaults\":{\"arrowcolor\":\"#2a3f5f\",\"arrowhead\":0,\"arrowwidth\":1},\"autotypenumbers\":\"strict\",\"coloraxis\":{\"colorbar\":{\"outlinewidth\":0,\"ticks\":\"\"}},\"colorscale\":{\"diverging\":[[0,\"#8e0152\"],[0.1,\"#c51b7d\"],[0.2,\"#de77ae\"],[0.3,\"#f1b6da\"],[0.4,\"#fde0ef\"],[0.5,\"#f7f7f7\"],[0.6,\"#e6f5d0\"],[0.7,\"#b8e186\"],[0.8,\"#7fbc41\"],[0.9,\"#4d9221\"],[1,\"#276419\"]],\"sequential\":[[0.0,\"#0d0887\"],[0.1111111111111111,\"#46039f\"],[0.2222222222222222,\"#7201a8\"],[0.3333333333333333,\"#9c179e\"],[0.4444444444444444,\"#bd3786\"],[0.5555555555555556,\"#d8576b\"],[0.6666666666666666,\"#ed7953\"],[0.7777777777777778,\"#fb9f3a\"],[0.8888888888888888,\"#fdca26\"],[1.0,\"#f0f921\"]],\"sequentialminus\":[[0.0,\"#0d0887\"],[0.1111111111111111,\"#46039f\"],[0.2222222222222222,\"#7201a8\"],[0.3333333333333333,\"#9c179e\"],[0.4444444444444444,\"#bd3786\"],[0.5555555555555556,\"#d8576b\"],[0.6666666666666666,\"#ed7953\"],[0.7777777777777778,\"#fb9f3a\"],[0.8888888888888888,\"#fdca26\"],[1.0,\"#f0f921\"]]},\"colorway\":[\"#636efa\",\"#EF553B\",\"#00cc96\",\"#ab63fa\",\"#FFA15A\",\"#19d3f3\",\"#FF6692\",\"#B6E880\",\"#FF97FF\",\"#FECB52\"],\"font\":{\"color\":\"#2a3f5f\"},\"geo\":{\"bgcolor\":\"white\",\"lakecolor\":\"white\",\"landcolor\":\"#E5ECF6\",\"showlakes\":true,\"showland\":true,\"subunitcolor\":\"white\"},\"hoverlabel\":{\"align\":\"left\"},\"hovermode\":\"closest\",\"mapbox\":{\"style\":\"light\"},\"paper_bgcolor\":\"white\",\"plot_bgcolor\":\"#E5ECF6\",\"polar\":{\"angularaxis\":{\"gridcolor\":\"white\",\"linecolor\":\"white\",\"ticks\":\"\"},\"bgcolor\":\"#E5ECF6\",\"radialaxis\":{\"gridcolor\":\"white\",\"linecolor\":\"white\",\"ticks\":\"\"}},\"scene\":{\"xaxis\":{\"backgroundcolor\":\"#E5ECF6\",\"gridcolor\":\"white\",\"gridwidth\":2,\"linecolor\":\"white\",\"showbackground\":true,\"ticks\":\"\",\"zerolinecolor\":\"white\"},\"yaxis\":{\"backgroundcolor\":\"#E5ECF6\",\"gridcolor\":\"white\",\"gridwidth\":2,\"linecolor\":\"white\",\"showbackground\":true,\"ticks\":\"\",\"zerolinecolor\":\"white\"},\"zaxis\":{\"backgroundcolor\":\"#E5ECF6\",\"gridcolor\":\"white\",\"gridwidth\":2,\"linecolor\":\"white\",\"showbackground\":true,\"ticks\":\"\",\"zerolinecolor\":\"white\"}},\"shapedefaults\":{\"line\":{\"color\":\"#2a3f5f\"}},\"ternary\":{\"aaxis\":{\"gridcolor\":\"white\",\"linecolor\":\"white\",\"ticks\":\"\"},\"baxis\":{\"gridcolor\":\"white\",\"linecolor\":\"white\",\"ticks\":\"\"},\"bgcolor\":\"#E5ECF6\",\"caxis\":{\"gridcolor\":\"white\",\"linecolor\":\"white\",\"ticks\":\"\"}},\"title\":{\"x\":0.05},\"xaxis\":{\"automargin\":true,\"gridcolor\":\"white\",\"linecolor\":\"white\",\"ticks\":\"\",\"title\":{\"standoff\":15},\"zerolinecolor\":\"white\",\"zerolinewidth\":2},\"yaxis\":{\"automargin\":true,\"gridcolor\":\"white\",\"linecolor\":\"white\",\"ticks\":\"\",\"title\":{\"standoff\":15},\"zerolinecolor\":\"white\",\"zerolinewidth\":2}}}},\"margin\":[5,5,5,5],\"name\":\"Plotly04991\",\"viewport_update_throttle\":200},\"id\":\"2738\",\"type\":\"panel.models.plotly.PlotlyPlot\"},{\"attributes\":{\"overlay\":{\"id\":\"2697\"}},\"id\":\"2695\",\"type\":\"BoxZoomTool\"},{\"attributes\":{},\"id\":\"2626\",\"type\":\"BasicTicker\"},{\"attributes\":{},\"id\":\"2696\",\"type\":\"ResetTool\"},{\"attributes\":{\"axis_label\":\"Neighborhood\",\"bounds\":\"auto\",\"formatter\":{\"id\":\"2651\"},\"major_label_orientation\":1.7453292519943295,\"ticker\":{\"id\":\"2623\"}},\"id\":\"2622\",\"type\":\"CategoricalAxis\"},{\"attributes\":{},\"id\":\"2744\",\"type\":\"Selection\"},{\"attributes\":{},\"id\":\"2706\",\"type\":\"Selection\"},{\"attributes\":{\"axis\":{\"id\":\"2622\"},\"grid_line_color\":null,\"ticker\":null},\"id\":\"2624\",\"type\":\"Grid\"},{\"attributes\":{},\"id\":\"2653\",\"type\":\"BasicTickFormatter\"},{\"attributes\":{\"text\":\"Top10 Expensice Neighborhoods in SFO\",\"text_color\":{\"value\":\"black\"},\"text_font_size\":{\"value\":\"12pt\"}},\"id\":\"2614\",\"type\":\"Title\"},{\"attributes\":{\"axis\":{\"id\":\"2625\"},\"dimension\":1,\"grid_line_color\":null,\"ticker\":null},\"id\":\"2628\",\"type\":\"Grid\"},{\"attributes\":{},\"id\":\"2644\",\"type\":\"Selection\"},{\"attributes\":{\"data\":{\"sale_price_sqr_foot\":{\"__ndarray__\":\"NbdCWO0yckCO/dHcbwhxQBWuopot42ZAJBUh0LQ8eEAaETHKGEd+QOU+3lDt0IJA/KDTmLVPdUA=\",\"dtype\":\"float64\",\"shape\":[7]},\"year\":[2010,2011,2012,2013,2014,2015,2016]},\"selected\":{\"id\":\"2706\"},\"selection_policy\":{\"id\":\"2726\"}},\"id\":\"2705\",\"type\":\"ColumnDataSource\"},{\"attributes\":{},\"id\":\"2620\",\"type\":\"LinearScale\"},{\"attributes\":{\"line_color\":\"#1f77b3\",\"line_width\":2,\"x\":{\"field\":\"year\"},\"y\":{\"field\":\"sale_price_sqr_foot\"}},\"id\":\"2708\",\"type\":\"Line\"},{\"attributes\":{\"margin\":[5,5,5,5],\"name\":\"VSpacer04986\",\"sizing_mode\":\"stretch_height\"},\"id\":\"2732\",\"type\":\"Spacer\"},{\"attributes\":{},\"id\":\"2629\",\"type\":\"SaveTool\"},{\"attributes\":{\"children\":[{\"id\":\"2601\"},{\"id\":\"2602\"},{\"id\":\"2603\"}],\"margin\":[0,0,0,0],\"name\":\"Row04915\"},\"id\":\"2600\",\"type\":\"Row\"},{\"attributes\":{\"margin\":[20,20,20,20],\"min_width\":250,\"options\":[\"Alamo Square\",\"Anza Vista\",\"Bayview\",\"Buena Vista Park\",\"Central Richmond\",\"Central Sunset\",\"Corona Heights\",\"Cow Hollow\",\"Croker Amazon\",\"Diamond Heights\",\"Downtown \",\"Eureka Valley/Dolores Heights\",\"Excelsior\",\"Financial District North\",\"Financial District South\",\"Forest Knolls\",\"Glen Park\",\"Golden Gate Heights\",\"Haight Ashbury\",\"Hayes Valley\",\"Hunters Point\",\"Ingleside \",\"Inner Mission\",\"Inner Parkside\",\"Inner Richmond\",\"Inner Sunset\",\"Jordan Park/Laurel Heights\",\"Lake --The Presidio\",\"Lone Mountain\",\"Lower Pacific Heights\",\"Marina\",\"Miraloma Park\",\"Mission Bay\",\"Mission Dolores\",\"Mission Terrace\",\"Nob Hill\",\"Noe Valley\",\"Oceanview\",\"Outer Parkside\",\"Outer Richmond \",\"Outer Sunset\",\"Pacific Heights\",\"Park North\",\"Parkside\",\"Parnassus/Ashbury Heights\",\"Portola\",\"Potrero Hill\",\"Presidio Heights\",\"Russian Hill\",\"South Beach\",\"South of Market\",\"Sunnyside\",\"Telegraph Hill\",\"Twin Peaks\",\"Union Square District\",\"Van Ness/ Civic Center\",\"West Portal\",\"Western Addition\",\"Yerba Buena\",\"Bernal Heights \",\"Clarendon Heights\",\"Duboce Triangle\",\"Ingleside Heights\",\"North Beach\",\"North Waterfront\",\"Outer Mission\",\"Westwood Highlands\",\"Merced Heights\",\"Midtown Terrace\",\"Visitacion Valley\",\"Silver Terrace\",\"Westwood Park\",\"Bayview Heights\"],\"title\":\"neighborhood\",\"value\":\"Alamo Square\",\"width\":250},\"id\":\"2731\",\"type\":\"Select\"},{\"attributes\":{\"_render_count\":0,\"config\":null,\"data\":[{\"dimensions\":[{\"label\":\"neighborhood\",\"values\":[\"Union Square District\",\"Merced Heights\",\"Miraloma Park\",\"Pacific Heights\",\"Westwood Park\",\"Telegraph Hill\",\"Presidio Heights\",\"Cow Hollow\",\"Potrero Hill\",\"South Beach\"]},{\"label\":\"sale_price_sqr_foot\"},{\"label\":\"housing_units\"},{\"label\":\"gross_rent\"}],\"domain\":{\"x\":[0.0,1.0],\"y\":[0.0,1.0]},\"line\":{\"coloraxis\":\"coloraxis\"},\"name\":\"\",\"type\":\"parcats\"}],\"data_sources\":[{\"id\":\"2735\"}],\"layout\":{\"coloraxis\":{\"colorbar\":{\"title\":{\"text\":\"sale_price_sqr_foot\"}},\"colorscale\":[[0.0,\"#000004\"],[0.1111111111111111,\"#1b0c41\"],[0.2222222222222222,\"#4a0c6b\"],[0.3333333333333333,\"#781c6d\"],[0.4444444444444444,\"#a52c60\"],[0.5555555555555556,\"#cf4446\"],[0.6666666666666666,\"#ed6925\"],[0.7777777777777778,\"#fb9b06\"],[0.8888888888888888,\"#f7d13d\"],[1.0,\"#fcffa4\"]]},\"legend\":{\"tracegroupgap\":0},\"margin\":{\"t\":60},\"template\":{\"data\":{\"bar\":[{\"error_x\":{\"color\":\"#2a3f5f\"},\"error_y\":{\"color\":\"#2a3f5f\"},\"marker\":{\"line\":{\"color\":\"#E5ECF6\",\"width\":0.5},\"pattern\":{\"fillmode\":\"overlay\",\"size\":10,\"solidity\":0.2}},\"type\":\"bar\"}],\"barpolar\":[{\"marker\":{\"line\":{\"color\":\"#E5ECF6\",\"width\":0.5},\"pattern\":{\"fillmode\":\"overlay\",\"size\":10,\"solidity\":0.2}},\"type\":\"barpolar\"}],\"carpet\":[{\"aaxis\":{\"endlinecolor\":\"#2a3f5f\",\"gridcolor\":\"white\",\"linecolor\":\"white\",\"minorgridcolor\":\"white\",\"startlinecolor\":\"#2a3f5f\"},\"baxis\":{\"endlinecolor\":\"#2a3f5f\",\"gridcolor\":\"white\",\"linecolor\":\"white\",\"minorgridcolor\":\"white\",\"startlinecolor\":\"#2a3f5f\"},\"type\":\"carpet\"}],\"choropleth\":[{\"colorbar\":{\"outlinewidth\":0,\"ticks\":\"\"},\"type\":\"choropleth\"}],\"contour\":[{\"colorbar\":{\"outlinewidth\":0,\"ticks\":\"\"},\"colorscale\":[[0.0,\"#0d0887\"],[0.1111111111111111,\"#46039f\"],[0.2222222222222222,\"#7201a8\"],[0.3333333333333333,\"#9c179e\"],[0.4444444444444444,\"#bd3786\"],[0.5555555555555556,\"#d8576b\"],[0.6666666666666666,\"#ed7953\"],[0.7777777777777778,\"#fb9f3a\"],[0.8888888888888888,\"#fdca26\"],[1.0,\"#f0f921\"]],\"type\":\"contour\"}],\"contourcarpet\":[{\"colorbar\":{\"outlinewidth\":0,\"ticks\":\"\"},\"type\":\"contourcarpet\"}],\"heatmap\":[{\"colorbar\":{\"outlinewidth\":0,\"ticks\":\"\"},\"colorscale\":[[0.0,\"#0d0887\"],[0.1111111111111111,\"#46039f\"],[0.2222222222222222,\"#7201a8\"],[0.3333333333333333,\"#9c179e\"],[0.4444444444444444,\"#bd3786\"],[0.5555555555555556,\"#d8576b\"],[0.6666666666666666,\"#ed7953\"],[0.7777777777777778,\"#fb9f3a\"],[0.8888888888888888,\"#fdca26\"],[1.0,\"#f0f921\"]],\"type\":\"heatmap\"}],\"heatmapgl\":[{\"colorbar\":{\"outlinewidth\":0,\"ticks\":\"\"},\"colorscale\":[[0.0,\"#0d0887\"],[0.1111111111111111,\"#46039f\"],[0.2222222222222222,\"#7201a8\"],[0.3333333333333333,\"#9c179e\"],[0.4444444444444444,\"#bd3786\"],[0.5555555555555556,\"#d8576b\"],[0.6666666666666666,\"#ed7953\"],[0.7777777777777778,\"#fb9f3a\"],[0.8888888888888888,\"#fdca26\"],[1.0,\"#f0f921\"]],\"type\":\"heatmapgl\"}],\"histogram\":[{\"marker\":{\"pattern\":{\"fillmode\":\"overlay\",\"size\":10,\"solidity\":0.2}},\"type\":\"histogram\"}],\"histogram2d\":[{\"colorbar\":{\"outlinewidth\":0,\"ticks\":\"\"},\"colorscale\":[[0.0,\"#0d0887\"],[0.1111111111111111,\"#46039f\"],[0.2222222222222222,\"#7201a8\"],[0.3333333333333333,\"#9c179e\"],[0.4444444444444444,\"#bd3786\"],[0.5555555555555556,\"#d8576b\"],[0.6666666666666666,\"#ed7953\"],[0.7777777777777778,\"#fb9f3a\"],[0.8888888888888888,\"#fdca26\"],[1.0,\"#f0f921\"]],\"type\":\"histogram2d\"}],\"histogram2dcontour\":[{\"colorbar\":{\"outlinewidth\":0,\"ticks\":\"\"},\"colorscale\":[[0.0,\"#0d0887\"],[0.1111111111111111,\"#46039f\"],[0.2222222222222222,\"#7201a8\"],[0.3333333333333333,\"#9c179e\"],[0.4444444444444444,\"#bd3786\"],[0.5555555555555556,\"#d8576b\"],[0.6666666666666666,\"#ed7953\"],[0.7777777777777778,\"#fb9f3a\"],[0.8888888888888888,\"#fdca26\"],[1.0,\"#f0f921\"]],\"type\":\"histogram2dcontour\"}],\"mesh3d\":[{\"colorbar\":{\"outlinewidth\":0,\"ticks\":\"\"},\"type\":\"mesh3d\"}],\"parcoords\":[{\"line\":{\"colorbar\":{\"outlinewidth\":0,\"ticks\":\"\"}},\"type\":\"parcoords\"}],\"pie\":[{\"automargin\":true,\"type\":\"pie\"}],\"scatter\":[{\"marker\":{\"colorbar\":{\"outlinewidth\":0,\"ticks\":\"\"}},\"type\":\"scatter\"}],\"scatter3d\":[{\"line\":{\"colorbar\":{\"outlinewidth\":0,\"ticks\":\"\"}},\"marker\":{\"colorbar\":{\"outlinewidth\":0,\"ticks\":\"\"}},\"type\":\"scatter3d\"}],\"scattercarpet\":[{\"marker\":{\"colorbar\":{\"outlinewidth\":0,\"ticks\":\"\"}},\"type\":\"scattercarpet\"}],\"scattergeo\":[{\"marker\":{\"colorbar\":{\"outlinewidth\":0,\"ticks\":\"\"}},\"type\":\"scattergeo\"}],\"scattergl\":[{\"marker\":{\"colorbar\":{\"outlinewidth\":0,\"ticks\":\"\"}},\"type\":\"scattergl\"}],\"scattermapbox\":[{\"marker\":{\"colorbar\":{\"outlinewidth\":0,\"ticks\":\"\"}},\"type\":\"scattermapbox\"}],\"scatterpolar\":[{\"marker\":{\"colorbar\":{\"outlinewidth\":0,\"ticks\":\"\"}},\"type\":\"scatterpolar\"}],\"scatterpolargl\":[{\"marker\":{\"colorbar\":{\"outlinewidth\":0,\"ticks\":\"\"}},\"type\":\"scatterpolargl\"}],\"scatterternary\":[{\"marker\":{\"colorbar\":{\"outlinewidth\":0,\"ticks\":\"\"}},\"type\":\"scatterternary\"}],\"surface\":[{\"colorbar\":{\"outlinewidth\":0,\"ticks\":\"\"},\"colorscale\":[[0.0,\"#0d0887\"],[0.1111111111111111,\"#46039f\"],[0.2222222222222222,\"#7201a8\"],[0.3333333333333333,\"#9c179e\"],[0.4444444444444444,\"#bd3786\"],[0.5555555555555556,\"#d8576b\"],[0.6666666666666666,\"#ed7953\"],[0.7777777777777778,\"#fb9f3a\"],[0.8888888888888888,\"#fdca26\"],[1.0,\"#f0f921\"]],\"type\":\"surface\"}],\"table\":[{\"cells\":{\"fill\":{\"color\":\"#EBF0F8\"},\"line\":{\"color\":\"white\"}},\"header\":{\"fill\":{\"color\":\"#C8D4E3\"},\"line\":{\"color\":\"white\"}},\"type\":\"table\"}]},\"layout\":{\"annotationdefaults\":{\"arrowcolor\":\"#2a3f5f\",\"arrowhead\":0,\"arrowwidth\":1},\"autotypenumbers\":\"strict\",\"coloraxis\":{\"colorbar\":{\"outlinewidth\":0,\"ticks\":\"\"}},\"colorscale\":{\"diverging\":[[0,\"#8e0152\"],[0.1,\"#c51b7d\"],[0.2,\"#de77ae\"],[0.3,\"#f1b6da\"],[0.4,\"#fde0ef\"],[0.5,\"#f7f7f7\"],[0.6,\"#e6f5d0\"],[0.7,\"#b8e186\"],[0.8,\"#7fbc41\"],[0.9,\"#4d9221\"],[1,\"#276419\"]],\"sequential\":[[0.0,\"#0d0887\"],[0.1111111111111111,\"#46039f\"],[0.2222222222222222,\"#7201a8\"],[0.3333333333333333,\"#9c179e\"],[0.4444444444444444,\"#bd3786\"],[0.5555555555555556,\"#d8576b\"],[0.6666666666666666,\"#ed7953\"],[0.7777777777777778,\"#fb9f3a\"],[0.8888888888888888,\"#fdca26\"],[1.0,\"#f0f921\"]],\"sequentialminus\":[[0.0,\"#0d0887\"],[0.1111111111111111,\"#46039f\"],[0.2222222222222222,\"#7201a8\"],[0.3333333333333333,\"#9c179e\"],[0.4444444444444444,\"#bd3786\"],[0.5555555555555556,\"#d8576b\"],[0.6666666666666666,\"#ed7953\"],[0.7777777777777778,\"#fb9f3a\"],[0.8888888888888888,\"#fdca26\"],[1.0,\"#f0f921\"]]},\"colorway\":[\"#636efa\",\"#EF553B\",\"#00cc96\",\"#ab63fa\",\"#FFA15A\",\"#19d3f3\",\"#FF6692\",\"#B6E880\",\"#FF97FF\",\"#FECB52\"],\"font\":{\"color\":\"#2a3f5f\"},\"geo\":{\"bgcolor\":\"white\",\"lakecolor\":\"white\",\"landcolor\":\"#E5ECF6\",\"showlakes\":true,\"showland\":true,\"subunitcolor\":\"white\"},\"hoverlabel\":{\"align\":\"left\"},\"hovermode\":\"closest\",\"mapbox\":{\"style\":\"light\"},\"paper_bgcolor\":\"white\",\"plot_bgcolor\":\"#E5ECF6\",\"polar\":{\"angularaxis\":{\"gridcolor\":\"white\",\"linecolor\":\"white\",\"ticks\":\"\"},\"bgcolor\":\"#E5ECF6\",\"radialaxis\":{\"gridcolor\":\"white\",\"linecolor\":\"white\",\"ticks\":\"\"}},\"scene\":{\"xaxis\":{\"backgroundcolor\":\"#E5ECF6\",\"gridcolor\":\"white\",\"gridwidth\":2,\"linecolor\":\"white\",\"showbackground\":true,\"ticks\":\"\",\"zerolinecolor\":\"white\"},\"yaxis\":{\"backgroundcolor\":\"#E5ECF6\",\"gridcolor\":\"white\",\"gridwidth\":2,\"linecolor\":\"white\",\"showbackground\":true,\"ticks\":\"\",\"zerolinecolor\":\"white\"},\"zaxis\":{\"backgroundcolor\":\"#E5ECF6\",\"gridcolor\":\"white\",\"gridwidth\":2,\"linecolor\":\"white\",\"showbackground\":true,\"ticks\":\"\",\"zerolinecolor\":\"white\"}},\"shapedefaults\":{\"line\":{\"color\":\"#2a3f5f\"}},\"ternary\":{\"aaxis\":{\"gridcolor\":\"white\",\"linecolor\":\"white\",\"ticks\":\"\"},\"baxis\":{\"gridcolor\":\"white\",\"linecolor\":\"white\",\"ticks\":\"\"},\"bgcolor\":\"#E5ECF6\",\"caxis\":{\"gridcolor\":\"white\",\"linecolor\":\"white\",\"ticks\":\"\"}},\"title\":{\"x\":0.05},\"xaxis\":{\"automargin\":true,\"gridcolor\":\"white\",\"linecolor\":\"white\",\"ticks\":\"\",\"title\":{\"standoff\":15},\"zerolinecolor\":\"white\",\"zerolinewidth\":2},\"yaxis\":{\"automargin\":true,\"gridcolor\":\"white\",\"linecolor\":\"white\",\"ticks\":\"\",\"title\":{\"standoff\":15},\"zerolinecolor\":\"white\",\"zerolinewidth\":2}}}},\"margin\":[5,5,5,5],\"name\":\"Plotly04989\",\"viewport_update_throttle\":200},\"id\":\"2736\",\"type\":\"panel.models.plotly.PlotlyPlot\"},{\"attributes\":{},\"id\":\"2630\",\"type\":\"PanTool\"},{\"attributes\":{},\"id\":\"2664\",\"type\":\"UnionRenderers\"},{\"attributes\":{\"children\":[{\"id\":\"2596\"},{\"id\":\"2598\"}],\"margin\":[0,0,0,0],\"name\":\"Row04908\"},\"id\":\"2595\",\"type\":\"Row\"},{\"attributes\":{},\"id\":\"2715\",\"type\":\"BasicTickFormatter\"},{\"attributes\":{},\"id\":\"2631\",\"type\":\"WheelZoomTool\"},{\"attributes\":{\"line_alpha\":0.1,\"line_color\":\"#1f77b3\",\"line_width\":2,\"x\":{\"field\":\"year\"},\"y\":{\"field\":\"sale_price_sqr_foot\"}},\"id\":\"2709\",\"type\":\"Line\"},{\"attributes\":{\"margin\":[0,0,0,0],\"tabs\":[{\"id\":\"2599\"},{\"id\":\"2604\"},{\"id\":\"2733\"},{\"id\":\"2739\"}]},\"id\":\"2594\",\"type\":\"Tabs\"},{\"attributes\":{\"child\":{\"id\":\"2605\"},\"name\":\"Column04988\",\"title\":\"Neighborhood Analysis\"},\"id\":\"2733\",\"type\":\"Panel\"},{\"attributes\":{\"children\":[{\"id\":\"2609\"}],\"margin\":[0,0,0,0],\"name\":\"Row04977\"},\"id\":\"2608\",\"type\":\"Row\"},{\"attributes\":{\"children\":[{\"id\":\"2606\"},{\"id\":\"2671\"}],\"margin\":[0,0,0,0],\"name\":\"Column04988\"},\"id\":\"2605\",\"type\":\"Column\"},{\"attributes\":{\"overlay\":{\"id\":\"2634\"}},\"id\":\"2632\",\"type\":\"BoxZoomTool\"},{\"attributes\":{},\"id\":\"2713\",\"type\":\"BasicTickFormatter\"},{\"attributes\":{\"children\":[{\"id\":\"2597\"}],\"margin\":[0,0,0,0],\"name\":\"Column04905\"},\"id\":\"2596\",\"type\":\"Column\"},{\"attributes\":{\"child\":{\"id\":\"2734\"},\"name\":\"Column04993\",\"title\":\"Interactive Market Analysis By Neighborhood\"},\"id\":\"2739\",\"type\":\"Panel\"},{\"attributes\":{},\"id\":\"2633\",\"type\":\"ResetTool\"},{\"attributes\":{\"height\":288,\"margin\":[5,5,5,5],\"name\":\"Matplotlib04913\",\"text\":\"&lt;img src=&quot;data:image/png;base64,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&quot; width=&quot;432px&quot; height=&quot;288px&quot; alt=&quot;&quot;&gt;&lt;/img&gt;\",\"width\":432},\"id\":\"2603\",\"type\":\"panel.models.markup.HTML\"},{\"attributes\":{\"client_comm_id\":\"79341d67026b429696c4453f98cd4e25\",\"comm_id\":\"418a383b3d5a4303a358894bdb3d1612\",\"plot_id\":\"2594\"},\"id\":\"2800\",\"type\":\"panel.models.comm_manager.CommManager\"},{\"attributes\":{\"margin\":[5,5,5,5],\"name\":\"DataFrame04906\",\"text\":\"&lt;table border=&quot;0&quot; class=&quot;dataframe panel-df&quot;&gt;\\n  &lt;thead&gt;\\n    &lt;tr style=&quot;text-align: right;&quot;&gt;\\n      &lt;th&gt;&lt;/th&gt;\\n      &lt;th&gt;Neighborhood&lt;/th&gt;\\n      &lt;th&gt;sale_price_sqr_foot&lt;/th&gt;\\n      &lt;th&gt;housing_units&lt;/th&gt;\\n      &lt;th&gt;gross_rent&lt;/th&gt;\\n      &lt;th&gt;Lat&lt;/th&gt;\\n      &lt;th&gt;Lon&lt;/th&gt;\\n    &lt;/tr&gt;\\n  &lt;/thead&gt;\\n  &lt;tbody&gt;\\n    &lt;tr&gt;\\n      &lt;th&gt;0&lt;/th&gt;\\n      &lt;td&gt;Alamo Square&lt;/td&gt;\\n      &lt;td&gt;366.020712&lt;/td&gt;\\n      &lt;td&gt;378401.00&lt;/td&gt;\\n      &lt;td&gt;2817.285714&lt;/td&gt;\\n      &lt;td&gt;37.791012&lt;/td&gt;\\n      &lt;td&gt;-122.402100&lt;/td&gt;\\n    &lt;/tr&gt;\\n    &lt;tr&gt;\\n      &lt;th&gt;1&lt;/th&gt;\\n      &lt;td&gt;Anza Vista&lt;/td&gt;\\n      &lt;td&gt;373.382198&lt;/td&gt;\\n      &lt;td&gt;379050.00&lt;/td&gt;\\n      &lt;td&gt;3031.833333&lt;/td&gt;\\n      &lt;td&gt;37.779598&lt;/td&gt;\\n      &lt;td&gt;-122.443451&lt;/td&gt;\\n    &lt;/tr&gt;\\n    &lt;tr&gt;\\n      &lt;th&gt;2&lt;/th&gt;\\n      &lt;td&gt;Bayview&lt;/td&gt;\\n      &lt;td&gt;204.588623&lt;/td&gt;\\n      &lt;td&gt;376454.00&lt;/td&gt;\\n      &lt;td&gt;2318.400000&lt;/td&gt;\\n      &lt;td&gt;37.734670&lt;/td&gt;\\n      &lt;td&gt;-122.401060&lt;/td&gt;\\n    &lt;/tr&gt;\\n    &lt;tr&gt;\\n      &lt;th&gt;3&lt;/th&gt;\\n      &lt;td&gt;Bayview Heights&lt;/td&gt;\\n      &lt;td&gt;590.792839&lt;/td&gt;\\n      &lt;td&gt;382295.00&lt;/td&gt;\\n      &lt;td&gt;3739.000000&lt;/td&gt;\\n      &lt;td&gt;37.728740&lt;/td&gt;\\n      &lt;td&gt;-122.410980&lt;/td&gt;\\n    &lt;/tr&gt;\\n    &lt;tr&gt;\\n      &lt;th&gt;4&lt;/th&gt;\\n      &lt;td&gt;Buena Vista Park&lt;/td&gt;\\n      &lt;td&gt;452.680591&lt;/td&gt;\\n      &lt;td&gt;378076.50&lt;/td&gt;\\n      &lt;td&gt;2698.833333&lt;/td&gt;\\n      &lt;td&gt;37.768160&lt;/td&gt;\\n      &lt;td&gt;-122.439330&lt;/td&gt;\\n    &lt;/tr&gt;\\n    &lt;tr&gt;\\n      &lt;th&gt;5&lt;/th&gt;\\n      &lt;td&gt;Central Richmond&lt;/td&gt;\\n      &lt;td&gt;394.422399&lt;/td&gt;\\n      &lt;td&gt;378401.00&lt;/td&gt;\\n      &lt;td&gt;2817.285714&lt;/td&gt;\\n      &lt;td&gt;37.777890&lt;/td&gt;\\n      &lt;td&gt;-122.445170&lt;/td&gt;\\n    &lt;/tr&gt;\\n    &lt;tr&gt;\\n      &lt;th&gt;6&lt;/th&gt;\\n      &lt;td&gt;Central Sunset&lt;/td&gt;\\n      &lt;td&gt;423.687928&lt;/td&gt;\\n      &lt;td&gt;378401.00&lt;/td&gt;\\n      &lt;td&gt;2817.285714&lt;/td&gt;\\n      &lt;td&gt;37.749610&lt;/td&gt;\\n      &lt;td&gt;-122.489990&lt;/td&gt;\\n    &lt;/tr&gt;\\n    &lt;tr&gt;\\n      &lt;th&gt;7&lt;/th&gt;\\n      &lt;td&gt;Clarendon Heights&lt;/td&gt;\\n      &lt;td&gt;487.244886&lt;/td&gt;\\n      &lt;td&gt;376454.00&lt;/td&gt;\\n      &lt;td&gt;2250.500000&lt;/td&gt;\\n      &lt;td&gt;37.753310&lt;/td&gt;\\n      &lt;td&gt;-122.447030&lt;/td&gt;\\n    &lt;/tr&gt;\\n    &lt;tr&gt;\\n      &lt;th&gt;8&lt;/th&gt;\\n      &lt;td&gt;Corona Heights&lt;/td&gt;\\n      &lt;td&gt;587.539067&lt;/td&gt;\\n      &lt;td&gt;377232.80&lt;/td&gt;\\n      &lt;td&gt;2472.000000&lt;/td&gt;\\n      &lt;td&gt;37.785530&lt;/td&gt;\\n      &lt;td&gt;-122.456000&lt;/td&gt;\\n    &lt;/tr&gt;\\n    &lt;tr&gt;\\n      &lt;th&gt;9&lt;/th&gt;\\n      &lt;td&gt;Cow Hollow&lt;/td&gt;\\n      &lt;td&gt;665.964042&lt;/td&gt;\\n      &lt;td&gt;378401.00&lt;/td&gt;\\n      &lt;td&gt;2817.285714&lt;/td&gt;\\n      &lt;td&gt;37.792980&lt;/td&gt;\\n      &lt;td&gt;-122.435790&lt;/td&gt;\\n    &lt;/tr&gt;\\n    &lt;tr&gt;\\n      &lt;th&gt;10&lt;/th&gt;\\n      &lt;td&gt;Croker Amazon&lt;/td&gt;\\n      &lt;td&gt;303.004184&lt;/td&gt;\\n      &lt;td&gt;378076.50&lt;/td&gt;\\n      &lt;td&gt;2698.833333&lt;/td&gt;\\n      &lt;td&gt;37.722800&lt;/td&gt;\\n      &lt;td&gt;-122.438690&lt;/td&gt;\\n    &lt;/tr&gt;\\n    &lt;tr&gt;\\n      &lt;th&gt;11&lt;/th&gt;\\n      &lt;td&gt;Diamond Heights&lt;/td&gt;\\n      &lt;td&gt;434.991739&lt;/td&gt;\\n      &lt;td&gt;375480.50&lt;/td&gt;\\n      &lt;td&gt;2016.000000&lt;/td&gt;\\n      &lt;td&gt;37.728630&lt;/td&gt;\\n      &lt;td&gt;-122.443050&lt;/td&gt;\\n    &lt;/tr&gt;\\n    &lt;tr&gt;\\n      &lt;th&gt;12&lt;/th&gt;\\n      &lt;td&gt;Duboce Triangle&lt;/td&gt;\\n      &lt;td&gt;502.599156&lt;/td&gt;\\n      &lt;td&gt;378401.00&lt;/td&gt;\\n      &lt;td&gt;2780.250000&lt;/td&gt;\\n      &lt;td&gt;37.769640&lt;/td&gt;\\n      &lt;td&gt;-122.426110&lt;/td&gt;\\n    &lt;/tr&gt;\\n    &lt;tr&gt;\\n      &lt;th&gt;13&lt;/th&gt;\\n      &lt;td&gt;Eureka Valley/Dolores Heights&lt;/td&gt;\\n      &lt;td&gt;642.248671&lt;/td&gt;\\n      &lt;td&gt;378401.00&lt;/td&gt;\\n      &lt;td&gt;2817.285714&lt;/td&gt;\\n      &lt;td&gt;37.755540&lt;/td&gt;\\n      &lt;td&gt;-122.437790&lt;/td&gt;\\n    &lt;/tr&gt;\\n    &lt;tr&gt;\\n      &lt;th&gt;14&lt;/th&gt;\\n      &lt;td&gt;Excelsior&lt;/td&gt;\\n      &lt;td&gt;388.765927&lt;/td&gt;\\n      &lt;td&gt;379050.00&lt;/td&gt;\\n      &lt;td&gt;3031.833333&lt;/td&gt;\\n      &lt;td&gt;37.728740&lt;/td&gt;\\n      &lt;td&gt;-122.410980&lt;/td&gt;\\n    &lt;/tr&gt;\\n    &lt;tr&gt;\\n      &lt;th&gt;15&lt;/th&gt;\\n      &lt;td&gt;Financial District North&lt;/td&gt;\\n      &lt;td&gt;391.362533&lt;/td&gt;\\n      &lt;td&gt;378401.00&lt;/td&gt;\\n      &lt;td&gt;2817.285714&lt;/td&gt;\\n      &lt;td&gt;37.791010&lt;/td&gt;\\n      &lt;td&gt;-122.402100&lt;/td&gt;\\n    &lt;/tr&gt;\\n    &lt;tr&gt;\\n      &lt;th&gt;16&lt;/th&gt;\\n      &lt;td&gt;Financial District South&lt;/td&gt;\\n      &lt;td&gt;455.836212&lt;/td&gt;\\n      &lt;td&gt;377232.80&lt;/td&gt;\\n      &lt;td&gt;2472.000000&lt;/td&gt;\\n      &lt;td&gt;37.791010&lt;/td&gt;\\n      &lt;td&gt;-122.402100&lt;/td&gt;\\n    &lt;/tr&gt;\\n    &lt;tr&gt;\\n      &lt;th&gt;17&lt;/th&gt;\\n      &lt;td&gt;Forest Knolls&lt;/td&gt;\\n      &lt;td&gt;321.840837&lt;/td&gt;\\n      &lt;td&gt;374507.00&lt;/td&gt;\\n      &lt;td&gt;1781.500000&lt;/td&gt;\\n      &lt;td&gt;37.757060&lt;/td&gt;\\n      &lt;td&gt;-122.455090&lt;/td&gt;\\n    &lt;/tr&gt;\\n    &lt;tr&gt;\\n      &lt;th&gt;18&lt;/th&gt;\\n      &lt;td&gt;Glen Park&lt;/td&gt;\\n      &lt;td&gt;623.826178&lt;/td&gt;\\n      &lt;td&gt;378725.50&lt;/td&gt;\\n      &lt;td&gt;2899.500000&lt;/td&gt;\\n      &lt;td&gt;37.728630&lt;/td&gt;\\n      &lt;td&gt;-122.443050&lt;/td&gt;\\n    &lt;/tr&gt;\\n    &lt;tr&gt;\\n      &lt;th&gt;19&lt;/th&gt;\\n      &lt;td&gt;Golden Gate Heights&lt;/td&gt;\\n      &lt;td&gt;639.393557&lt;/td&gt;\\n      &lt;td&gt;377622.20&lt;/td&gt;\\n      &lt;td&gt;2601.400000&lt;/td&gt;\\n      &lt;td&gt;37.757912&lt;/td&gt;\\n      &lt;td&gt;-122.464020&lt;/td&gt;\\n    &lt;/tr&gt;\\n    &lt;tr&gt;\\n      &lt;th&gt;20&lt;/th&gt;\\n      &lt;td&gt;Haight Ashbury&lt;/td&gt;\\n      &lt;td&gt;449.544762&lt;/td&gt;\\n      &lt;td&gt;378401.00&lt;/td&gt;\\n      &lt;td&gt;2817.285714&lt;/td&gt;\\n      &lt;td&gt;37.765250&lt;/td&gt;\\n      &lt;td&gt;-122.435960&lt;/td&gt;\\n    &lt;/tr&gt;\\n    &lt;tr&gt;\\n      &lt;th&gt;21&lt;/th&gt;\\n      &lt;td&gt;Hayes Valley&lt;/td&gt;\\n      &lt;td&gt;355.932828&lt;/td&gt;\\n      &lt;td&gt;378401.00&lt;/td&gt;\\n      &lt;td&gt;2817.285714&lt;/td&gt;\\n      &lt;td&gt;37.765250&lt;/td&gt;\\n      &lt;td&gt;-122.435960&lt;/td&gt;\\n    &lt;/tr&gt;\\n    &lt;tr&gt;\\n      &lt;th&gt;22&lt;/th&gt;\\n      &lt;td&gt;Hunters Point&lt;/td&gt;\\n      &lt;td&gt;170.624920&lt;/td&gt;\\n      &lt;td&gt;377427.50&lt;/td&gt;\\n      &lt;td&gt;2489.000000&lt;/td&gt;\\n      &lt;td&gt;37.725510&lt;/td&gt;\\n      &lt;td&gt;-122.371780&lt;/td&gt;\\n    &lt;/tr&gt;\\n    &lt;tr&gt;\\n      &lt;th&gt;23&lt;/th&gt;\\n      &lt;td&gt;Ingleside Heights&lt;/td&gt;\\n      &lt;td&gt;384.797928&lt;/td&gt;\\n      &lt;td&gt;379374.50&lt;/td&gt;\\n      &lt;td&gt;2960.000000&lt;/td&gt;\\n      &lt;td&gt;37.721160&lt;/td&gt;\\n      &lt;td&gt;-122.487070&lt;/td&gt;\\n    &lt;/tr&gt;\\n    &lt;tr&gt;\\n      &lt;th&gt;24&lt;/th&gt;\\n      &lt;td&gt;Inner Mission&lt;/td&gt;\\n      &lt;td&gt;397.673715&lt;/td&gt;\\n      &lt;td&gt;378401.00&lt;/td&gt;\\n      &lt;td&gt;2817.285714&lt;/td&gt;\\n      &lt;td&gt;37.754160&lt;/td&gt;\\n      &lt;td&gt;-122.419470&lt;/td&gt;\\n    &lt;/tr&gt;\\n    &lt;tr&gt;\\n      &lt;th&gt;25&lt;/th&gt;\\n      &lt;td&gt;Inner Parkside&lt;/td&gt;\\n      &lt;td&gt;519.385604&lt;/td&gt;\\n      &lt;td&gt;379861.25&lt;/td&gt;\\n      &lt;td&gt;3224.000000&lt;/td&gt;\\n      &lt;td&gt;37.749610&lt;/td&gt;\\n      &lt;td&gt;-122.489990&lt;/td&gt;\\n    &lt;/tr&gt;\\n    &lt;tr&gt;\\n      &lt;th&gt;26&lt;/th&gt;\\n      &lt;td&gt;Inner Richmond&lt;/td&gt;\\n      &lt;td&gt;378.594314&lt;/td&gt;\\n      &lt;td&gt;378401.00&lt;/td&gt;\\n      &lt;td&gt;2817.285714&lt;/td&gt;\\n      &lt;td&gt;37.769112&lt;/td&gt;\\n      &lt;td&gt;-122.483566&lt;/td&gt;\\n    &lt;/tr&gt;\\n    &lt;tr&gt;\\n      &lt;th&gt;27&lt;/th&gt;\\n      &lt;td&gt;Inner Sunset&lt;/td&gt;\\n      &lt;td&gt;413.667515&lt;/td&gt;\\n      &lt;td&gt;378401.00&lt;/td&gt;\\n      &lt;td&gt;2817.285714&lt;/td&gt;\\n      &lt;td&gt;37.749610&lt;/td&gt;\\n      &lt;td&gt;-122.489970&lt;/td&gt;\\n    &lt;/tr&gt;\\n    &lt;tr&gt;\\n      &lt;th&gt;28&lt;/th&gt;\\n      &lt;td&gt;Jordan Park/Laurel Heights&lt;/td&gt;\\n      &lt;td&gt;529.384185&lt;/td&gt;\\n      &lt;td&gt;378401.00&lt;/td&gt;\\n      &lt;td&gt;2817.285714&lt;/td&gt;\\n      &lt;td&gt;37.785530&lt;/td&gt;\\n      &lt;td&gt;-122.456000&lt;/td&gt;\\n    &lt;/tr&gt;\\n    &lt;tr&gt;\\n      &lt;th&gt;29&lt;/th&gt;\\n      &lt;td&gt;Lake --The Presidio&lt;/td&gt;\\n      &lt;td&gt;409.954352&lt;/td&gt;\\n      &lt;td&gt;377427.50&lt;/td&gt;\\n      &lt;td&gt;2555.166667&lt;/td&gt;\\n      &lt;td&gt;37.801520&lt;/td&gt;\\n      &lt;td&gt;-122.454570&lt;/td&gt;\\n    &lt;/tr&gt;\\n    &lt;tr&gt;\\n      &lt;th&gt;30&lt;/th&gt;\\n      &lt;td&gt;Lone Mountain&lt;/td&gt;\\n      &lt;td&gt;478.228553&lt;/td&gt;\\n      &lt;td&gt;377427.50&lt;/td&gt;\\n      &lt;td&gt;2555.166667&lt;/td&gt;\\n      &lt;td&gt;37.778900&lt;/td&gt;\\n      &lt;td&gt;-122.454960&lt;/td&gt;\\n    &lt;/tr&gt;\\n    &lt;tr&gt;\\n      &lt;th&gt;31&lt;/th&gt;\\n      &lt;td&gt;Lower Pacific Heights&lt;/td&gt;\\n      &lt;td&gt;539.237969&lt;/td&gt;\\n      &lt;td&gt;378401.00&lt;/td&gt;\\n      &lt;td&gt;2817.285714&lt;/td&gt;\\n      &lt;td&gt;37.792980&lt;/td&gt;\\n      &lt;td&gt;-122.435790&lt;/td&gt;\\n    &lt;/tr&gt;\\n    &lt;tr&gt;\\n      &lt;th&gt;32&lt;/th&gt;\\n      &lt;td&gt;Marina&lt;/td&gt;\\n      &lt;td&gt;583.749270&lt;/td&gt;\\n      &lt;td&gt;378401.00&lt;/td&gt;\\n      &lt;td&gt;2817.285714&lt;/td&gt;\\n      &lt;td&gt;37.799720&lt;/td&gt;\\n      &lt;td&gt;-122.466890&lt;/td&gt;\\n    &lt;/tr&gt;\\n    &lt;tr&gt;\\n      &lt;th&gt;33&lt;/th&gt;\\n      &lt;td&gt;Merced Heights&lt;/td&gt;\\n      &lt;td&gt;788.844818&lt;/td&gt;\\n      &lt;td&gt;380348.00&lt;/td&gt;\\n      &lt;td&gt;3414.000000&lt;/td&gt;\\n      &lt;td&gt;37.719930&lt;/td&gt;\\n      &lt;td&gt;-122.465950&lt;/td&gt;\\n    &lt;/tr&gt;\\n    &lt;tr&gt;\\n      &lt;th&gt;34&lt;/th&gt;\\n      &lt;td&gt;Midtown Terrace&lt;/td&gt;\\n      &lt;td&gt;550.510348&lt;/td&gt;\\n      &lt;td&gt;377427.50&lt;/td&gt;\\n      &lt;td&gt;2647.500000&lt;/td&gt;\\n      &lt;td&gt;37.753310&lt;/td&gt;\\n      &lt;td&gt;-122.447030&lt;/td&gt;\\n    &lt;/tr&gt;\\n    &lt;tr&gt;\\n      &lt;th&gt;35&lt;/th&gt;\\n      &lt;td&gt;Miraloma Park&lt;/td&gt;\\n      &lt;td&gt;779.810842&lt;/td&gt;\\n      &lt;td&gt;375967.25&lt;/td&gt;\\n      &lt;td&gt;2155.250000&lt;/td&gt;\\n      &lt;td&gt;37.734150&lt;/td&gt;\\n      &lt;td&gt;-122.457000&lt;/td&gt;\\n    &lt;/tr&gt;\\n    &lt;tr&gt;\\n      &lt;th&gt;36&lt;/th&gt;\\n      &lt;td&gt;Mission Bay&lt;/td&gt;\\n      &lt;td&gt;566.192214&lt;/td&gt;\\n      &lt;td&gt;377752.00&lt;/td&gt;\\n      &lt;td&gt;2663.666667&lt;/td&gt;\\n      &lt;td&gt;37.783230&lt;/td&gt;\\n      &lt;td&gt;-122.400650&lt;/td&gt;\\n    &lt;/tr&gt;\\n    &lt;tr&gt;\\n      &lt;th&gt;37&lt;/th&gt;\\n      &lt;td&gt;Mission Dolores&lt;/td&gt;\\n      &lt;td&gt;418.915622&lt;/td&gt;\\n      &lt;td&gt;377427.50&lt;/td&gt;\\n      &lt;td&gt;2555.166667&lt;/td&gt;\\n      &lt;td&gt;37.751840&lt;/td&gt;\\n      &lt;td&gt;-122.425220&lt;/td&gt;\\n    &lt;/tr&gt;\\n    &lt;tr&gt;\\n      &lt;th&gt;38&lt;/th&gt;\\n      &lt;td&gt;Mission Terrace&lt;/td&gt;\\n      &lt;td&gt;523.466201&lt;/td&gt;\\n      &lt;td&gt;379569.20&lt;/td&gt;\\n      &lt;td&gt;3173.400000&lt;/td&gt;\\n      &lt;td&gt;37.728630&lt;/td&gt;\\n      &lt;td&gt;-122.443050&lt;/td&gt;\\n    &lt;/tr&gt;\\n    &lt;tr&gt;\\n      &lt;th&gt;39&lt;/th&gt;\\n      &lt;td&gt;Nob Hill&lt;/td&gt;\\n      &lt;td&gt;458.204094&lt;/td&gt;\\n      &lt;td&gt;378401.00&lt;/td&gt;\\n      &lt;td&gt;2817.285714&lt;/td&gt;\\n      &lt;td&gt;37.792980&lt;/td&gt;\\n      &lt;td&gt;-122.435790&lt;/td&gt;\\n    &lt;/tr&gt;\\n    &lt;tr&gt;\\n      &lt;th&gt;40&lt;/th&gt;\\n      &lt;td&gt;Noe Valley&lt;/td&gt;\\n      &lt;td&gt;542.442913&lt;/td&gt;\\n      &lt;td&gt;378401.00&lt;/td&gt;\\n      &lt;td&gt;2817.285714&lt;/td&gt;\\n      &lt;td&gt;37.753310&lt;/td&gt;\\n      &lt;td&gt;-122.447030&lt;/td&gt;\\n    &lt;/tr&gt;\\n    &lt;tr&gt;\\n      &lt;th&gt;41&lt;/th&gt;\\n      &lt;td&gt;North Beach&lt;/td&gt;\\n      &lt;td&gt;411.646876&lt;/td&gt;\\n      &lt;td&gt;379179.80&lt;/td&gt;\\n      &lt;td&gt;2990.800000&lt;/td&gt;\\n      &lt;td&gt;37.800550&lt;/td&gt;\\n      &lt;td&gt;-122.404330&lt;/td&gt;\\n    &lt;/tr&gt;\\n    &lt;tr&gt;\\n      &lt;th&gt;42&lt;/th&gt;\\n      &lt;td&gt;North Waterfront&lt;/td&gt;\\n      &lt;td&gt;498.269755&lt;/td&gt;\\n      &lt;td&gt;378401.00&lt;/td&gt;\\n      &lt;td&gt;2818.400000&lt;/td&gt;\\n      &lt;td&gt;37.800550&lt;/td&gt;\\n      &lt;td&gt;-122.404330&lt;/td&gt;\\n    &lt;/tr&gt;\\n    &lt;tr&gt;\\n      &lt;th&gt;43&lt;/th&gt;\\n      &lt;td&gt;Oceanview&lt;/td&gt;\\n      &lt;td&gt;330.097385&lt;/td&gt;\\n      &lt;td&gt;377103.00&lt;/td&gt;\\n      &lt;td&gt;2434.000000&lt;/td&gt;\\n      &lt;td&gt;37.719930&lt;/td&gt;\\n      &lt;td&gt;-122.465950&lt;/td&gt;\\n    &lt;/tr&gt;\\n    &lt;tr&gt;\\n      &lt;th&gt;44&lt;/th&gt;\\n      &lt;td&gt;Outer Mission&lt;/td&gt;\\n      &lt;td&gt;242.370952&lt;/td&gt;\\n      &lt;td&gt;379374.50&lt;/td&gt;\\n      &lt;td&gt;2995.750000&lt;/td&gt;\\n      &lt;td&gt;37.722800&lt;/td&gt;\\n      &lt;td&gt;-122.438690&lt;/td&gt;\\n    &lt;/tr&gt;\\n    &lt;tr&gt;\\n      &lt;th&gt;45&lt;/th&gt;\\n      &lt;td&gt;Outer Parkside&lt;/td&gt;\\n      &lt;td&gt;485.027013&lt;/td&gt;\\n      &lt;td&gt;378401.00&lt;/td&gt;\\n      &lt;td&gt;2817.285714&lt;/td&gt;\\n      &lt;td&gt;37.751700&lt;/td&gt;\\n      &lt;td&gt;-122.446000&lt;/td&gt;\\n    &lt;/tr&gt;\\n    &lt;tr&gt;\\n      &lt;th&gt;46&lt;/th&gt;\\n      &lt;td&gt;Outer Sunset&lt;/td&gt;\\n      &lt;td&gt;394.219032&lt;/td&gt;\\n      &lt;td&gt;378401.00&lt;/td&gt;\\n      &lt;td&gt;2817.285714&lt;/td&gt;\\n      &lt;td&gt;37.749610&lt;/td&gt;\\n      &lt;td&gt;-122.489990&lt;/td&gt;\\n    &lt;/tr&gt;\\n    &lt;tr&gt;\\n      &lt;th&gt;47&lt;/th&gt;\\n      &lt;td&gt;Pacific Heights&lt;/td&gt;\\n      &lt;td&gt;689.555817&lt;/td&gt;\\n      &lt;td&gt;378401.00&lt;/td&gt;\\n      &lt;td&gt;2817.285714&lt;/td&gt;\\n      &lt;td&gt;37.792980&lt;/td&gt;\\n      &lt;td&gt;-122.435790&lt;/td&gt;\\n    &lt;/tr&gt;\\n    &lt;tr&gt;\\n      &lt;th&gt;48&lt;/th&gt;\\n      &lt;td&gt;Park North&lt;/td&gt;\\n      &lt;td&gt;373.732856&lt;/td&gt;\\n      &lt;td&gt;378401.00&lt;/td&gt;\\n      &lt;td&gt;2817.285714&lt;/td&gt;\\n      &lt;td&gt;37.728380&lt;/td&gt;\\n      &lt;td&gt;-122.478510&lt;/td&gt;\\n    &lt;/tr&gt;\\n    &lt;tr&gt;\\n      &lt;th&gt;49&lt;/th&gt;\\n      &lt;td&gt;Parkside&lt;/td&gt;\\n      &lt;td&gt;336.172661&lt;/td&gt;\\n      &lt;td&gt;377427.50&lt;/td&gt;\\n      &lt;td&gt;2555.166667&lt;/td&gt;\\n      &lt;td&gt;37.749610&lt;/td&gt;\\n      &lt;td&gt;-122.489990&lt;/td&gt;\\n    &lt;/tr&gt;\\n    &lt;tr&gt;\\n      &lt;th&gt;50&lt;/th&gt;\\n      &lt;td&gt;Parnassus/Ashbury Heights&lt;/td&gt;\\n      &lt;td&gt;632.740454&lt;/td&gt;\\n      &lt;td&gt;378401.00&lt;/td&gt;\\n      &lt;td&gt;2817.285714&lt;/td&gt;\\n      &lt;td&gt;37.763550&lt;/td&gt;\\n      &lt;td&gt;-122.457650&lt;/td&gt;\\n    &lt;/tr&gt;\\n    &lt;tr&gt;\\n      &lt;th&gt;51&lt;/th&gt;\\n      &lt;td&gt;Portola&lt;/td&gt;\\n      &lt;td&gt;327.113925&lt;/td&gt;\\n      &lt;td&gt;376454.00&lt;/td&gt;\\n      &lt;td&gt;2318.400000&lt;/td&gt;\\n      &lt;td&gt;37.734670&lt;/td&gt;\\n      &lt;td&gt;-122.401060&lt;/td&gt;\\n    &lt;/tr&gt;\\n    &lt;tr&gt;\\n      &lt;th&gt;52&lt;/th&gt;\\n      &lt;td&gt;Potrero Hill&lt;/td&gt;\\n      &lt;td&gt;662.013613&lt;/td&gt;\\n      &lt;td&gt;378401.00&lt;/td&gt;\\n      &lt;td&gt;2817.285714&lt;/td&gt;\\n      &lt;td&gt;37.731960&lt;/td&gt;\\n      &lt;td&gt;-122.383240&lt;/td&gt;\\n    &lt;/tr&gt;\\n    &lt;tr&gt;\\n      &lt;th&gt;53&lt;/th&gt;\\n      &lt;td&gt;Presidio Heights&lt;/td&gt;\\n      &lt;td&gt;675.350212&lt;/td&gt;\\n      &lt;td&gt;378401.00&lt;/td&gt;\\n      &lt;td&gt;2817.285714&lt;/td&gt;\\n      &lt;td&gt;37.785530&lt;/td&gt;\\n      &lt;td&gt;-122.456000&lt;/td&gt;\\n    &lt;/tr&gt;\\n    &lt;tr&gt;\\n      &lt;th&gt;54&lt;/th&gt;\\n      &lt;td&gt;Russian Hill&lt;/td&gt;\\n      &lt;td&gt;608.983217&lt;/td&gt;\\n      &lt;td&gt;378401.00&lt;/td&gt;\\n      &lt;td&gt;2817.285714&lt;/td&gt;\\n      &lt;td&gt;37.792980&lt;/td&gt;\\n      &lt;td&gt;-122.435790&lt;/td&gt;\\n    &lt;/tr&gt;\\n    &lt;tr&gt;\\n      &lt;th&gt;55&lt;/th&gt;\\n      &lt;td&gt;Silver Terrace&lt;/td&gt;\\n      &lt;td&gt;170.292549&lt;/td&gt;\\n      &lt;td&gt;380348.00&lt;/td&gt;\\n      &lt;td&gt;3528.000000&lt;/td&gt;\\n      &lt;td&gt;37.734670&lt;/td&gt;\\n      &lt;td&gt;-122.401060&lt;/td&gt;\\n    &lt;/tr&gt;\\n    &lt;tr&gt;\\n      &lt;th&gt;56&lt;/th&gt;\\n      &lt;td&gt;South Beach&lt;/td&gt;\\n      &lt;td&gt;650.124479&lt;/td&gt;\\n      &lt;td&gt;375805.00&lt;/td&gt;\\n      &lt;td&gt;2099.000000&lt;/td&gt;\\n      &lt;td&gt;37.783230&lt;/td&gt;\\n      &lt;td&gt;-122.400650&lt;/td&gt;\\n    &lt;/tr&gt;\\n    &lt;tr&gt;\\n      &lt;th&gt;57&lt;/th&gt;\\n      &lt;td&gt;South of Market&lt;/td&gt;\\n      &lt;td&gt;570.271427&lt;/td&gt;\\n      &lt;td&gt;378401.00&lt;/td&gt;\\n      &lt;td&gt;2817.285714&lt;/td&gt;\\n      &lt;td&gt;37.791010&lt;/td&gt;\\n      &lt;td&gt;-122.402100&lt;/td&gt;\\n    &lt;/tr&gt;\\n    &lt;tr&gt;\\n      &lt;th&gt;58&lt;/th&gt;\\n      &lt;td&gt;Sunnyside&lt;/td&gt;\\n      &lt;td&gt;528.318332&lt;/td&gt;\\n      &lt;td&gt;378725.50&lt;/td&gt;\\n      &lt;td&gt;2899.500000&lt;/td&gt;\\n      &lt;td&gt;37.734150&lt;/td&gt;\\n      &lt;td&gt;-122.457000&lt;/td&gt;\\n    &lt;/tr&gt;\\n    &lt;tr&gt;\\n      &lt;th&gt;59&lt;/th&gt;\\n      &lt;td&gt;Telegraph Hill&lt;/td&gt;\\n      &lt;td&gt;676.506578&lt;/td&gt;\\n      &lt;td&gt;378401.00&lt;/td&gt;\\n      &lt;td&gt;2817.285714&lt;/td&gt;\\n      &lt;td&gt;37.800550&lt;/td&gt;\\n      &lt;td&gt;-122.404330&lt;/td&gt;\\n    &lt;/tr&gt;\\n    &lt;tr&gt;\\n      &lt;th&gt;60&lt;/th&gt;\\n      &lt;td&gt;Twin Peaks&lt;/td&gt;\\n      &lt;td&gt;469.398626&lt;/td&gt;\\n      &lt;td&gt;378401.00&lt;/td&gt;\\n      &lt;td&gt;2817.285714&lt;/td&gt;\\n      &lt;td&gt;37.753311&lt;/td&gt;\\n      &lt;td&gt;-122.447029&lt;/td&gt;\\n    &lt;/tr&gt;\\n    &lt;tr&gt;\\n      &lt;th&gt;61&lt;/th&gt;\\n      &lt;td&gt;Union Square District&lt;/td&gt;\\n      &lt;td&gt;903.993258&lt;/td&gt;\\n      &lt;td&gt;377427.50&lt;/td&gt;\\n      &lt;td&gt;2555.166667&lt;/td&gt;\\n      &lt;td&gt;37.791010&lt;/td&gt;\\n      &lt;td&gt;-122.402100&lt;/td&gt;\\n    &lt;/tr&gt;\\n    &lt;tr&gt;\\n      &lt;th&gt;62&lt;/th&gt;\\n      &lt;td&gt;Van Ness/ Civic Center&lt;/td&gt;\\n      &lt;td&gt;404.150180&lt;/td&gt;\\n      &lt;td&gt;378401.00&lt;/td&gt;\\n      &lt;td&gt;2817.285714&lt;/td&gt;\\n      &lt;td&gt;37.779510&lt;/td&gt;\\n      &lt;td&gt;-122.420220&lt;/td&gt;\\n    &lt;/tr&gt;\\n    &lt;tr&gt;\\n      &lt;th&gt;63&lt;/th&gt;\\n      &lt;td&gt;Visitacion Valley&lt;/td&gt;\\n      &lt;td&gt;301.466180&lt;/td&gt;\\n      &lt;td&gt;381321.50&lt;/td&gt;\\n      &lt;td&gt;3657.000000&lt;/td&gt;\\n      &lt;td&gt;37.728740&lt;/td&gt;\\n      &lt;td&gt;-122.410980&lt;/td&gt;\\n    &lt;/tr&gt;\\n    &lt;tr&gt;\\n      &lt;th&gt;64&lt;/th&gt;\\n      &lt;td&gt;West Portal&lt;/td&gt;\\n      &lt;td&gt;498.488485&lt;/td&gt;\\n      &lt;td&gt;376940.75&lt;/td&gt;\\n      &lt;td&gt;2515.500000&lt;/td&gt;\\n      &lt;td&gt;37.740260&lt;/td&gt;\\n      &lt;td&gt;-122.463880&lt;/td&gt;\\n    &lt;/tr&gt;\\n    &lt;tr&gt;\\n      &lt;th&gt;65&lt;/th&gt;\\n      &lt;td&gt;Western Addition&lt;/td&gt;\\n      &lt;td&gt;307.562201&lt;/td&gt;\\n      &lt;td&gt;377427.50&lt;/td&gt;\\n      &lt;td&gt;2555.166667&lt;/td&gt;\\n      &lt;td&gt;37.792980&lt;/td&gt;\\n      &lt;td&gt;-122.435790&lt;/td&gt;\\n    &lt;/tr&gt;\\n    &lt;tr&gt;\\n      &lt;th&gt;66&lt;/th&gt;\\n      &lt;td&gt;Westwood Highlands&lt;/td&gt;\\n      &lt;td&gt;533.703935&lt;/td&gt;\\n      &lt;td&gt;376454.00&lt;/td&gt;\\n      &lt;td&gt;2250.500000&lt;/td&gt;\\n      &lt;td&gt;37.734700&lt;/td&gt;\\n      &lt;td&gt;-122.456854&lt;/td&gt;\\n    &lt;/tr&gt;\\n    &lt;tr&gt;\\n      &lt;th&gt;67&lt;/th&gt;\\n      &lt;td&gt;Westwood Park&lt;/td&gt;\\n      &lt;td&gt;687.087575&lt;/td&gt;\\n      &lt;td&gt;382295.00&lt;/td&gt;\\n      &lt;td&gt;3959.000000&lt;/td&gt;\\n      &lt;td&gt;37.734150&lt;/td&gt;\\n      &lt;td&gt;-122.457000&lt;/td&gt;\\n    &lt;/tr&gt;\\n    &lt;tr&gt;\\n      &lt;th&gt;68&lt;/th&gt;\\n      &lt;td&gt;Yerba Buena&lt;/td&gt;\\n      &lt;td&gt;576.709848&lt;/td&gt;\\n      &lt;td&gt;377427.50&lt;/td&gt;\\n      &lt;td&gt;2555.166667&lt;/td&gt;\\n      &lt;td&gt;37.792980&lt;/td&gt;\\n      &lt;td&gt;-122.396360&lt;/td&gt;\\n    &lt;/tr&gt;\\n  &lt;/tbody&gt;\\n&lt;/table&gt;\"},\"id\":\"2598\",\"type\":\"panel.models.markup.HTML\"},{\"attributes\":{\"fill_alpha\":{\"value\":0.2},\"fill_color\":{\"field\":\"Variable\",\"transform\":{\"id\":\"2642\"}},\"line_alpha\":{\"value\":0.2},\"top\":{\"field\":\"value\"},\"width\":{\"value\":0.8},\"x\":{\"field\":\"xoffsets\"}},\"id\":\"2648\",\"type\":\"VBar\"},{\"attributes\":{\"fill_alpha\":{\"value\":0.1},\"fill_color\":{\"field\":\"Variable\",\"transform\":{\"id\":\"2642\"}},\"line_alpha\":{\"value\":0.1},\"top\":{\"field\":\"value\"},\"width\":{\"value\":0.8},\"x\":{\"field\":\"xoffsets\"}},\"id\":\"2647\",\"type\":\"VBar\"},{\"attributes\":{\"data\":{\"dimensions.1.values\":[{\"__ndarray__\":\"qQwaMfI/jECoRMgvwqaIQLL76Zp8XohAiRQUUHKMhUCyIUlas3iFQNLwhHgNJIVArLjwO80ahUBuAHdbts+EQAPXDOEbsIRAPNQA7/5QhEA=\",\"dtype\":\"float64\",\"shape\":[10]}],\"dimensions.2.values\":[{\"__ndarray__\":\"AAAAAE4JF0EAAAAA8DYXQQAAAAB98hZBAAAAAIQYF0EAAAAAXFUXQQAAAACEGBdBAAAAAIQYF0EAAAAAhBgXQQAAAACEGBdBAAAAAPTvFkE=\",\"dtype\":\"float64\",\"shape\":[10]}],\"dimensions.3.values\":[{\"__ndarray__\":\"VVVVVVX2o0AAAAAAAKyqQAAAAACA1qBASZIkSZICpkAAAAAAAO6uQEmSJEmSAqZASZIkSZICpkBJkiRJkgKmQEmSJEmSAqZAAAAAAABmoEA=\",\"dtype\":\"float64\",\"shape\":[10]}],\"line.color\":[{\"__ndarray__\":\"qQwaMfI/jECoRMgvwqaIQLL76Zp8XohAiRQUUHKMhUCyIUlas3iFQNLwhHgNJIVArLjwO80ahUBuAHdbts+EQAPXDOEbsIRAPNQA7/5QhEA=\",\"dtype\":\"float64\",\"shape\":[10]}]},\"selected\":{\"id\":\"2742\"},\"selection_policy\":{\"id\":\"2741\"}},\"id\":\"2735\",\"type\":\"ColumnDataSource\"},{\"attributes\":{\"bottom_units\":\"screen\",\"fill_alpha\":0.5,\"fill_color\":\"lightgrey\",\"left_units\":\"screen\",\"level\":\"overlay\",\"line_alpha\":1.0,\"line_color\":\"black\",\"line_dash\":[4,4],\"line_width\":2,\"render_mode\":\"css\",\"right_units\":\"screen\",\"top_units\":\"screen\"},\"id\":\"2697\",\"type\":\"BoxAnnotation\"},{\"attributes\":{\"child\":{\"id\":\"2600\"},\"name\":\"Row04915\",\"title\":\"Market Analysis\"},\"id\":\"2604\",\"type\":\"Panel\"},{\"attributes\":{\"children\":[{\"id\":\"2675\"},{\"id\":\"2729\"}],\"margin\":[0,0,0,0],\"name\":\"Row04980\"},\"id\":\"2671\",\"type\":\"Row\"},{\"attributes\":{\"margin\":[0,0,0,0],\"name\":\"Column04978\"},\"id\":\"2607\",\"type\":\"Column\"},{\"attributes\":{},\"id\":\"2692\",\"type\":\"SaveTool\"},{\"attributes\":{\"factors\":[\"gross_rent\",\"sale_price_sqr_foot\"],\"palette\":[\"#1f77b3\",\"#ff7e0e\"]},\"id\":\"2642\",\"type\":\"CategoricalColorMapper\"},{\"attributes\":{\"data\":{\"dimensions.0.values\":[{\"__ndarray__\":\"qQwaMfI/jECoRMgvwqaIQLL76Zp8XohAiRQUUHKMhUCyIUlas3iFQNLwhHgNJIVArLjwO80ahUBuAHdbts+EQAPXDOEbsIRAPNQA7/5QhEA=\",\"dtype\":\"float64\",\"shape\":[10]}],\"dimensions.1.values\":[{\"__ndarray__\":\"AAAAAE4JF0EAAAAA8DYXQQAAAAB98hZBAAAAAIQYF0EAAAAAXFUXQQAAAACEGBdBAAAAAIQYF0EAAAAAhBgXQQAAAACEGBdBAAAAAPTvFkE=\",\"dtype\":\"float64\",\"shape\":[10]}],\"dimensions.2.values\":[{\"__ndarray__\":\"VVVVVVX2o0AAAAAAAKyqQAAAAACA1qBASZIkSZICpkAAAAAAAO6uQEmSJEmSAqZASZIkSZICpkBJkiRJkgKmQEmSJEmSAqZAAAAAAABmoEA=\",\"dtype\":\"float64\",\"shape\":[10]}],\"line.color\":[{\"__ndarray__\":\"qQwaMfI/jECoRMgvwqaIQLL76Zp8XohAiRQUUHKMhUCyIUlas3iFQNLwhHgNJIVArLjwO80ahUBuAHdbts+EQAPXDOEbsIRAPNQA7/5QhEA=\",\"dtype\":\"float64\",\"shape\":[10]}]},\"selected\":{\"id\":\"2744\"},\"selection_policy\":{\"id\":\"2743\"}},\"id\":\"2737\",\"type\":\"ColumnDataSource\"},{\"attributes\":{\"children\":[{\"id\":\"2607\"},{\"id\":\"2608\"}],\"margin\":[0,0,0,0],\"name\":\"Column04942\"},\"id\":\"2606\",\"type\":\"Column\"},{\"attributes\":{\"margin\":[5,5,5,5],\"name\":\"VSpacer04975\",\"sizing_mode\":\"stretch_height\"},\"id\":\"2670\",\"type\":\"Spacer\"},{\"attributes\":{\"margin\":[20,20,20,20],\"min_width\":250,\"options\":[\"Alamo Square\",\"Anza Vista\",\"Bayview\",\"Buena Vista Park\",\"Central Richmond\",\"Central Sunset\",\"Corona Heights\",\"Cow Hollow\",\"Croker Amazon\",\"Diamond Heights\",\"Downtown \",\"Eureka Valley/Dolores Heights\",\"Excelsior\",\"Financial District North\",\"Financial District South\",\"Forest Knolls\",\"Glen Park\",\"Golden Gate Heights\",\"Haight Ashbury\",\"Hayes Valley\",\"Hunters Point\",\"Ingleside \",\"Inner Mission\",\"Inner Parkside\",\"Inner Richmond\",\"Inner Sunset\",\"Jordan Park/Laurel Heights\",\"Lake --The Presidio\",\"Lone Mountain\",\"Lower Pacific Heights\",\"Marina\",\"Miraloma Park\",\"Mission Bay\",\"Mission Dolores\",\"Mission Terrace\",\"Nob Hill\",\"Noe Valley\",\"Oceanview\",\"Outer Parkside\",\"Outer Richmond \",\"Outer Sunset\",\"Pacific Heights\",\"Park North\",\"Parkside\",\"Parnassus/Ashbury Heights\",\"Portola\",\"Potrero Hill\",\"Presidio Heights\",\"Russian Hill\",\"South Beach\",\"South of Market\",\"Sunnyside\",\"Telegraph Hill\",\"Twin Peaks\",\"Union Square District\",\"Van Ness/ Civic Center\",\"West Portal\",\"Western Addition\",\"Yerba Buena\",\"Bernal Heights \",\"Clarendon Heights\",\"Duboce Triangle\",\"Ingleside Heights\",\"North Beach\",\"North Waterfront\",\"Outer Mission\",\"Westwood Highlands\",\"Merced Heights\",\"Midtown Terrace\",\"Visitacion Valley\",\"Silver Terrace\",\"Westwood Park\",\"Bayview Heights\"],\"title\":\"neighborhood\",\"value\":\"Alamo Square\",\"width\":250},\"id\":\"2669\",\"type\":\"Select\"},{\"attributes\":{\"bottom_units\":\"screen\",\"fill_alpha\":0.5,\"fill_color\":\"lightgrey\",\"left_units\":\"screen\",\"level\":\"overlay\",\"line_alpha\":1.0,\"line_color\":\"black\",\"line_dash\":[4,4],\"line_width\":2,\"render_mode\":\"css\",\"right_units\":\"screen\",\"top_units\":\"screen\"},\"id\":\"2634\",\"type\":\"BoxAnnotation\"},{\"attributes\":{\"fill_color\":{\"field\":\"Variable\",\"transform\":{\"id\":\"2642\"}},\"top\":{\"field\":\"value\"},\"width\":{\"value\":0.8},\"x\":{\"field\":\"xoffsets\"}},\"id\":\"2646\",\"type\":\"VBar\"},{\"attributes\":{\"active_drag\":\"auto\",\"active_inspect\":\"auto\",\"active_multi\":null,\"active_scroll\":\"auto\",\"active_tap\":\"auto\",\"tools\":[{\"id\":\"2674\"},{\"id\":\"2692\"},{\"id\":\"2693\"},{\"id\":\"2694\"},{\"id\":\"2695\"},{\"id\":\"2696\"}]},\"id\":\"2698\",\"type\":\"Toolbar\"},{\"attributes\":{\"height\":288,\"margin\":[5,5,5,5],\"name\":\"Matplotlib04911\",\"text\":\"&lt;img src=&quot;data:image/png;base64,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&quot; width=&quot;432px&quot; height=&quot;288px&quot; alt=&quot;&quot;&gt;&lt;/img&gt;\",\"width\":432},\"id\":\"2602\",\"type\":\"panel.models.markup.HTML\"},{\"attributes\":{\"child\":{\"id\":\"2595\"},\"name\":\"Row04908\",\"title\":\"Welcome\"},\"id\":\"2599\",\"type\":\"Panel\"},{\"attributes\":{\"children\":[{\"id\":\"2613\"},{\"id\":\"2667\"}],\"margin\":[0,0,0,0],\"name\":\"interactive04941\"},\"id\":\"2609\",\"type\":\"Row\"},{\"attributes\":{\"children\":[{\"id\":\"2731\"}],\"css_classes\":[\"widget-box\"],\"margin\":[5,5,5,5],\"name\":\"WidgetBox04981\"},\"id\":\"2730\",\"type\":\"Column\"},{\"attributes\":{\"end\":2016.0,\"reset_end\":2016.0,\"reset_start\":2010.0,\"start\":2010.0,\"tags\":[[[\"year\",\"year\",null]]]},\"id\":\"2672\",\"type\":\"Range1d\"},{\"attributes\":{\"active_drag\":\"auto\",\"active_inspect\":\"auto\",\"active_multi\":null,\"active_scroll\":\"auto\",\"active_tap\":\"auto\",\"tools\":[{\"id\":\"2612\"},{\"id\":\"2629\"},{\"id\":\"2630\"},{\"id\":\"2631\"},{\"id\":\"2632\"},{\"id\":\"2633\"}]},\"id\":\"2635\",\"type\":\"Toolbar\"},{\"attributes\":{\"children\":[{\"id\":\"2730\"},{\"id\":\"2732\"}],\"margin\":[0,0,0,0],\"name\":\"Column04987\"},\"id\":\"2729\",\"type\":\"Column\"},{\"attributes\":{\"line_alpha\":0.2,\"line_color\":\"#1f77b3\",\"line_width\":2,\"x\":{\"field\":\"year\"},\"y\":{\"field\":\"sale_price_sqr_foot\"}},\"id\":\"2710\",\"type\":\"Line\"},{\"attributes\":{\"text\":\"neighborhood: Alamo Square\",\"text_color\":{\"value\":\"black\"},\"text_font_size\":{\"value\":\"12pt\"}},\"id\":\"2676\",\"type\":\"Title\"},{\"attributes\":{\"source\":{\"id\":\"2643\"}},\"id\":\"2650\",\"type\":\"CDSView\"},{\"attributes\":{\"css_classes\":[\"markdown\"],\"margin\":[5,5,5,5],\"name\":\"Markdown04903\",\"text\":\"&lt;p&gt;San Francisco from 2010-2016&lt;/p&gt;\"},\"id\":\"2597\",\"type\":\"panel.models.markup.HTML\"},{\"attributes\":{},\"id\":\"2689\",\"type\":\"BasicTicker\"},{\"attributes\":{\"children\":[{\"id\":\"2668\"},{\"id\":\"2670\"}],\"margin\":[0,0,0,0],\"name\":\"Column04976\"},\"id\":\"2667\",\"type\":\"Column\"},{\"attributes\":{\"callback\":null,\"renderers\":[{\"id\":\"2711\"}],\"tags\":[\"hv_created\"],\"tooltips\":[[\"year\",\"@{year}\"],[\"sale_price_sqr_foot\",\"@{sale_price_sqr_foot}\"]]},\"id\":\"2674\",\"type\":\"HoverTool\"},{\"attributes\":{\"data_source\":{\"id\":\"2643\"},\"glyph\":{\"id\":\"2646\"},\"hover_glyph\":null,\"muted_glyph\":{\"id\":\"2648\"},\"nonselection_glyph\":{\"id\":\"2647\"},\"selection_glyph\":null,\"view\":{\"id\":\"2650\"}},\"id\":\"2649\",\"type\":\"GlyphRenderer\"},{\"attributes\":{},\"id\":\"2680\",\"type\":\"LinearScale\"},{\"attributes\":{\"end\":4810.69006831,\"reset_end\":4810.69006831,\"reset_start\":0.0,\"tags\":[[[\"value\",\"value\",null]]]},\"id\":\"2611\",\"type\":\"Range1d\"},{\"attributes\":{\"end\":644.0175329,\"reset_end\":644.0175329,\"reset_start\":141.1976609,\"start\":141.1976609,\"tags\":[[[\"sale_price_sqr_foot\",\"sale_price_sqr_foot\",null]]]},\"id\":\"2673\",\"type\":\"Range1d\"},{\"attributes\":{\"factors\":[[\"2010\",\"gross_rent\"],[\"2010\",\"sale_price_sqr_foot\"],[\"2011\",\"gross_rent\"],[\"2011\",\"sale_price_sqr_foot\"],[\"2012\",\"gross_rent\"],[\"2012\",\"sale_price_sqr_foot\"],[\"2013\",\"gross_rent\"],[\"2013\",\"sale_price_sqr_foot\"],[\"2014\",\"gross_rent\"],[\"2014\",\"sale_price_sqr_foot\"],[\"2015\",\"gross_rent\"],[\"2015\",\"sale_price_sqr_foot\"],[\"2016\",\"gross_rent\"],[\"2016\",\"sale_price_sqr_foot\"]],\"tags\":[[[\"year\",\"year\",null],[\"Variable\",\"Variable\",null]]]},\"id\":\"2610\",\"type\":\"FactorRange\"},{\"attributes\":{},\"id\":\"2651\",\"type\":\"CategoricalTickFormatter\"},{\"attributes\":{\"below\":[{\"id\":\"2622\"}],\"center\":[{\"id\":\"2624\"},{\"id\":\"2628\"}],\"left\":[{\"id\":\"2625\"}],\"margin\":null,\"min_border_bottom\":10,\"min_border_left\":10,\"min_border_right\":10,\"min_border_top\":10,\"plot_height\":500,\"plot_width\":700,\"renderers\":[{\"id\":\"2649\"}],\"sizing_mode\":\"fixed\",\"title\":{\"id\":\"2614\"},\"toolbar\":{\"id\":\"2635\"},\"x_range\":{\"id\":\"2610\"},\"x_scale\":{\"id\":\"2618\"},\"y_range\":{\"id\":\"2611\"},\"y_scale\":{\"id\":\"2620\"}},\"id\":\"2613\",\"subtype\":\"Figure\",\"type\":\"Plot\"},{\"attributes\":{},\"id\":\"2685\",\"type\":\"BasicTicker\"},{\"attributes\":{\"axis_label\":\"Avg Sale Price Per Sqr Foot\",\"bounds\":\"auto\",\"formatter\":{\"id\":\"2715\"},\"major_label_orientation\":\"horizontal\",\"ticker\":{\"id\":\"2689\"}},\"id\":\"2688\",\"type\":\"LinearAxis\"},{\"attributes\":{\"data\":{\"Variable\":[\"gross_rent\",\"gross_rent\",\"gross_rent\",\"gross_rent\",\"gross_rent\",\"gross_rent\",\"gross_rent\",\"sale_price_sqr_foot\",\"sale_price_sqr_foot\",\"sale_price_sqr_foot\",\"sale_price_sqr_foot\",\"sale_price_sqr_foot\",\"sale_price_sqr_foot\",\"sale_price_sqr_foot\"],\"value\":{\"__ndarray__\":\"AAAAAABck0AAAAAAAOiXQAAAAAAAKKJAAAAAAAA2p0AAAAAAAJCrQAAAAAAANq1AAAAAAAAmsUA1t0JY7TJyQI790dxvCHFAFa6imi3jZkAkFSHQtDx4QBoRMcoYR35A5T7eUO3QgkD8oNOYtU91QA==\",\"dtype\":\"float64\",\"shape\":[14]},\"xoffsets\":[[\"2010\",\"gross_rent\"],[\"2011\",\"gross_rent\"],[\"2012\",\"gross_rent\"],[\"2013\",\"gross_rent\"],[\"2014\",\"gross_rent\"],[\"2015\",\"gross_rent\"],[\"2016\",\"gross_rent\"],[\"2010\",\"sale_price_sqr_foot\"],[\"2011\",\"sale_price_sqr_foot\"],[\"2012\",\"sale_price_sqr_foot\"],[\"2013\",\"sale_price_sqr_foot\"],[\"2014\",\"sale_price_sqr_foot\"],[\"2015\",\"sale_price_sqr_foot\"],[\"2016\",\"sale_price_sqr_foot\"]],\"year\":[\"2010\",\"2011\",\"2012\",\"2013\",\"2014\",\"2015\",\"2016\",\"2010\",\"2011\",\"2012\",\"2013\",\"2014\",\"2015\",\"2016\"]},\"selected\":{\"id\":\"2644\"},\"selection_policy\":{\"id\":\"2664\"}},\"id\":\"2643\",\"type\":\"ColumnDataSource\"},{\"attributes\":{\"height\":288,\"margin\":[5,5,5,5],\"name\":\"Matplotlib04909\",\"text\":\"&lt;img src=&quot;data:image/png;base64,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&quot; width=&quot;432px&quot; height=&quot;288px&quot; alt=&quot;&quot;&gt;&lt;/img&gt;\",\"width\":432},\"id\":\"2601\",\"type\":\"panel.models.markup.HTML\"},{\"attributes\":{\"axis\":{\"id\":\"2684\"},\"grid_line_color\":null,\"ticker\":null},\"id\":\"2687\",\"type\":\"Grid\"},{\"attributes\":{\"below\":[{\"id\":\"2684\"}],\"center\":[{\"id\":\"2687\"},{\"id\":\"2691\"}],\"left\":[{\"id\":\"2688\"}],\"margin\":null,\"min_border_bottom\":10,\"min_border_left\":10,\"min_border_right\":10,\"min_border_top\":10,\"plot_height\":300,\"plot_width\":700,\"renderers\":[{\"id\":\"2711\"}],\"sizing_mode\":\"fixed\",\"title\":{\"id\":\"2676\"},\"toolbar\":{\"id\":\"2698\"},\"x_range\":{\"id\":\"2672\"},\"x_scale\":{\"id\":\"2680\"},\"y_range\":{\"id\":\"2673\"},\"y_scale\":{\"id\":\"2682\"}},\"id\":\"2675\",\"subtype\":\"Figure\",\"type\":\"Plot\"},{\"attributes\":{\"children\":[{\"id\":\"2669\"}],\"css_classes\":[\"widget-box\"],\"margin\":[5,5,5,5],\"name\":\"WidgetBox04970\"},\"id\":\"2668\",\"type\":\"Column\"},{\"attributes\":{},\"id\":\"2726\",\"type\":\"UnionRenderers\"},{\"attributes\":{\"callback\":null,\"renderers\":[{\"id\":\"2649\"}],\"tags\":[\"hv_created\"],\"tooltips\":[[\"year\",\"@{year}\"],[\"Variable\",\"@{Variable}\"],[\"value\",\"@{value}\"]]},\"id\":\"2612\",\"type\":\"HoverTool\"},{\"attributes\":{},\"id\":\"2682\",\"type\":\"LinearScale\"},{\"attributes\":{\"axis_label\":\"Year\",\"bounds\":\"auto\",\"formatter\":{\"id\":\"2713\"},\"major_label_orientation\":\"horizontal\",\"ticker\":{\"id\":\"2685\"}},\"id\":\"2684\",\"type\":\"LinearAxis\"},{\"attributes\":{\"source\":{\"id\":\"2705\"}},\"id\":\"2712\",\"type\":\"CDSView\"},{\"attributes\":{\"axis\":{\"id\":\"2688\"},\"dimension\":1,\"grid_line_color\":null,\"ticker\":null},\"id\":\"2691\",\"type\":\"Grid\"},{\"attributes\":{\"children\":[{\"id\":\"2736\"},{\"id\":\"2738\"}],\"margin\":[0,0,0,0],\"name\":\"Column04993\"},\"id\":\"2734\",\"type\":\"Column\"},{\"attributes\":{},\"id\":\"2741\",\"type\":\"UnionRenderers\"}],\"root_ids\":[\"2594\",\"2800\"]},\"title\":\"Bokeh Application\",\"version\":\"2.0.2\"}};\n",
       "  var render_items = [{\"docid\":\"37480ac0-5a61-4015-8a0c-132768200d27\",\"root_ids\":[\"2594\"],\"roots\":{\"2594\":\"17ee34c1-d02f-416d-8835-4cc5e57b8940\"}}];\n",
       "  root.Bokeh.embed.embed_items_notebook(docs_json, render_items);\n",
       "  }\n",
       "if (root.Bokeh !== undefined) {\n",
       "    embed_document(root);\n",
       "  } else {\n",
       "    var attempts = 0;\n",
       "    var timer = setInterval(function(root) {\n",
       "      if (root.Bokeh !== undefined) {\n",
       "        clearInterval(timer);\n",
       "        embed_document(root);\n",
       "      } else if (document.readyState == \"complete\") {\n",
       "        attempts++;\n",
       "        if (attempts > 100) {\n",
       "          clearInterval(timer);\n",
       "          console.log(\"Bokeh: ERROR: Unable to run BokehJS code because BokehJS library is missing\");\n",
       "        }\n",
       "      }\n",
       "    }, 10, root)\n",
       "  }\n",
       "})(window);</script>"
      ],
      "text/plain": [
       "Tabs\n",
       "    [0] Row\n",
       "        [0] Column\n",
       "            [0] Markdown(str)\n",
       "        [1] DataFrame(DataFrame)\n",
       "    [1] Row\n",
       "        [0] Matplotlib(Figure)\n",
       "        [1] Matplotlib(Figure)\n",
       "        [2] Matplotlib(Figure)\n",
       "    [2] Column\n",
       "        [0] Column\n",
       "            [0] Column()\n",
       "            [1] Row\n",
       "                [0] Row(name='interactive04941')\n",
       "                    [0] HoloViews(DynamicMap, name='interactive04941')\n",
       "                    [1] Column\n",
       "                        [0] WidgetBox\n",
       "                            [0] Select(margin=(20, 20, 20, 20), name='neighborhood', options=['Alamo Square', ...], value='Alamo Square', width=250)\n",
       "                        [1] VSpacer()\n",
       "        [1] Row\n",
       "            [0] HoloViews(DynamicMap)\n",
       "            [1] Column\n",
       "                [0] WidgetBox\n",
       "                    [0] Select(margin=(20, 20, 20, 20), name='neighborhood', options=['Alamo Square', ...], value='Alamo Square', width=250)\n",
       "                [1] VSpacer()\n",
       "    [3] Column\n",
       "        [0] Plotly(Figure)\n",
       "        [1] Plotly(Figure)"
      ]
     },
     "execution_count": 63,
     "metadata": {
      "application/vnd.holoviews_exec.v0+json": {
       "id": "2594"
      }
     },
     "output_type": "execute_result"
    }
   ],
   "source": [
    "# Serve the# dashboard\n",
    "SanFran.servable()"
   ]
  },
  {
   "cell_type": "markdown",
   "metadata": {},
   "source": [
    "# Debugging\n",
    "\n",
    "Note: Some of the Plotly express plots may not render in the notebook through the panel functions.\n",
    "\n",
    "However, you can test each plot by uncommenting the following code"
   ]
  },
  {
   "cell_type": "code",
   "execution_count": 55,
   "metadata": {},
   "outputs": [
    {
     "data": {},
     "metadata": {},
     "output_type": "display_data"
    },
    {
     "data": {
      "application/vnd.holoviews_exec.v0+json": "",
      "text/html": [
       "<div id='2281'>\n",
       "\n",
       "\n",
       "\n",
       "\n",
       "\n",
       "  <div class=\"bk-root\" id=\"427988a0-37cf-493f-baa8-267cb7fbceae\" data-root-id=\"2281\"></div>\n",
       "</div>\n",
       "<script type=\"application/javascript\">(function(root) {\n",
       "  function embed_document(root) {\n",
       "  var docs_json = {\"dce35356-5503-4c4d-ad6e-3c6da6568431\":{\"roots\":{\"references\":[{\"attributes\":{\"height\":288,\"margin\":[5,5,5,5],\"name\":\"Matplotlib04271\",\"text\":\"&lt;img src=&quot;data:image/png;base64,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&quot; width=&quot;432px&quot; height=&quot;288px&quot; alt=&quot;&quot;&gt;&lt;/img&gt;\",\"width\":432},\"id\":\"2281\",\"type\":\"panel.models.markup.HTML\"},{\"attributes\":{\"client_comm_id\":\"a75ac130161b40ee9bf284318ba5618f\",\"comm_id\":\"14d78d6180c449d09662349616ea5702\",\"plot_id\":\"2281\"},\"id\":\"2282\",\"type\":\"panel.models.comm_manager.CommManager\"}],\"root_ids\":[\"2281\",\"2282\"]},\"title\":\"Bokeh Application\",\"version\":\"2.0.2\"}};\n",
       "  var render_items = [{\"docid\":\"dce35356-5503-4c4d-ad6e-3c6da6568431\",\"root_ids\":[\"2281\"],\"roots\":{\"2281\":\"427988a0-37cf-493f-baa8-267cb7fbceae\"}}];\n",
       "  root.Bokeh.embed.embed_items_notebook(docs_json, render_items);\n",
       "  }\n",
       "if (root.Bokeh !== undefined) {\n",
       "    embed_document(root);\n",
       "  } else {\n",
       "    var attempts = 0;\n",
       "    var timer = setInterval(function(root) {\n",
       "      if (root.Bokeh !== undefined) {\n",
       "        clearInterval(timer);\n",
       "        embed_document(root);\n",
       "      } else if (document.readyState == \"complete\") {\n",
       "        attempts++;\n",
       "        if (attempts > 100) {\n",
       "          clearInterval(timer);\n",
       "          console.log(\"Bokeh: ERROR: Unable to run BokehJS code because BokehJS library is missing\");\n",
       "        }\n",
       "      }\n",
       "    }, 10, root)\n",
       "  }\n",
       "})(window);</script>"
      ],
      "text/plain": [
       "Matplotlib(Figure)"
      ]
     },
     "execution_count": 55,
     "metadata": {
      "application/vnd.holoviews_exec.v0+json": {
       "id": "2281"
      }
     },
     "output_type": "execute_result"
    }
   ],
   "source": [
    "housing_units_per_year()"
   ]
  },
  {
   "cell_type": "code",
   "execution_count": 56,
   "metadata": {},
   "outputs": [
    {
     "data": {},
     "metadata": {},
     "output_type": "display_data"
    },
    {
     "data": {
      "application/vnd.holoviews_exec.v0+json": "",
      "text/html": [
       "<div id='2283'>\n",
       "\n",
       "\n",
       "\n",
       "\n",
       "\n",
       "  <div class=\"bk-root\" id=\"b9f85f06-1bff-4f1d-a7f2-8cb6ba909ed7\" data-root-id=\"2283\"></div>\n",
       "</div>\n",
       "<script type=\"application/javascript\">(function(root) {\n",
       "  function embed_document(root) {\n",
       "  var docs_json = {\"2f584259-c563-4002-82f0-db70ac1b60ca\":{\"roots\":{\"references\":[{\"attributes\":{\"height\":288,\"margin\":[5,5,5,5],\"name\":\"Matplotlib04275\",\"text\":\"&lt;img src=&quot;data:image/png;base64,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&quot; width=&quot;432px&quot; height=&quot;288px&quot; alt=&quot;&quot;&gt;&lt;/img&gt;\",\"width\":432},\"id\":\"2283\",\"type\":\"panel.models.markup.HTML\"},{\"attributes\":{\"client_comm_id\":\"0734227f43c6464b907def96f8ca0ef8\",\"comm_id\":\"82c963aa6649405ea3f92f06741c121e\",\"plot_id\":\"2283\"},\"id\":\"2284\",\"type\":\"panel.models.comm_manager.CommManager\"}],\"root_ids\":[\"2283\",\"2284\"]},\"title\":\"Bokeh Application\",\"version\":\"2.0.2\"}};\n",
       "  var render_items = [{\"docid\":\"2f584259-c563-4002-82f0-db70ac1b60ca\",\"root_ids\":[\"2283\"],\"roots\":{\"2283\":\"b9f85f06-1bff-4f1d-a7f2-8cb6ba909ed7\"}}];\n",
       "  root.Bokeh.embed.embed_items_notebook(docs_json, render_items);\n",
       "  }\n",
       "if (root.Bokeh !== undefined) {\n",
       "    embed_document(root);\n",
       "  } else {\n",
       "    var attempts = 0;\n",
       "    var timer = setInterval(function(root) {\n",
       "      if (root.Bokeh !== undefined) {\n",
       "        clearInterval(timer);\n",
       "        embed_document(root);\n",
       "      } else if (document.readyState == \"complete\") {\n",
       "        attempts++;\n",
       "        if (attempts > 100) {\n",
       "          clearInterval(timer);\n",
       "          console.log(\"Bokeh: ERROR: Unable to run BokehJS code because BokehJS library is missing\");\n",
       "        }\n",
       "      }\n",
       "    }, 10, root)\n",
       "  }\n",
       "})(window);</script>"
      ],
      "text/plain": [
       "Matplotlib(Figure)"
      ]
     },
     "execution_count": 56,
     "metadata": {
      "application/vnd.holoviews_exec.v0+json": {
       "id": "2283"
      }
     },
     "output_type": "execute_result"
    }
   ],
   "source": [
    "average_gross_rent()"
   ]
  },
  {
   "cell_type": "code",
   "execution_count": 57,
   "metadata": {},
   "outputs": [
    {
     "data": {},
     "metadata": {},
     "output_type": "display_data"
    },
    {
     "data": {
      "application/vnd.holoviews_exec.v0+json": "",
      "text/html": [
       "<div id='2285'>\n",
       "\n",
       "\n",
       "\n",
       "\n",
       "\n",
       "  <div class=\"bk-root\" id=\"a08e201c-6f8a-43ec-b4c0-7fa0903f2763\" data-root-id=\"2285\"></div>\n",
       "</div>\n",
       "<script type=\"application/javascript\">(function(root) {\n",
       "  function embed_document(root) {\n",
       "  var docs_json = {\"4e1d4243-baea-4755-b471-df254e26037c\":{\"roots\":{\"references\":[{\"attributes\":{\"height\":288,\"margin\":[5,5,5,5],\"name\":\"Matplotlib04279\",\"text\":\"&lt;img src=&quot;data:image/png;base64,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&quot; width=&quot;432px&quot; height=&quot;288px&quot; alt=&quot;&quot;&gt;&lt;/img&gt;\",\"width\":432},\"id\":\"2285\",\"type\":\"panel.models.markup.HTML\"},{\"attributes\":{\"client_comm_id\":\"3a4f9eb9759e4ed2819299502086c92a\",\"comm_id\":\"0567aba481384f22929c817bbb5ab682\",\"plot_id\":\"2285\"},\"id\":\"2286\",\"type\":\"panel.models.comm_manager.CommManager\"}],\"root_ids\":[\"2285\",\"2286\"]},\"title\":\"Bokeh Application\",\"version\":\"2.0.2\"}};\n",
       "  var render_items = [{\"docid\":\"4e1d4243-baea-4755-b471-df254e26037c\",\"root_ids\":[\"2285\"],\"roots\":{\"2285\":\"a08e201c-6f8a-43ec-b4c0-7fa0903f2763\"}}];\n",
       "  root.Bokeh.embed.embed_items_notebook(docs_json, render_items);\n",
       "  }\n",
       "if (root.Bokeh !== undefined) {\n",
       "    embed_document(root);\n",
       "  } else {\n",
       "    var attempts = 0;\n",
       "    var timer = setInterval(function(root) {\n",
       "      if (root.Bokeh !== undefined) {\n",
       "        clearInterval(timer);\n",
       "        embed_document(root);\n",
       "      } else if (document.readyState == \"complete\") {\n",
       "        attempts++;\n",
       "        if (attempts > 100) {\n",
       "          clearInterval(timer);\n",
       "          console.log(\"Bokeh: ERROR: Unable to run BokehJS code because BokehJS library is missing\");\n",
       "        }\n",
       "      }\n",
       "    }, 10, root)\n",
       "  }\n",
       "})(window);</script>"
      ],
      "text/plain": [
       "Matplotlib(Figure)"
      ]
     },
     "execution_count": 57,
     "metadata": {
      "application/vnd.holoviews_exec.v0+json": {
       "id": "2285"
      }
     },
     "output_type": "execute_result"
    }
   ],
   "source": [
    " average_sales_price()"
   ]
  },
  {
   "cell_type": "code",
   "execution_count": 64,
   "metadata": {},
   "outputs": [
    {
     "data": {},
     "metadata": {},
     "output_type": "display_data"
    },
    {
     "data": {
      "application/vnd.holoviews_exec.v0+json": "",
      "text/html": [
       "<div id='2901'>\n",
       "\n",
       "\n",
       "\n",
       "\n",
       "\n",
       "  <div class=\"bk-root\" id=\"dad6651e-edc2-4d34-b183-b66def124f86\" data-root-id=\"2901\"></div>\n",
       "</div>\n",
       "<script type=\"application/javascript\">(function(root) {\n",
       "  function embed_document(root) {\n",
       "  var docs_json = {\"e64e5a4a-73a6-4425-82bf-cc546bd4ba53\":{\"roots\":{\"references\":[{\"attributes\":{\"callback\":null,\"renderers\":[{\"id\":\"2942\"}],\"tags\":[\"hv_created\"],\"tooltips\":[[\"year\",\"@{year}\"],[\"sale_price_sqr_foot\",\"@{sale_price_sqr_foot}\"]]},\"id\":\"2905\",\"type\":\"HoverTool\"},{\"attributes\":{\"margin\":[5,5,5,5],\"name\":\"HSpacer05559\",\"sizing_mode\":\"stretch_width\"},\"id\":\"2960\",\"type\":\"Spacer\"},{\"attributes\":{\"axis_label\":\"Avg Sale Per Sqr Foot\",\"bounds\":\"auto\",\"formatter\":{\"id\":\"2946\"},\"major_label_orientation\":\"horizontal\",\"ticker\":{\"id\":\"2920\"}},\"id\":\"2919\",\"type\":\"LinearAxis\"},{\"attributes\":{},\"id\":\"2944\",\"type\":\"BasicTickFormatter\"},{\"attributes\":{},\"id\":\"2925\",\"type\":\"WheelZoomTool\"},{\"attributes\":{\"client_comm_id\":\"9af6bfed0a904e0488d37177db5324d5\",\"comm_id\":\"7329e10442c746d0afbeb58644186f82\",\"plot_id\":\"2901\"},\"id\":\"2990\",\"type\":\"panel.models.comm_manager.CommManager\"},{\"attributes\":{\"children\":[{\"id\":\"2962\"},{\"id\":\"2963\"},{\"id\":\"2965\"}],\"margin\":[0,0,0,0],\"name\":\"Column05557\"},\"id\":\"2961\",\"type\":\"Column\"},{\"attributes\":{\"children\":[{\"id\":\"2902\"},{\"id\":\"2906\"},{\"id\":\"2960\"},{\"id\":\"2961\"}],\"margin\":[0,0,0,0],\"name\":\"Row05549\"},\"id\":\"2901\",\"type\":\"Row\"},{\"attributes\":{},\"id\":\"2920\",\"type\":\"BasicTicker\"},{\"attributes\":{\"axis\":{\"id\":\"2919\"},\"dimension\":1,\"grid_line_color\":null,\"ticker\":null},\"id\":\"2922\",\"type\":\"Grid\"},{\"attributes\":{\"bottom_units\":\"screen\",\"fill_alpha\":0.5,\"fill_color\":\"lightgrey\",\"left_units\":\"screen\",\"level\":\"overlay\",\"line_alpha\":1.0,\"line_color\":\"black\",\"line_dash\":[4,4],\"line_width\":2,\"render_mode\":\"css\",\"right_units\":\"screen\",\"top_units\":\"screen\"},\"id\":\"2928\",\"type\":\"BoxAnnotation\"},{\"attributes\":{},\"id\":\"2946\",\"type\":\"BasicTickFormatter\"},{\"attributes\":{\"children\":[{\"id\":\"2964\"}],\"css_classes\":[\"widget-box\"],\"margin\":[5,5,5,5],\"name\":\"WidgetBox05550\"},\"id\":\"2963\",\"type\":\"Column\"},{\"attributes\":{\"margin\":[20,20,20,20],\"min_width\":250,\"options\":[\"Alamo Square\",\"Anza Vista\",\"Bayview\",\"Buena Vista Park\",\"Central Richmond\",\"Central Sunset\",\"Corona Heights\",\"Cow Hollow\",\"Croker Amazon\",\"Diamond Heights\",\"Downtown \",\"Eureka Valley/Dolores Heights\",\"Excelsior\",\"Financial District North\",\"Financial District South\",\"Forest Knolls\",\"Glen Park\",\"Golden Gate Heights\",\"Haight Ashbury\",\"Hayes Valley\",\"Hunters Point\",\"Ingleside \",\"Inner Mission\",\"Inner Parkside\",\"Inner Richmond\",\"Inner Sunset\",\"Jordan Park/Laurel Heights\",\"Lake --The Presidio\",\"Lone Mountain\",\"Lower Pacific Heights\",\"Marina\",\"Miraloma Park\",\"Mission Bay\",\"Mission Dolores\",\"Mission Terrace\",\"Nob Hill\",\"Noe Valley\",\"Oceanview\",\"Outer Parkside\",\"Outer Richmond \",\"Outer Sunset\",\"Pacific Heights\",\"Park North\",\"Parkside\",\"Parnassus/Ashbury Heights\",\"Portola\",\"Potrero Hill\",\"Presidio Heights\",\"Russian Hill\",\"South Beach\",\"South of Market\",\"Sunnyside\",\"Telegraph Hill\",\"Twin Peaks\",\"Union Square District\",\"Van Ness/ Civic Center\",\"West Portal\",\"Western Addition\",\"Yerba Buena\",\"Bernal Heights \",\"Clarendon Heights\",\"Duboce Triangle\",\"Ingleside Heights\",\"North Beach\",\"North Waterfront\",\"Outer Mission\",\"Westwood Highlands\",\"Merced Heights\",\"Midtown Terrace\",\"Visitacion Valley\",\"Silver Terrace\",\"Westwood Park\",\"Bayview Heights\"],\"title\":\"neighborhood\",\"value\":\"Alamo Square\",\"width\":250},\"id\":\"2964\",\"type\":\"Select\"},{\"attributes\":{\"active_drag\":\"auto\",\"active_inspect\":\"auto\",\"active_multi\":null,\"active_scroll\":\"auto\",\"active_tap\":\"auto\",\"tools\":[{\"id\":\"2905\"},{\"id\":\"2923\"},{\"id\":\"2924\"},{\"id\":\"2925\"},{\"id\":\"2926\"},{\"id\":\"2927\"}]},\"id\":\"2929\",\"type\":\"Toolbar\"},{\"attributes\":{},\"id\":\"2937\",\"type\":\"Selection\"},{\"attributes\":{\"margin\":[5,5,5,5],\"name\":\"VSpacer05555\",\"sizing_mode\":\"stretch_height\"},\"id\":\"2962\",\"type\":\"Spacer\"},{\"attributes\":{\"line_color\":\"#1f77b3\",\"line_width\":2,\"x\":{\"field\":\"year\"},\"y\":{\"field\":\"sale_price_sqr_foot\"}},\"id\":\"2939\",\"type\":\"Line\"},{\"attributes\":{\"data\":{\"sale_price_sqr_foot\":{\"__ndarray__\":\"NbdCWO0yckCO/dHcbwhxQBWuopot42ZAJBUh0LQ8eEAaETHKGEd+QOU+3lDt0IJA/KDTmLVPdUA=\",\"dtype\":\"float64\",\"shape\":[7]},\"year\":[2010,2011,2012,2013,2014,2015,2016]},\"selected\":{\"id\":\"2937\"},\"selection_policy\":{\"id\":\"2957\"}},\"id\":\"2936\",\"type\":\"ColumnDataSource\"},{\"attributes\":{\"end\":644.0175329,\"reset_end\":644.0175329,\"reset_start\":141.1976609,\"start\":141.1976609,\"tags\":[[[\"sale_price_sqr_foot\",\"sale_price_sqr_foot\",null]]]},\"id\":\"2904\",\"type\":\"Range1d\"},{\"attributes\":{\"axis_label\":\"Year\",\"bounds\":\"auto\",\"formatter\":{\"id\":\"2944\"},\"major_label_orientation\":\"horizontal\",\"ticker\":{\"id\":\"2916\"}},\"id\":\"2915\",\"type\":\"LinearAxis\"},{\"attributes\":{\"margin\":[5,5,5,5],\"name\":\"HSpacer05558\",\"sizing_mode\":\"stretch_width\"},\"id\":\"2902\",\"type\":\"Spacer\"},{\"attributes\":{},\"id\":\"2913\",\"type\":\"LinearScale\"},{\"attributes\":{\"data_source\":{\"id\":\"2936\"},\"glyph\":{\"id\":\"2939\"},\"hover_glyph\":null,\"muted_glyph\":{\"id\":\"2941\"},\"nonselection_glyph\":{\"id\":\"2940\"},\"selection_glyph\":null,\"view\":{\"id\":\"2943\"}},\"id\":\"2942\",\"type\":\"GlyphRenderer\"},{\"attributes\":{\"line_alpha\":0.2,\"line_color\":\"#1f77b3\",\"line_width\":2,\"x\":{\"field\":\"year\"},\"y\":{\"field\":\"sale_price_sqr_foot\"}},\"id\":\"2941\",\"type\":\"Line\"},{\"attributes\":{\"line_alpha\":0.1,\"line_color\":\"#1f77b3\",\"line_width\":2,\"x\":{\"field\":\"year\"},\"y\":{\"field\":\"sale_price_sqr_foot\"}},\"id\":\"2940\",\"type\":\"Line\"},{\"attributes\":{\"end\":2016.0,\"reset_end\":2016.0,\"reset_start\":2010.0,\"start\":2010.0,\"tags\":[[[\"year\",\"year\",null]]]},\"id\":\"2903\",\"type\":\"Range1d\"},{\"attributes\":{\"margin\":[5,5,5,5],\"name\":\"VSpacer05556\",\"sizing_mode\":\"stretch_height\"},\"id\":\"2965\",\"type\":\"Spacer\"},{\"attributes\":{\"source\":{\"id\":\"2936\"}},\"id\":\"2943\",\"type\":\"CDSView\"},{\"attributes\":{},\"id\":\"2916\",\"type\":\"BasicTicker\"},{\"attributes\":{\"axis\":{\"id\":\"2915\"},\"grid_line_color\":null,\"ticker\":null},\"id\":\"2918\",\"type\":\"Grid\"},{\"attributes\":{\"overlay\":{\"id\":\"2928\"}},\"id\":\"2926\",\"type\":\"BoxZoomTool\"},{\"attributes\":{},\"id\":\"2923\",\"type\":\"SaveTool\"},{\"attributes\":{},\"id\":\"2927\",\"type\":\"ResetTool\"},{\"attributes\":{},\"id\":\"2924\",\"type\":\"PanTool\"},{\"attributes\":{\"text\":\"neighborhood: Alamo Square\",\"text_color\":{\"value\":\"black\"},\"text_font_size\":{\"value\":\"12pt\"}},\"id\":\"2907\",\"type\":\"Title\"},{\"attributes\":{},\"id\":\"2911\",\"type\":\"LinearScale\"},{\"attributes\":{},\"id\":\"2957\",\"type\":\"UnionRenderers\"},{\"attributes\":{\"below\":[{\"id\":\"2915\"}],\"center\":[{\"id\":\"2918\"},{\"id\":\"2922\"}],\"left\":[{\"id\":\"2919\"}],\"margin\":null,\"min_border_bottom\":10,\"min_border_left\":10,\"min_border_right\":10,\"min_border_top\":10,\"plot_height\":300,\"plot_width\":700,\"renderers\":[{\"id\":\"2942\"}],\"sizing_mode\":\"fixed\",\"title\":{\"id\":\"2907\"},\"toolbar\":{\"id\":\"2929\"},\"x_range\":{\"id\":\"2903\"},\"x_scale\":{\"id\":\"2911\"},\"y_range\":{\"id\":\"2904\"},\"y_scale\":{\"id\":\"2913\"}},\"id\":\"2906\",\"subtype\":\"Figure\",\"type\":\"Plot\"}],\"root_ids\":[\"2901\",\"2990\"]},\"title\":\"Bokeh Application\",\"version\":\"2.0.2\"}};\n",
       "  var render_items = [{\"docid\":\"e64e5a4a-73a6-4425-82bf-cc546bd4ba53\",\"root_ids\":[\"2901\"],\"roots\":{\"2901\":\"dad6651e-edc2-4d34-b183-b66def124f86\"}}];\n",
       "  root.Bokeh.embed.embed_items_notebook(docs_json, render_items);\n",
       "  }\n",
       "if (root.Bokeh !== undefined) {\n",
       "    embed_document(root);\n",
       "  } else {\n",
       "    var attempts = 0;\n",
       "    var timer = setInterval(function(root) {\n",
       "      if (root.Bokeh !== undefined) {\n",
       "        clearInterval(timer);\n",
       "        embed_document(root);\n",
       "      } else if (document.readyState == \"complete\") {\n",
       "        attempts++;\n",
       "        if (attempts > 100) {\n",
       "          clearInterval(timer);\n",
       "          console.log(\"Bokeh: ERROR: Unable to run BokehJS code because BokehJS library is missing\");\n",
       "        }\n",
       "      }\n",
       "    }, 10, root)\n",
       "  }\n",
       "})(window);</script>"
      ],
      "text/plain": [
       ":DynamicMap   [neighborhood]\n",
       "   :Curve   [year]   (sale_price_sqr_foot)"
      ]
     },
     "execution_count": 64,
     "metadata": {
      "application/vnd.holoviews_exec.v0+json": {
       "id": "2901"
      }
     },
     "output_type": "execute_result"
    }
   ],
   "source": [
    "average_price_by_neighborhood()"
   ]
  },
  {
   "cell_type": "code",
   "execution_count": 65,
   "metadata": {},
   "outputs": [
    {
     "data": {},
     "metadata": {},
     "output_type": "display_data"
    },
    {
     "data": {
      "application/vnd.holoviews_exec.v0+json": "",
      "text/html": [
       "<div id='3031'>\n",
       "\n",
       "\n",
       "\n",
       "\n",
       "\n",
       "  <div class=\"bk-root\" id=\"2a6e34bf-8c15-4ea4-8691-1b5798293e9b\" data-root-id=\"3031\"></div>\n",
       "</div>\n",
       "<script type=\"application/javascript\">(function(root) {\n",
       "  function embed_document(root) {\n",
       "  var docs_json = {\"90daec55-19a3-46ee-96ac-8db88e22d16c\":{\"roots\":{\"references\":[{\"attributes\":{\"margin\":[5,5,5,5],\"name\":\"VSpacer05814\",\"sizing_mode\":\"stretch_height\"},\"id\":\"3095\",\"type\":\"Spacer\"},{\"attributes\":{\"bottom_units\":\"screen\",\"fill_alpha\":0.5,\"fill_color\":\"lightgrey\",\"left_units\":\"screen\",\"level\":\"overlay\",\"line_alpha\":1.0,\"line_color\":\"black\",\"line_dash\":[4,4],\"line_width\":2,\"render_mode\":\"css\",\"right_units\":\"screen\",\"top_units\":\"screen\"},\"id\":\"3058\",\"type\":\"BoxAnnotation\"},{\"attributes\":{\"line_color\":\"#1f77b3\",\"line_width\":2,\"x\":{\"field\":\"year\"},\"y\":{\"field\":\"sale_price_sqr_foot\"}},\"id\":\"3069\",\"type\":\"Line\"},{\"attributes\":{\"margin\":[20,20,20,20],\"min_width\":250,\"options\":[\"Alamo Square\",\"Anza Vista\",\"Bayview\",\"Buena Vista Park\",\"Central Richmond\",\"Central Sunset\",\"Corona Heights\",\"Cow Hollow\",\"Croker Amazon\",\"Diamond Heights\",\"Downtown \",\"Eureka Valley/Dolores Heights\",\"Excelsior\",\"Financial District North\",\"Financial District South\",\"Forest Knolls\",\"Glen Park\",\"Golden Gate Heights\",\"Haight Ashbury\",\"Hayes Valley\",\"Hunters Point\",\"Ingleside \",\"Inner Mission\",\"Inner Parkside\",\"Inner Richmond\",\"Inner Sunset\",\"Jordan Park/Laurel Heights\",\"Lake --The Presidio\",\"Lone Mountain\",\"Lower Pacific Heights\",\"Marina\",\"Miraloma Park\",\"Mission Bay\",\"Mission Dolores\",\"Mission Terrace\",\"Nob Hill\",\"Noe Valley\",\"Oceanview\",\"Outer Parkside\",\"Outer Richmond \",\"Outer Sunset\",\"Pacific Heights\",\"Park North\",\"Parkside\",\"Parnassus/Ashbury Heights\",\"Portola\",\"Potrero Hill\",\"Presidio Heights\",\"Russian Hill\",\"South Beach\",\"South of Market\",\"Sunnyside\",\"Telegraph Hill\",\"Twin Peaks\",\"Union Square District\",\"Van Ness/ Civic Center\",\"West Portal\",\"Western Addition\",\"Yerba Buena\",\"Bernal Heights \",\"Clarendon Heights\",\"Duboce Triangle\",\"Ingleside Heights\",\"North Beach\",\"North Waterfront\",\"Outer Mission\",\"Westwood Highlands\",\"Merced Heights\",\"Midtown Terrace\",\"Visitacion Valley\",\"Silver Terrace\",\"Westwood Park\",\"Bayview Heights\"],\"title\":\"neighborhood\",\"value\":\"Alamo Square\",\"width\":250},\"id\":\"3094\",\"type\":\"Select\"},{\"attributes\":{\"client_comm_id\":\"6e72b24fabd2435aab67a250128c43ad\",\"comm_id\":\"0e4f1d3b08c7401b91aaeeaa08a15cb3\",\"plot_id\":\"3031\"},\"id\":\"3120\",\"type\":\"panel.models.comm_manager.CommManager\"},{\"attributes\":{\"children\":[{\"id\":\"3094\"}],\"css_classes\":[\"widget-box\"],\"margin\":[5,5,5,5],\"name\":\"WidgetBox05808\"},\"id\":\"3093\",\"type\":\"Column\"},{\"attributes\":{\"end\":2016.0,\"reset_end\":2016.0,\"reset_start\":2010.0,\"start\":2010.0,\"tags\":[[[\"year\",\"year\",null]]]},\"id\":\"3033\",\"type\":\"Range1d\"},{\"attributes\":{\"margin\":[5,5,5,5],\"name\":\"VSpacer05813\",\"sizing_mode\":\"stretch_height\"},\"id\":\"3092\",\"type\":\"Spacer\"},{\"attributes\":{},\"id\":\"3087\",\"type\":\"UnionRenderers\"},{\"attributes\":{\"line_alpha\":0.2,\"line_color\":\"#1f77b3\",\"line_width\":2,\"x\":{\"field\":\"year\"},\"y\":{\"field\":\"sale_price_sqr_foot\"}},\"id\":\"3071\",\"type\":\"Line\"},{\"attributes\":{},\"id\":\"3076\",\"type\":\"BasicTickFormatter\"},{\"attributes\":{\"source\":{\"id\":\"3066\"}},\"id\":\"3073\",\"type\":\"CDSView\"},{\"attributes\":{},\"id\":\"3043\",\"type\":\"LinearScale\"},{\"attributes\":{\"children\":[{\"id\":\"3032\"},{\"id\":\"3036\"},{\"id\":\"3090\"},{\"id\":\"3091\"}],\"margin\":[0,0,0,0],\"name\":\"Row05807\"},\"id\":\"3031\",\"type\":\"Row\"},{\"attributes\":{},\"id\":\"3074\",\"type\":\"BasicTickFormatter\"},{\"attributes\":{\"callback\":null,\"renderers\":[{\"id\":\"3072\"}],\"tags\":[\"hv_created\"],\"tooltips\":[[\"year\",\"@{year}\"],[\"sale_price_sqr_foot\",\"@{sale_price_sqr_foot}\"]]},\"id\":\"3035\",\"type\":\"HoverTool\"},{\"attributes\":{},\"id\":\"3053\",\"type\":\"SaveTool\"},{\"attributes\":{\"children\":[{\"id\":\"3092\"},{\"id\":\"3093\"},{\"id\":\"3095\"}],\"margin\":[0,0,0,0],\"name\":\"Column05815\"},\"id\":\"3091\",\"type\":\"Column\"},{\"attributes\":{\"below\":[{\"id\":\"3045\"}],\"center\":[{\"id\":\"3048\"},{\"id\":\"3052\"}],\"left\":[{\"id\":\"3049\"}],\"margin\":null,\"min_border_bottom\":10,\"min_border_left\":10,\"min_border_right\":10,\"min_border_top\":10,\"plot_height\":300,\"plot_width\":700,\"renderers\":[{\"id\":\"3072\"}],\"sizing_mode\":\"fixed\",\"title\":{\"id\":\"3037\"},\"toolbar\":{\"id\":\"3059\"},\"x_range\":{\"id\":\"3033\"},\"x_scale\":{\"id\":\"3041\"},\"y_range\":{\"id\":\"3034\"},\"y_scale\":{\"id\":\"3043\"}},\"id\":\"3036\",\"subtype\":\"Figure\",\"type\":\"Plot\"},{\"attributes\":{\"margin\":[5,5,5,5],\"name\":\"HSpacer05816\",\"sizing_mode\":\"stretch_width\"},\"id\":\"3032\",\"type\":\"Spacer\"},{\"attributes\":{\"axis\":{\"id\":\"3045\"},\"grid_line_color\":null,\"ticker\":null},\"id\":\"3048\",\"type\":\"Grid\"},{\"attributes\":{\"data_source\":{\"id\":\"3066\"},\"glyph\":{\"id\":\"3069\"},\"hover_glyph\":null,\"muted_glyph\":{\"id\":\"3071\"},\"nonselection_glyph\":{\"id\":\"3070\"},\"selection_glyph\":null,\"view\":{\"id\":\"3073\"}},\"id\":\"3072\",\"type\":\"GlyphRenderer\"},{\"attributes\":{\"axis\":{\"id\":\"3049\"},\"dimension\":1,\"grid_line_color\":null,\"ticker\":null},\"id\":\"3052\",\"type\":\"Grid\"},{\"attributes\":{},\"id\":\"3067\",\"type\":\"Selection\"},{\"attributes\":{\"line_alpha\":0.1,\"line_color\":\"#1f77b3\",\"line_width\":2,\"x\":{\"field\":\"year\"},\"y\":{\"field\":\"sale_price_sqr_foot\"}},\"id\":\"3070\",\"type\":\"Line\"},{\"attributes\":{\"axis_label\":\"Avg Sale Price Per Sqr Foot\",\"bounds\":\"auto\",\"formatter\":{\"id\":\"3076\"},\"major_label_orientation\":\"horizontal\",\"ticker\":{\"id\":\"3050\"}},\"id\":\"3049\",\"type\":\"LinearAxis\"},{\"attributes\":{\"axis_label\":\"Year\",\"bounds\":\"auto\",\"formatter\":{\"id\":\"3074\"},\"major_label_orientation\":\"horizontal\",\"ticker\":{\"id\":\"3046\"}},\"id\":\"3045\",\"type\":\"LinearAxis\"},{\"attributes\":{},\"id\":\"3041\",\"type\":\"LinearScale\"},{\"attributes\":{\"active_drag\":\"auto\",\"active_inspect\":\"auto\",\"active_multi\":null,\"active_scroll\":\"auto\",\"active_tap\":\"auto\",\"tools\":[{\"id\":\"3035\"},{\"id\":\"3053\"},{\"id\":\"3054\"},{\"id\":\"3055\"},{\"id\":\"3056\"},{\"id\":\"3057\"}]},\"id\":\"3059\",\"type\":\"Toolbar\"},{\"attributes\":{\"end\":644.0175329,\"reset_end\":644.0175329,\"reset_start\":141.1976609,\"start\":141.1976609,\"tags\":[[[\"sale_price_sqr_foot\",\"sale_price_sqr_foot\",null]]]},\"id\":\"3034\",\"type\":\"Range1d\"},{\"attributes\":{},\"id\":\"3057\",\"type\":\"ResetTool\"},{\"attributes\":{},\"id\":\"3050\",\"type\":\"BasicTicker\"},{\"attributes\":{\"margin\":[5,5,5,5],\"name\":\"HSpacer05817\",\"sizing_mode\":\"stretch_width\"},\"id\":\"3090\",\"type\":\"Spacer\"},{\"attributes\":{},\"id\":\"3054\",\"type\":\"PanTool\"},{\"attributes\":{\"overlay\":{\"id\":\"3058\"}},\"id\":\"3056\",\"type\":\"BoxZoomTool\"},{\"attributes\":{},\"id\":\"3055\",\"type\":\"WheelZoomTool\"},{\"attributes\":{\"text\":\"neighborhood: Alamo Square\",\"text_color\":{\"value\":\"black\"},\"text_font_size\":{\"value\":\"12pt\"}},\"id\":\"3037\",\"type\":\"Title\"},{\"attributes\":{\"data\":{\"sale_price_sqr_foot\":{\"__ndarray__\":\"NbdCWO0yckCO/dHcbwhxQBWuopot42ZAJBUh0LQ8eEAaETHKGEd+QOU+3lDt0IJA/KDTmLVPdUA=\",\"dtype\":\"float64\",\"shape\":[7]},\"year\":[2010,2011,2012,2013,2014,2015,2016]},\"selected\":{\"id\":\"3067\"},\"selection_policy\":{\"id\":\"3087\"}},\"id\":\"3066\",\"type\":\"ColumnDataSource\"},{\"attributes\":{},\"id\":\"3046\",\"type\":\"BasicTicker\"}],\"root_ids\":[\"3031\",\"3120\"]},\"title\":\"Bokeh Application\",\"version\":\"2.0.2\"}};\n",
       "  var render_items = [{\"docid\":\"90daec55-19a3-46ee-96ac-8db88e22d16c\",\"root_ids\":[\"3031\"],\"roots\":{\"3031\":\"2a6e34bf-8c15-4ea4-8691-1b5798293e9b\"}}];\n",
       "  root.Bokeh.embed.embed_items_notebook(docs_json, render_items);\n",
       "  }\n",
       "if (root.Bokeh !== undefined) {\n",
       "    embed_document(root);\n",
       "  } else {\n",
       "    var attempts = 0;\n",
       "    var timer = setInterval(function(root) {\n",
       "      if (root.Bokeh !== undefined) {\n",
       "        clearInterval(timer);\n",
       "        embed_document(root);\n",
       "      } else if (document.readyState == \"complete\") {\n",
       "        attempts++;\n",
       "        if (attempts > 100) {\n",
       "          clearInterval(timer);\n",
       "          console.log(\"Bokeh: ERROR: Unable to run BokehJS code because BokehJS library is missing\");\n",
       "        }\n",
       "      }\n",
       "    }, 10, root)\n",
       "  }\n",
       "})(window);</script>"
      ],
      "text/plain": [
       ":DynamicMap   [neighborhood]\n",
       "   :Curve   [year]   (sale_price_sqr_foot)"
      ]
     },
     "execution_count": 65,
     "metadata": {
      "application/vnd.holoviews_exec.v0+json": {
       "id": "3031"
      }
     },
     "output_type": "execute_result"
    }
   ],
   "source": [
    " top_most_expensive_neighborhoods()"
   ]
  },
  {
   "cell_type": "code",
   "execution_count": 66,
   "metadata": {},
   "outputs": [
    {
     "data": {},
     "metadata": {},
     "output_type": "display_data"
    },
    {
     "data": {
      "application/vnd.holoviews_exec.v0+json": "",
      "text/html": [
       "<div id='3161'>\n",
       "\n",
       "\n",
       "\n",
       "\n",
       "\n",
       "  <div class=\"bk-root\" id=\"395a9637-4a71-496d-af8c-f095ab126cea\" data-root-id=\"3161\"></div>\n",
       "</div>\n",
       "<script type=\"application/javascript\">(function(root) {\n",
       "  function embed_document(root) {\n",
       "  var docs_json = {\"9bb3793d-e854-4219-897a-fe022f1f6509\":{\"roots\":{\"references\":[{\"attributes\":{\"callback\":null,\"renderers\":[{\"id\":\"3202\"}],\"tags\":[\"hv_created\"],\"tooltips\":[[\"year\",\"@{year}\"],[\"Variable\",\"@{Variable}\"],[\"value\",\"@{value}\"]]},\"id\":\"3165\",\"type\":\"HoverTool\"},{\"attributes\":{\"fill_alpha\":{\"value\":0.2},\"fill_color\":{\"field\":\"Variable\",\"transform\":{\"id\":\"3195\"}},\"line_alpha\":{\"value\":0.2},\"top\":{\"field\":\"value\"},\"width\":{\"value\":0.8},\"x\":{\"field\":\"xoffsets\"}},\"id\":\"3201\",\"type\":\"VBar\"},{\"attributes\":{\"factors\":[[\"2010\",\"gross_rent\"],[\"2010\",\"sale_price_sqr_foot\"],[\"2011\",\"gross_rent\"],[\"2011\",\"sale_price_sqr_foot\"],[\"2012\",\"gross_rent\"],[\"2012\",\"sale_price_sqr_foot\"],[\"2013\",\"gross_rent\"],[\"2013\",\"sale_price_sqr_foot\"],[\"2014\",\"gross_rent\"],[\"2014\",\"sale_price_sqr_foot\"],[\"2015\",\"gross_rent\"],[\"2015\",\"sale_price_sqr_foot\"],[\"2016\",\"gross_rent\"],[\"2016\",\"sale_price_sqr_foot\"]],\"tags\":[[[\"year\",\"year\",null],[\"Variable\",\"Variable\",null]]]},\"id\":\"3163\",\"type\":\"FactorRange\"},{\"attributes\":{},\"id\":\"3197\",\"type\":\"Selection\"},{\"attributes\":{},\"id\":\"3171\",\"type\":\"CategoricalScale\"},{\"attributes\":{\"factors\":[\"gross_rent\",\"sale_price_sqr_foot\"],\"palette\":[\"#1f77b3\",\"#ff7e0e\"]},\"id\":\"3195\",\"type\":\"CategoricalColorMapper\"},{\"attributes\":{},\"id\":\"3179\",\"type\":\"BasicTicker\"},{\"attributes\":{\"end\":4810.69006831,\"reset_end\":4810.69006831,\"reset_start\":0.0,\"tags\":[[[\"value\",\"value\",null]]]},\"id\":\"3164\",\"type\":\"Range1d\"},{\"attributes\":{\"margin\":[5,5,5,5],\"name\":\"HSpacer06075\",\"sizing_mode\":\"stretch_width\"},\"id\":\"3220\",\"type\":\"Spacer\"},{\"attributes\":{\"margin\":[5,5,5,5],\"name\":\"VSpacer06072\",\"sizing_mode\":\"stretch_height\"},\"id\":\"3225\",\"type\":\"Spacer\"},{\"attributes\":{},\"id\":\"3186\",\"type\":\"ResetTool\"},{\"attributes\":{\"children\":[{\"id\":\"3224\"}],\"css_classes\":[\"widget-box\"],\"margin\":[5,5,5,5],\"name\":\"WidgetBox06066\"},\"id\":\"3223\",\"type\":\"Column\"},{\"attributes\":{\"bottom_units\":\"screen\",\"fill_alpha\":0.5,\"fill_color\":\"lightgrey\",\"left_units\":\"screen\",\"level\":\"overlay\",\"line_alpha\":1.0,\"line_color\":\"black\",\"line_dash\":[4,4],\"line_width\":2,\"render_mode\":\"css\",\"right_units\":\"screen\",\"top_units\":\"screen\"},\"id\":\"3187\",\"type\":\"BoxAnnotation\"},{\"attributes\":{\"margin\":[20,20,20,20],\"min_width\":250,\"options\":[\"Alamo Square\",\"Anza Vista\",\"Bayview\",\"Buena Vista Park\",\"Central Richmond\",\"Central Sunset\",\"Corona Heights\",\"Cow Hollow\",\"Croker Amazon\",\"Diamond Heights\",\"Downtown \",\"Eureka Valley/Dolores Heights\",\"Excelsior\",\"Financial District North\",\"Financial District South\",\"Forest Knolls\",\"Glen Park\",\"Golden Gate Heights\",\"Haight Ashbury\",\"Hayes Valley\",\"Hunters Point\",\"Ingleside \",\"Inner Mission\",\"Inner Parkside\",\"Inner Richmond\",\"Inner Sunset\",\"Jordan Park/Laurel Heights\",\"Lake --The Presidio\",\"Lone Mountain\",\"Lower Pacific Heights\",\"Marina\",\"Miraloma Park\",\"Mission Bay\",\"Mission Dolores\",\"Mission Terrace\",\"Nob Hill\",\"Noe Valley\",\"Oceanview\",\"Outer Parkside\",\"Outer Richmond \",\"Outer Sunset\",\"Pacific Heights\",\"Park North\",\"Parkside\",\"Parnassus/Ashbury Heights\",\"Portola\",\"Potrero Hill\",\"Presidio Heights\",\"Russian Hill\",\"South Beach\",\"South of Market\",\"Sunnyside\",\"Telegraph Hill\",\"Twin Peaks\",\"Union Square District\",\"Van Ness/ Civic Center\",\"West Portal\",\"Western Addition\",\"Yerba Buena\",\"Bernal Heights \",\"Clarendon Heights\",\"Duboce Triangle\",\"Ingleside Heights\",\"North Beach\",\"North Waterfront\",\"Outer Mission\",\"Westwood Highlands\",\"Merced Heights\",\"Midtown Terrace\",\"Visitacion Valley\",\"Silver Terrace\",\"Westwood Park\",\"Bayview Heights\"],\"title\":\"neighborhood\",\"value\":\"Alamo Square\",\"width\":250},\"id\":\"3224\",\"type\":\"Select\"},{\"attributes\":{\"data\":{\"Variable\":[\"gross_rent\",\"gross_rent\",\"gross_rent\",\"gross_rent\",\"gross_rent\",\"gross_rent\",\"gross_rent\",\"sale_price_sqr_foot\",\"sale_price_sqr_foot\",\"sale_price_sqr_foot\",\"sale_price_sqr_foot\",\"sale_price_sqr_foot\",\"sale_price_sqr_foot\",\"sale_price_sqr_foot\"],\"value\":{\"__ndarray__\":\"AAAAAABck0AAAAAAAOiXQAAAAAAAKKJAAAAAAAA2p0AAAAAAAJCrQAAAAAAANq1AAAAAAAAmsUA1t0JY7TJyQI790dxvCHFAFa6imi3jZkAkFSHQtDx4QBoRMcoYR35A5T7eUO3QgkD8oNOYtU91QA==\",\"dtype\":\"float64\",\"shape\":[14]},\"xoffsets\":[[\"2010\",\"gross_rent\"],[\"2011\",\"gross_rent\"],[\"2012\",\"gross_rent\"],[\"2013\",\"gross_rent\"],[\"2014\",\"gross_rent\"],[\"2015\",\"gross_rent\"],[\"2016\",\"gross_rent\"],[\"2010\",\"sale_price_sqr_foot\"],[\"2011\",\"sale_price_sqr_foot\"],[\"2012\",\"sale_price_sqr_foot\"],[\"2013\",\"sale_price_sqr_foot\"],[\"2014\",\"sale_price_sqr_foot\"],[\"2015\",\"sale_price_sqr_foot\"],[\"2016\",\"sale_price_sqr_foot\"]],\"year\":[\"2010\",\"2011\",\"2012\",\"2013\",\"2014\",\"2015\",\"2016\",\"2010\",\"2011\",\"2012\",\"2013\",\"2014\",\"2015\",\"2016\"]},\"selected\":{\"id\":\"3197\"},\"selection_policy\":{\"id\":\"3217\"}},\"id\":\"3196\",\"type\":\"ColumnDataSource\"},{\"attributes\":{},\"id\":\"3184\",\"type\":\"WheelZoomTool\"},{\"attributes\":{\"data_source\":{\"id\":\"3196\"},\"glyph\":{\"id\":\"3199\"},\"hover_glyph\":null,\"muted_glyph\":{\"id\":\"3201\"},\"nonselection_glyph\":{\"id\":\"3200\"},\"selection_glyph\":null,\"view\":{\"id\":\"3203\"}},\"id\":\"3202\",\"type\":\"GlyphRenderer\"},{\"attributes\":{},\"id\":\"3204\",\"type\":\"CategoricalTickFormatter\"},{\"attributes\":{},\"id\":\"3217\",\"type\":\"UnionRenderers\"},{\"attributes\":{},\"id\":\"3206\",\"type\":\"BasicTickFormatter\"},{\"attributes\":{},\"id\":\"3173\",\"type\":\"LinearScale\"},{\"attributes\":{},\"id\":\"3183\",\"type\":\"PanTool\"},{\"attributes\":{\"active_drag\":\"auto\",\"active_inspect\":\"auto\",\"active_multi\":null,\"active_scroll\":\"auto\",\"active_tap\":\"auto\",\"tools\":[{\"id\":\"3165\"},{\"id\":\"3182\"},{\"id\":\"3183\"},{\"id\":\"3184\"},{\"id\":\"3185\"},{\"id\":\"3186\"}]},\"id\":\"3188\",\"type\":\"Toolbar\"},{\"attributes\":{},\"id\":\"3182\",\"type\":\"SaveTool\"},{\"attributes\":{\"source\":{\"id\":\"3196\"}},\"id\":\"3203\",\"type\":\"CDSView\"},{\"attributes\":{\"margin\":[5,5,5,5],\"name\":\"HSpacer06074\",\"sizing_mode\":\"stretch_width\"},\"id\":\"3162\",\"type\":\"Spacer\"},{\"attributes\":{\"axis_label\":\"Number Housing Units\",\"bounds\":\"auto\",\"formatter\":{\"id\":\"3206\"},\"major_label_orientation\":\"horizontal\",\"ticker\":{\"id\":\"3179\"}},\"id\":\"3178\",\"type\":\"LinearAxis\"},{\"attributes\":{\"fill_color\":{\"field\":\"Variable\",\"transform\":{\"id\":\"3195\"}},\"top\":{\"field\":\"value\"},\"width\":{\"value\":0.8},\"x\":{\"field\":\"xoffsets\"}},\"id\":\"3199\",\"type\":\"VBar\"},{\"attributes\":{\"axis_label\":\"Neighborhood\",\"bounds\":\"auto\",\"formatter\":{\"id\":\"3204\"},\"major_label_orientation\":1.7453292519943295,\"ticker\":{\"id\":\"3176\"}},\"id\":\"3175\",\"type\":\"CategoricalAxis\"},{\"attributes\":{\"fill_alpha\":{\"value\":0.1},\"fill_color\":{\"field\":\"Variable\",\"transform\":{\"id\":\"3195\"}},\"line_alpha\":{\"value\":0.1},\"top\":{\"field\":\"value\"},\"width\":{\"value\":0.8},\"x\":{\"field\":\"xoffsets\"}},\"id\":\"3200\",\"type\":\"VBar\"},{\"attributes\":{},\"id\":\"3176\",\"type\":\"CategoricalTicker\"},{\"attributes\":{\"overlay\":{\"id\":\"3187\"}},\"id\":\"3185\",\"type\":\"BoxZoomTool\"},{\"attributes\":{\"client_comm_id\":\"41d7991af63a490faf1d934e85612d85\",\"comm_id\":\"aacd833ee23246b1ac37f89e5adf5429\",\"plot_id\":\"3161\"},\"id\":\"3250\",\"type\":\"panel.models.comm_manager.CommManager\"},{\"attributes\":{\"children\":[{\"id\":\"3162\"},{\"id\":\"3166\"},{\"id\":\"3220\"},{\"id\":\"3221\"}],\"margin\":[0,0,0,0],\"name\":\"Row06065\"},\"id\":\"3161\",\"type\":\"Row\"},{\"attributes\":{\"children\":[{\"id\":\"3222\"},{\"id\":\"3223\"},{\"id\":\"3225\"}],\"margin\":[0,0,0,0],\"name\":\"Column06073\"},\"id\":\"3221\",\"type\":\"Column\"},{\"attributes\":{\"axis\":{\"id\":\"3175\"},\"grid_line_color\":null,\"ticker\":null},\"id\":\"3177\",\"type\":\"Grid\"},{\"attributes\":{\"axis\":{\"id\":\"3178\"},\"dimension\":1,\"grid_line_color\":null,\"ticker\":null},\"id\":\"3181\",\"type\":\"Grid\"},{\"attributes\":{\"margin\":[5,5,5,5],\"name\":\"VSpacer06071\",\"sizing_mode\":\"stretch_height\"},\"id\":\"3222\",\"type\":\"Spacer\"},{\"attributes\":{\"below\":[{\"id\":\"3175\"}],\"center\":[{\"id\":\"3177\"},{\"id\":\"3181\"}],\"left\":[{\"id\":\"3178\"}],\"margin\":null,\"min_border_bottom\":10,\"min_border_left\":10,\"min_border_right\":10,\"min_border_top\":10,\"plot_height\":500,\"plot_width\":700,\"renderers\":[{\"id\":\"3202\"}],\"sizing_mode\":\"fixed\",\"title\":{\"id\":\"3167\"},\"toolbar\":{\"id\":\"3188\"},\"x_range\":{\"id\":\"3163\"},\"x_scale\":{\"id\":\"3171\"},\"y_range\":{\"id\":\"3164\"},\"y_scale\":{\"id\":\"3173\"}},\"id\":\"3166\",\"subtype\":\"Figure\",\"type\":\"Plot\"},{\"attributes\":{\"text\":\"Top10 Expensice Neighborhoods in SFO\",\"text_color\":{\"value\":\"black\"},\"text_font_size\":{\"value\":\"12pt\"}},\"id\":\"3167\",\"type\":\"Title\"}],\"root_ids\":[\"3161\",\"3250\"]},\"title\":\"Bokeh Application\",\"version\":\"2.0.2\"}};\n",
       "  var render_items = [{\"docid\":\"9bb3793d-e854-4219-897a-fe022f1f6509\",\"root_ids\":[\"3161\"],\"roots\":{\"3161\":\"395a9637-4a71-496d-af8c-f095ab126cea\"}}];\n",
       "  root.Bokeh.embed.embed_items_notebook(docs_json, render_items);\n",
       "  }\n",
       "if (root.Bokeh !== undefined) {\n",
       "    embed_document(root);\n",
       "  } else {\n",
       "    var attempts = 0;\n",
       "    var timer = setInterval(function(root) {\n",
       "      if (root.Bokeh !== undefined) {\n",
       "        clearInterval(timer);\n",
       "        embed_document(root);\n",
       "      } else if (document.readyState == \"complete\") {\n",
       "        attempts++;\n",
       "        if (attempts > 100) {\n",
       "          clearInterval(timer);\n",
       "          console.log(\"Bokeh: ERROR: Unable to run BokehJS code because BokehJS library is missing\");\n",
       "        }\n",
       "      }\n",
       "    }, 10, root)\n",
       "  }\n",
       "})(window);</script>"
      ],
      "text/plain": [
       ":DynamicMap   [neighborhood]\n",
       "   :Bars   [year,Variable]   (value)"
      ]
     },
     "execution_count": 66,
     "metadata": {
      "application/vnd.holoviews_exec.v0+json": {
       "id": "3161"
      }
     },
     "output_type": "execute_result"
    }
   ],
   "source": [
    " most_expensive_neighborhoods_rent_sales()"
   ]
  },
  {
   "cell_type": "code",
   "execution_count": 67,
   "metadata": {},
   "outputs": [
    {
     "data": {
      "text/html": [
       "<div>\n",
       "<style scoped>\n",
       "    .dataframe tbody tr th:only-of-type {\n",
       "        vertical-align: middle;\n",
       "    }\n",
       "\n",
       "    .dataframe tbody tr th {\n",
       "        vertical-align: top;\n",
       "    }\n",
       "\n",
       "    .dataframe thead th {\n",
       "        text-align: right;\n",
       "    }\n",
       "</style>\n",
       "<table border=\"1\" class=\"dataframe\">\n",
       "  <thead>\n",
       "    <tr style=\"text-align: right;\">\n",
       "      <th></th>\n",
       "      <th>Neighborhood</th>\n",
       "      <th>sale_price_sqr_foot</th>\n",
       "      <th>housing_units</th>\n",
       "      <th>gross_rent</th>\n",
       "      <th>Lat</th>\n",
       "      <th>Lon</th>\n",
       "    </tr>\n",
       "  </thead>\n",
       "  <tbody>\n",
       "    <tr>\n",
       "      <th>0</th>\n",
       "      <td>Alamo Square</td>\n",
       "      <td>366.020712</td>\n",
       "      <td>378401.00</td>\n",
       "      <td>2817.285714</td>\n",
       "      <td>37.791012</td>\n",
       "      <td>-122.402100</td>\n",
       "    </tr>\n",
       "    <tr>\n",
       "      <th>1</th>\n",
       "      <td>Anza Vista</td>\n",
       "      <td>373.382198</td>\n",
       "      <td>379050.00</td>\n",
       "      <td>3031.833333</td>\n",
       "      <td>37.779598</td>\n",
       "      <td>-122.443451</td>\n",
       "    </tr>\n",
       "    <tr>\n",
       "      <th>2</th>\n",
       "      <td>Bayview</td>\n",
       "      <td>204.588623</td>\n",
       "      <td>376454.00</td>\n",
       "      <td>2318.400000</td>\n",
       "      <td>37.734670</td>\n",
       "      <td>-122.401060</td>\n",
       "    </tr>\n",
       "    <tr>\n",
       "      <th>3</th>\n",
       "      <td>Bayview Heights</td>\n",
       "      <td>590.792839</td>\n",
       "      <td>382295.00</td>\n",
       "      <td>3739.000000</td>\n",
       "      <td>37.728740</td>\n",
       "      <td>-122.410980</td>\n",
       "    </tr>\n",
       "    <tr>\n",
       "      <th>4</th>\n",
       "      <td>Buena Vista Park</td>\n",
       "      <td>452.680591</td>\n",
       "      <td>378076.50</td>\n",
       "      <td>2698.833333</td>\n",
       "      <td>37.768160</td>\n",
       "      <td>-122.439330</td>\n",
       "    </tr>\n",
       "    <tr>\n",
       "      <th>...</th>\n",
       "      <td>...</td>\n",
       "      <td>...</td>\n",
       "      <td>...</td>\n",
       "      <td>...</td>\n",
       "      <td>...</td>\n",
       "      <td>...</td>\n",
       "    </tr>\n",
       "    <tr>\n",
       "      <th>64</th>\n",
       "      <td>West Portal</td>\n",
       "      <td>498.488485</td>\n",
       "      <td>376940.75</td>\n",
       "      <td>2515.500000</td>\n",
       "      <td>37.740260</td>\n",
       "      <td>-122.463880</td>\n",
       "    </tr>\n",
       "    <tr>\n",
       "      <th>65</th>\n",
       "      <td>Western Addition</td>\n",
       "      <td>307.562201</td>\n",
       "      <td>377427.50</td>\n",
       "      <td>2555.166667</td>\n",
       "      <td>37.792980</td>\n",
       "      <td>-122.435790</td>\n",
       "    </tr>\n",
       "    <tr>\n",
       "      <th>66</th>\n",
       "      <td>Westwood Highlands</td>\n",
       "      <td>533.703935</td>\n",
       "      <td>376454.00</td>\n",
       "      <td>2250.500000</td>\n",
       "      <td>37.734700</td>\n",
       "      <td>-122.456854</td>\n",
       "    </tr>\n",
       "    <tr>\n",
       "      <th>67</th>\n",
       "      <td>Westwood Park</td>\n",
       "      <td>687.087575</td>\n",
       "      <td>382295.00</td>\n",
       "      <td>3959.000000</td>\n",
       "      <td>37.734150</td>\n",
       "      <td>-122.457000</td>\n",
       "    </tr>\n",
       "    <tr>\n",
       "      <th>68</th>\n",
       "      <td>Yerba Buena</td>\n",
       "      <td>576.709848</td>\n",
       "      <td>377427.50</td>\n",
       "      <td>2555.166667</td>\n",
       "      <td>37.792980</td>\n",
       "      <td>-122.396360</td>\n",
       "    </tr>\n",
       "  </tbody>\n",
       "</table>\n",
       "<p>69 rows × 6 columns</p>\n",
       "</div>"
      ],
      "text/plain": [
       "          Neighborhood  sale_price_sqr_foot  housing_units   gross_rent  \\\n",
       "0         Alamo Square           366.020712      378401.00  2817.285714   \n",
       "1           Anza Vista           373.382198      379050.00  3031.833333   \n",
       "2              Bayview           204.588623      376454.00  2318.400000   \n",
       "3      Bayview Heights           590.792839      382295.00  3739.000000   \n",
       "4     Buena Vista Park           452.680591      378076.50  2698.833333   \n",
       "..                 ...                  ...            ...          ...   \n",
       "64         West Portal           498.488485      376940.75  2515.500000   \n",
       "65    Western Addition           307.562201      377427.50  2555.166667   \n",
       "66  Westwood Highlands           533.703935      376454.00  2250.500000   \n",
       "67       Westwood Park           687.087575      382295.00  3959.000000   \n",
       "68         Yerba Buena           576.709848      377427.50  2555.166667   \n",
       "\n",
       "          Lat         Lon  \n",
       "0   37.791012 -122.402100  \n",
       "1   37.779598 -122.443451  \n",
       "2   37.734670 -122.401060  \n",
       "3   37.728740 -122.410980  \n",
       "4   37.768160 -122.439330  \n",
       "..        ...         ...  \n",
       "64  37.740260 -122.463880  \n",
       "65  37.792980 -122.435790  \n",
       "66  37.734700 -122.456854  \n",
       "67  37.734150 -122.457000  \n",
       "68  37.792980 -122.396360  \n",
       "\n",
       "[69 rows x 6 columns]"
      ]
     },
     "execution_count": 67,
     "metadata": {},
     "output_type": "execute_result"
    }
   ],
   "source": [
    " neighborhood_map()"
   ]
  },
  {
   "cell_type": "code",
   "execution_count": 68,
   "metadata": {},
   "outputs": [
    {
     "data": {
      "application/vnd.plotly.v1+json": {
       "config": {
        "plotlyServerURL": "https://plot.ly"
       },
       "data": [
        {
         "dimensions": [
          {
           "label": "neighborhood",
           "values": [
            "Union Square District",
            "Merced Heights",
            "Miraloma Park",
            "Pacific Heights",
            "Westwood Park",
            "Telegraph Hill",
            "Presidio Heights",
            "Cow Hollow",
            "Potrero Hill",
            "South Beach"
           ]
          },
          {
           "label": "sale_price_sqr_foot",
           "values": [
            903.9932577166666,
            788.8448177,
            779.81084235,
            689.5558167999999,
            687.08757455,
            676.5065775285714,
            675.3502119833333,
            665.9640416428572,
            662.013612842857,
            650.1244793000001
           ]
          },
          {
           "label": "housing_units",
           "values": [
            377427.5,
            380348,
            375967.25,
            378401,
            382295,
            378401,
            378401,
            378401,
            378401,
            375805
           ]
          },
          {
           "label": "gross_rent",
           "values": [
            2555.1666666666665,
            3414,
            2155.25,
            2817.285714285714,
            3959,
            2817.285714285714,
            2817.285714285714,
            2817.285714285714,
            2817.285714285714,
            2099
           ]
          }
         ],
         "domain": {
          "x": [
           0,
           1
          ],
          "y": [
           0,
           1
          ]
         },
         "line": {
          "color": [
           903.9932577166666,
           788.8448177,
           779.81084235,
           689.5558167999999,
           687.08757455,
           676.5065775285714,
           675.3502119833333,
           665.9640416428572,
           662.013612842857,
           650.1244793000001
          ],
          "coloraxis": "coloraxis"
         },
         "name": "",
         "type": "parcats"
        }
       ],
       "layout": {
        "coloraxis": {
         "colorbar": {
          "title": {
           "text": "sale_price_sqr_foot"
          }
         },
         "colorscale": [
          [
           0,
           "#000004"
          ],
          [
           0.1111111111111111,
           "#1b0c41"
          ],
          [
           0.2222222222222222,
           "#4a0c6b"
          ],
          [
           0.3333333333333333,
           "#781c6d"
          ],
          [
           0.4444444444444444,
           "#a52c60"
          ],
          [
           0.5555555555555556,
           "#cf4446"
          ],
          [
           0.6666666666666666,
           "#ed6925"
          ],
          [
           0.7777777777777778,
           "#fb9b06"
          ],
          [
           0.8888888888888888,
           "#f7d13d"
          ],
          [
           1,
           "#fcffa4"
          ]
         ]
        },
        "legend": {
         "tracegroupgap": 0
        },
        "margin": {
         "t": 60
        },
        "template": {
         "data": {
          "bar": [
           {
            "error_x": {
             "color": "#2a3f5f"
            },
            "error_y": {
             "color": "#2a3f5f"
            },
            "marker": {
             "line": {
              "color": "#E5ECF6",
              "width": 0.5
             },
             "pattern": {
              "fillmode": "overlay",
              "size": 10,
              "solidity": 0.2
             }
            },
            "type": "bar"
           }
          ],
          "barpolar": [
           {
            "marker": {
             "line": {
              "color": "#E5ECF6",
              "width": 0.5
             },
             "pattern": {
              "fillmode": "overlay",
              "size": 10,
              "solidity": 0.2
             }
            },
            "type": "barpolar"
           }
          ],
          "carpet": [
           {
            "aaxis": {
             "endlinecolor": "#2a3f5f",
             "gridcolor": "white",
             "linecolor": "white",
             "minorgridcolor": "white",
             "startlinecolor": "#2a3f5f"
            },
            "baxis": {
             "endlinecolor": "#2a3f5f",
             "gridcolor": "white",
             "linecolor": "white",
             "minorgridcolor": "white",
             "startlinecolor": "#2a3f5f"
            },
            "type": "carpet"
           }
          ],
          "choropleth": [
           {
            "colorbar": {
             "outlinewidth": 0,
             "ticks": ""
            },
            "type": "choropleth"
           }
          ],
          "contour": [
           {
            "colorbar": {
             "outlinewidth": 0,
             "ticks": ""
            },
            "colorscale": [
             [
              0,
              "#0d0887"
             ],
             [
              0.1111111111111111,
              "#46039f"
             ],
             [
              0.2222222222222222,
              "#7201a8"
             ],
             [
              0.3333333333333333,
              "#9c179e"
             ],
             [
              0.4444444444444444,
              "#bd3786"
             ],
             [
              0.5555555555555556,
              "#d8576b"
             ],
             [
              0.6666666666666666,
              "#ed7953"
             ],
             [
              0.7777777777777778,
              "#fb9f3a"
             ],
             [
              0.8888888888888888,
              "#fdca26"
             ],
             [
              1,
              "#f0f921"
             ]
            ],
            "type": "contour"
           }
          ],
          "contourcarpet": [
           {
            "colorbar": {
             "outlinewidth": 0,
             "ticks": ""
            },
            "type": "contourcarpet"
           }
          ],
          "heatmap": [
           {
            "colorbar": {
             "outlinewidth": 0,
             "ticks": ""
            },
            "colorscale": [
             [
              0,
              "#0d0887"
             ],
             [
              0.1111111111111111,
              "#46039f"
             ],
             [
              0.2222222222222222,
              "#7201a8"
             ],
             [
              0.3333333333333333,
              "#9c179e"
             ],
             [
              0.4444444444444444,
              "#bd3786"
             ],
             [
              0.5555555555555556,
              "#d8576b"
             ],
             [
              0.6666666666666666,
              "#ed7953"
             ],
             [
              0.7777777777777778,
              "#fb9f3a"
             ],
             [
              0.8888888888888888,
              "#fdca26"
             ],
             [
              1,
              "#f0f921"
             ]
            ],
            "type": "heatmap"
           }
          ],
          "heatmapgl": [
           {
            "colorbar": {
             "outlinewidth": 0,
             "ticks": ""
            },
            "colorscale": [
             [
              0,
              "#0d0887"
             ],
             [
              0.1111111111111111,
              "#46039f"
             ],
             [
              0.2222222222222222,
              "#7201a8"
             ],
             [
              0.3333333333333333,
              "#9c179e"
             ],
             [
              0.4444444444444444,
              "#bd3786"
             ],
             [
              0.5555555555555556,
              "#d8576b"
             ],
             [
              0.6666666666666666,
              "#ed7953"
             ],
             [
              0.7777777777777778,
              "#fb9f3a"
             ],
             [
              0.8888888888888888,
              "#fdca26"
             ],
             [
              1,
              "#f0f921"
             ]
            ],
            "type": "heatmapgl"
           }
          ],
          "histogram": [
           {
            "marker": {
             "pattern": {
              "fillmode": "overlay",
              "size": 10,
              "solidity": 0.2
             }
            },
            "type": "histogram"
           }
          ],
          "histogram2d": [
           {
            "colorbar": {
             "outlinewidth": 0,
             "ticks": ""
            },
            "colorscale": [
             [
              0,
              "#0d0887"
             ],
             [
              0.1111111111111111,
              "#46039f"
             ],
             [
              0.2222222222222222,
              "#7201a8"
             ],
             [
              0.3333333333333333,
              "#9c179e"
             ],
             [
              0.4444444444444444,
              "#bd3786"
             ],
             [
              0.5555555555555556,
              "#d8576b"
             ],
             [
              0.6666666666666666,
              "#ed7953"
             ],
             [
              0.7777777777777778,
              "#fb9f3a"
             ],
             [
              0.8888888888888888,
              "#fdca26"
             ],
             [
              1,
              "#f0f921"
             ]
            ],
            "type": "histogram2d"
           }
          ],
          "histogram2dcontour": [
           {
            "colorbar": {
             "outlinewidth": 0,
             "ticks": ""
            },
            "colorscale": [
             [
              0,
              "#0d0887"
             ],
             [
              0.1111111111111111,
              "#46039f"
             ],
             [
              0.2222222222222222,
              "#7201a8"
             ],
             [
              0.3333333333333333,
              "#9c179e"
             ],
             [
              0.4444444444444444,
              "#bd3786"
             ],
             [
              0.5555555555555556,
              "#d8576b"
             ],
             [
              0.6666666666666666,
              "#ed7953"
             ],
             [
              0.7777777777777778,
              "#fb9f3a"
             ],
             [
              0.8888888888888888,
              "#fdca26"
             ],
             [
              1,
              "#f0f921"
             ]
            ],
            "type": "histogram2dcontour"
           }
          ],
          "mesh3d": [
           {
            "colorbar": {
             "outlinewidth": 0,
             "ticks": ""
            },
            "type": "mesh3d"
           }
          ],
          "parcoords": [
           {
            "line": {
             "colorbar": {
              "outlinewidth": 0,
              "ticks": ""
             }
            },
            "type": "parcoords"
           }
          ],
          "pie": [
           {
            "automargin": true,
            "type": "pie"
           }
          ],
          "scatter": [
           {
            "marker": {
             "colorbar": {
              "outlinewidth": 0,
              "ticks": ""
             }
            },
            "type": "scatter"
           }
          ],
          "scatter3d": [
           {
            "line": {
             "colorbar": {
              "outlinewidth": 0,
              "ticks": ""
             }
            },
            "marker": {
             "colorbar": {
              "outlinewidth": 0,
              "ticks": ""
             }
            },
            "type": "scatter3d"
           }
          ],
          "scattercarpet": [
           {
            "marker": {
             "colorbar": {
              "outlinewidth": 0,
              "ticks": ""
             }
            },
            "type": "scattercarpet"
           }
          ],
          "scattergeo": [
           {
            "marker": {
             "colorbar": {
              "outlinewidth": 0,
              "ticks": ""
             }
            },
            "type": "scattergeo"
           }
          ],
          "scattergl": [
           {
            "marker": {
             "colorbar": {
              "outlinewidth": 0,
              "ticks": ""
             }
            },
            "type": "scattergl"
           }
          ],
          "scattermapbox": [
           {
            "marker": {
             "colorbar": {
              "outlinewidth": 0,
              "ticks": ""
             }
            },
            "type": "scattermapbox"
           }
          ],
          "scatterpolar": [
           {
            "marker": {
             "colorbar": {
              "outlinewidth": 0,
              "ticks": ""
             }
            },
            "type": "scatterpolar"
           }
          ],
          "scatterpolargl": [
           {
            "marker": {
             "colorbar": {
              "outlinewidth": 0,
              "ticks": ""
             }
            },
            "type": "scatterpolargl"
           }
          ],
          "scatterternary": [
           {
            "marker": {
             "colorbar": {
              "outlinewidth": 0,
              "ticks": ""
             }
            },
            "type": "scatterternary"
           }
          ],
          "surface": [
           {
            "colorbar": {
             "outlinewidth": 0,
             "ticks": ""
            },
            "colorscale": [
             [
              0,
              "#0d0887"
             ],
             [
              0.1111111111111111,
              "#46039f"
             ],
             [
              0.2222222222222222,
              "#7201a8"
             ],
             [
              0.3333333333333333,
              "#9c179e"
             ],
             [
              0.4444444444444444,
              "#bd3786"
             ],
             [
              0.5555555555555556,
              "#d8576b"
             ],
             [
              0.6666666666666666,
              "#ed7953"
             ],
             [
              0.7777777777777778,
              "#fb9f3a"
             ],
             [
              0.8888888888888888,
              "#fdca26"
             ],
             [
              1,
              "#f0f921"
             ]
            ],
            "type": "surface"
           }
          ],
          "table": [
           {
            "cells": {
             "fill": {
              "color": "#EBF0F8"
             },
             "line": {
              "color": "white"
             }
            },
            "header": {
             "fill": {
              "color": "#C8D4E3"
             },
             "line": {
              "color": "white"
             }
            },
            "type": "table"
           }
          ]
         },
         "layout": {
          "annotationdefaults": {
           "arrowcolor": "#2a3f5f",
           "arrowhead": 0,
           "arrowwidth": 1
          },
          "autotypenumbers": "strict",
          "coloraxis": {
           "colorbar": {
            "outlinewidth": 0,
            "ticks": ""
           }
          },
          "colorscale": {
           "diverging": [
            [
             0,
             "#8e0152"
            ],
            [
             0.1,
             "#c51b7d"
            ],
            [
             0.2,
             "#de77ae"
            ],
            [
             0.3,
             "#f1b6da"
            ],
            [
             0.4,
             "#fde0ef"
            ],
            [
             0.5,
             "#f7f7f7"
            ],
            [
             0.6,
             "#e6f5d0"
            ],
            [
             0.7,
             "#b8e186"
            ],
            [
             0.8,
             "#7fbc41"
            ],
            [
             0.9,
             "#4d9221"
            ],
            [
             1,
             "#276419"
            ]
           ],
           "sequential": [
            [
             0,
             "#0d0887"
            ],
            [
             0.1111111111111111,
             "#46039f"
            ],
            [
             0.2222222222222222,
             "#7201a8"
            ],
            [
             0.3333333333333333,
             "#9c179e"
            ],
            [
             0.4444444444444444,
             "#bd3786"
            ],
            [
             0.5555555555555556,
             "#d8576b"
            ],
            [
             0.6666666666666666,
             "#ed7953"
            ],
            [
             0.7777777777777778,
             "#fb9f3a"
            ],
            [
             0.8888888888888888,
             "#fdca26"
            ],
            [
             1,
             "#f0f921"
            ]
           ],
           "sequentialminus": [
            [
             0,
             "#0d0887"
            ],
            [
             0.1111111111111111,
             "#46039f"
            ],
            [
             0.2222222222222222,
             "#7201a8"
            ],
            [
             0.3333333333333333,
             "#9c179e"
            ],
            [
             0.4444444444444444,
             "#bd3786"
            ],
            [
             0.5555555555555556,
             "#d8576b"
            ],
            [
             0.6666666666666666,
             "#ed7953"
            ],
            [
             0.7777777777777778,
             "#fb9f3a"
            ],
            [
             0.8888888888888888,
             "#fdca26"
            ],
            [
             1,
             "#f0f921"
            ]
           ]
          },
          "colorway": [
           "#636efa",
           "#EF553B",
           "#00cc96",
           "#ab63fa",
           "#FFA15A",
           "#19d3f3",
           "#FF6692",
           "#B6E880",
           "#FF97FF",
           "#FECB52"
          ],
          "font": {
           "color": "#2a3f5f"
          },
          "geo": {
           "bgcolor": "white",
           "lakecolor": "white",
           "landcolor": "#E5ECF6",
           "showlakes": true,
           "showland": true,
           "subunitcolor": "white"
          },
          "hoverlabel": {
           "align": "left"
          },
          "hovermode": "closest",
          "mapbox": {
           "style": "light"
          },
          "paper_bgcolor": "white",
          "plot_bgcolor": "#E5ECF6",
          "polar": {
           "angularaxis": {
            "gridcolor": "white",
            "linecolor": "white",
            "ticks": ""
           },
           "bgcolor": "#E5ECF6",
           "radialaxis": {
            "gridcolor": "white",
            "linecolor": "white",
            "ticks": ""
           }
          },
          "scene": {
           "xaxis": {
            "backgroundcolor": "#E5ECF6",
            "gridcolor": "white",
            "gridwidth": 2,
            "linecolor": "white",
            "showbackground": true,
            "ticks": "",
            "zerolinecolor": "white"
           },
           "yaxis": {
            "backgroundcolor": "#E5ECF6",
            "gridcolor": "white",
            "gridwidth": 2,
            "linecolor": "white",
            "showbackground": true,
            "ticks": "",
            "zerolinecolor": "white"
           },
           "zaxis": {
            "backgroundcolor": "#E5ECF6",
            "gridcolor": "white",
            "gridwidth": 2,
            "linecolor": "white",
            "showbackground": true,
            "ticks": "",
            "zerolinecolor": "white"
           }
          },
          "shapedefaults": {
           "line": {
            "color": "#2a3f5f"
           }
          },
          "ternary": {
           "aaxis": {
            "gridcolor": "white",
            "linecolor": "white",
            "ticks": ""
           },
           "baxis": {
            "gridcolor": "white",
            "linecolor": "white",
            "ticks": ""
           },
           "bgcolor": "#E5ECF6",
           "caxis": {
            "gridcolor": "white",
            "linecolor": "white",
            "ticks": ""
           }
          },
          "title": {
           "x": 0.05
          },
          "xaxis": {
           "automargin": true,
           "gridcolor": "white",
           "linecolor": "white",
           "ticks": "",
           "title": {
            "standoff": 15
           },
           "zerolinecolor": "white",
           "zerolinewidth": 2
          },
          "yaxis": {
           "automargin": true,
           "gridcolor": "white",
           "linecolor": "white",
           "ticks": "",
           "title": {
            "standoff": 15
           },
           "zerolinecolor": "white",
           "zerolinewidth": 2
          }
         }
        }
       }
      },
      "text/html": [
       "<div>                            <div id=\"0227ec93-f119-4992-8f1d-0b7aaf3d246c\" class=\"plotly-graph-div\" style=\"height:525px; width:100%;\"></div>            <script type=\"text/javascript\">                require([\"plotly\"], function(Plotly) {                    window.PLOTLYENV=window.PLOTLYENV || {};                                    if (document.getElementById(\"0227ec93-f119-4992-8f1d-0b7aaf3d246c\")) {                    Plotly.newPlot(                        \"0227ec93-f119-4992-8f1d-0b7aaf3d246c\",                        [{\"dimensions\":[{\"label\":\"neighborhood\",\"values\":[\"Union Square District\",\"Merced Heights\",\"Miraloma Park\",\"Pacific Heights\",\"Westwood Park\",\"Telegraph Hill\",\"Presidio Heights\",\"Cow Hollow\",\"Potrero Hill\",\"South Beach\"]},{\"label\":\"sale_price_sqr_foot\",\"values\":[903.9932577166666,788.8448177,779.81084235,689.5558167999999,687.08757455,676.5065775285714,675.3502119833333,665.9640416428572,662.013612842857,650.1244793000001]},{\"label\":\"housing_units\",\"values\":[377427.5,380348.0,375967.25,378401.0,382295.0,378401.0,378401.0,378401.0,378401.0,375805.0]},{\"label\":\"gross_rent\",\"values\":[2555.1666666666665,3414.0,2155.25,2817.285714285714,3959.0,2817.285714285714,2817.285714285714,2817.285714285714,2817.285714285714,2099.0]}],\"domain\":{\"x\":[0.0,1.0],\"y\":[0.0,1.0]},\"line\":{\"color\":[903.9932577166666,788.8448177,779.81084235,689.5558167999999,687.08757455,676.5065775285714,675.3502119833333,665.9640416428572,662.013612842857,650.1244793000001],\"coloraxis\":\"coloraxis\"},\"name\":\"\",\"type\":\"parcats\"}],                        {\"coloraxis\":{\"colorbar\":{\"title\":{\"text\":\"sale_price_sqr_foot\"}},\"colorscale\":[[0.0,\"#000004\"],[0.1111111111111111,\"#1b0c41\"],[0.2222222222222222,\"#4a0c6b\"],[0.3333333333333333,\"#781c6d\"],[0.4444444444444444,\"#a52c60\"],[0.5555555555555556,\"#cf4446\"],[0.6666666666666666,\"#ed6925\"],[0.7777777777777778,\"#fb9b06\"],[0.8888888888888888,\"#f7d13d\"],[1.0,\"#fcffa4\"]]},\"legend\":{\"tracegroupgap\":0},\"margin\":{\"t\":60},\"template\":{\"data\":{\"bar\":[{\"error_x\":{\"color\":\"#2a3f5f\"},\"error_y\":{\"color\":\"#2a3f5f\"},\"marker\":{\"line\":{\"color\":\"#E5ECF6\",\"width\":0.5},\"pattern\":{\"fillmode\":\"overlay\",\"size\":10,\"solidity\":0.2}},\"type\":\"bar\"}],\"barpolar\":[{\"marker\":{\"line\":{\"color\":\"#E5ECF6\",\"width\":0.5},\"pattern\":{\"fillmode\":\"overlay\",\"size\":10,\"solidity\":0.2}},\"type\":\"barpolar\"}],\"carpet\":[{\"aaxis\":{\"endlinecolor\":\"#2a3f5f\",\"gridcolor\":\"white\",\"linecolor\":\"white\",\"minorgridcolor\":\"white\",\"startlinecolor\":\"#2a3f5f\"},\"baxis\":{\"endlinecolor\":\"#2a3f5f\",\"gridcolor\":\"white\",\"linecolor\":\"white\",\"minorgridcolor\":\"white\",\"startlinecolor\":\"#2a3f5f\"},\"type\":\"carpet\"}],\"choropleth\":[{\"colorbar\":{\"outlinewidth\":0,\"ticks\":\"\"},\"type\":\"choropleth\"}],\"contour\":[{\"colorbar\":{\"outlinewidth\":0,\"ticks\":\"\"},\"colorscale\":[[0.0,\"#0d0887\"],[0.1111111111111111,\"#46039f\"],[0.2222222222222222,\"#7201a8\"],[0.3333333333333333,\"#9c179e\"],[0.4444444444444444,\"#bd3786\"],[0.5555555555555556,\"#d8576b\"],[0.6666666666666666,\"#ed7953\"],[0.7777777777777778,\"#fb9f3a\"],[0.8888888888888888,\"#fdca26\"],[1.0,\"#f0f921\"]],\"type\":\"contour\"}],\"contourcarpet\":[{\"colorbar\":{\"outlinewidth\":0,\"ticks\":\"\"},\"type\":\"contourcarpet\"}],\"heatmap\":[{\"colorbar\":{\"outlinewidth\":0,\"ticks\":\"\"},\"colorscale\":[[0.0,\"#0d0887\"],[0.1111111111111111,\"#46039f\"],[0.2222222222222222,\"#7201a8\"],[0.3333333333333333,\"#9c179e\"],[0.4444444444444444,\"#bd3786\"],[0.5555555555555556,\"#d8576b\"],[0.6666666666666666,\"#ed7953\"],[0.7777777777777778,\"#fb9f3a\"],[0.8888888888888888,\"#fdca26\"],[1.0,\"#f0f921\"]],\"type\":\"heatmap\"}],\"heatmapgl\":[{\"colorbar\":{\"outlinewidth\":0,\"ticks\":\"\"},\"colorscale\":[[0.0,\"#0d0887\"],[0.1111111111111111,\"#46039f\"],[0.2222222222222222,\"#7201a8\"],[0.3333333333333333,\"#9c179e\"],[0.4444444444444444,\"#bd3786\"],[0.5555555555555556,\"#d8576b\"],[0.6666666666666666,\"#ed7953\"],[0.7777777777777778,\"#fb9f3a\"],[0.8888888888888888,\"#fdca26\"],[1.0,\"#f0f921\"]],\"type\":\"heatmapgl\"}],\"histogram\":[{\"marker\":{\"pattern\":{\"fillmode\":\"overlay\",\"size\":10,\"solidity\":0.2}},\"type\":\"histogram\"}],\"histogram2d\":[{\"colorbar\":{\"outlinewidth\":0,\"ticks\":\"\"},\"colorscale\":[[0.0,\"#0d0887\"],[0.1111111111111111,\"#46039f\"],[0.2222222222222222,\"#7201a8\"],[0.3333333333333333,\"#9c179e\"],[0.4444444444444444,\"#bd3786\"],[0.5555555555555556,\"#d8576b\"],[0.6666666666666666,\"#ed7953\"],[0.7777777777777778,\"#fb9f3a\"],[0.8888888888888888,\"#fdca26\"],[1.0,\"#f0f921\"]],\"type\":\"histogram2d\"}],\"histogram2dcontour\":[{\"colorbar\":{\"outlinewidth\":0,\"ticks\":\"\"},\"colorscale\":[[0.0,\"#0d0887\"],[0.1111111111111111,\"#46039f\"],[0.2222222222222222,\"#7201a8\"],[0.3333333333333333,\"#9c179e\"],[0.4444444444444444,\"#bd3786\"],[0.5555555555555556,\"#d8576b\"],[0.6666666666666666,\"#ed7953\"],[0.7777777777777778,\"#fb9f3a\"],[0.8888888888888888,\"#fdca26\"],[1.0,\"#f0f921\"]],\"type\":\"histogram2dcontour\"}],\"mesh3d\":[{\"colorbar\":{\"outlinewidth\":0,\"ticks\":\"\"},\"type\":\"mesh3d\"}],\"parcoords\":[{\"line\":{\"colorbar\":{\"outlinewidth\":0,\"ticks\":\"\"}},\"type\":\"parcoords\"}],\"pie\":[{\"automargin\":true,\"type\":\"pie\"}],\"scatter\":[{\"marker\":{\"colorbar\":{\"outlinewidth\":0,\"ticks\":\"\"}},\"type\":\"scatter\"}],\"scatter3d\":[{\"line\":{\"colorbar\":{\"outlinewidth\":0,\"ticks\":\"\"}},\"marker\":{\"colorbar\":{\"outlinewidth\":0,\"ticks\":\"\"}},\"type\":\"scatter3d\"}],\"scattercarpet\":[{\"marker\":{\"colorbar\":{\"outlinewidth\":0,\"ticks\":\"\"}},\"type\":\"scattercarpet\"}],\"scattergeo\":[{\"marker\":{\"colorbar\":{\"outlinewidth\":0,\"ticks\":\"\"}},\"type\":\"scattergeo\"}],\"scattergl\":[{\"marker\":{\"colorbar\":{\"outlinewidth\":0,\"ticks\":\"\"}},\"type\":\"scattergl\"}],\"scattermapbox\":[{\"marker\":{\"colorbar\":{\"outlinewidth\":0,\"ticks\":\"\"}},\"type\":\"scattermapbox\"}],\"scatterpolar\":[{\"marker\":{\"colorbar\":{\"outlinewidth\":0,\"ticks\":\"\"}},\"type\":\"scatterpolar\"}],\"scatterpolargl\":[{\"marker\":{\"colorbar\":{\"outlinewidth\":0,\"ticks\":\"\"}},\"type\":\"scatterpolargl\"}],\"scatterternary\":[{\"marker\":{\"colorbar\":{\"outlinewidth\":0,\"ticks\":\"\"}},\"type\":\"scatterternary\"}],\"surface\":[{\"colorbar\":{\"outlinewidth\":0,\"ticks\":\"\"},\"colorscale\":[[0.0,\"#0d0887\"],[0.1111111111111111,\"#46039f\"],[0.2222222222222222,\"#7201a8\"],[0.3333333333333333,\"#9c179e\"],[0.4444444444444444,\"#bd3786\"],[0.5555555555555556,\"#d8576b\"],[0.6666666666666666,\"#ed7953\"],[0.7777777777777778,\"#fb9f3a\"],[0.8888888888888888,\"#fdca26\"],[1.0,\"#f0f921\"]],\"type\":\"surface\"}],\"table\":[{\"cells\":{\"fill\":{\"color\":\"#EBF0F8\"},\"line\":{\"color\":\"white\"}},\"header\":{\"fill\":{\"color\":\"#C8D4E3\"},\"line\":{\"color\":\"white\"}},\"type\":\"table\"}]},\"layout\":{\"annotationdefaults\":{\"arrowcolor\":\"#2a3f5f\",\"arrowhead\":0,\"arrowwidth\":1},\"autotypenumbers\":\"strict\",\"coloraxis\":{\"colorbar\":{\"outlinewidth\":0,\"ticks\":\"\"}},\"colorscale\":{\"diverging\":[[0,\"#8e0152\"],[0.1,\"#c51b7d\"],[0.2,\"#de77ae\"],[0.3,\"#f1b6da\"],[0.4,\"#fde0ef\"],[0.5,\"#f7f7f7\"],[0.6,\"#e6f5d0\"],[0.7,\"#b8e186\"],[0.8,\"#7fbc41\"],[0.9,\"#4d9221\"],[1,\"#276419\"]],\"sequential\":[[0.0,\"#0d0887\"],[0.1111111111111111,\"#46039f\"],[0.2222222222222222,\"#7201a8\"],[0.3333333333333333,\"#9c179e\"],[0.4444444444444444,\"#bd3786\"],[0.5555555555555556,\"#d8576b\"],[0.6666666666666666,\"#ed7953\"],[0.7777777777777778,\"#fb9f3a\"],[0.8888888888888888,\"#fdca26\"],[1.0,\"#f0f921\"]],\"sequentialminus\":[[0.0,\"#0d0887\"],[0.1111111111111111,\"#46039f\"],[0.2222222222222222,\"#7201a8\"],[0.3333333333333333,\"#9c179e\"],[0.4444444444444444,\"#bd3786\"],[0.5555555555555556,\"#d8576b\"],[0.6666666666666666,\"#ed7953\"],[0.7777777777777778,\"#fb9f3a\"],[0.8888888888888888,\"#fdca26\"],[1.0,\"#f0f921\"]]},\"colorway\":[\"#636efa\",\"#EF553B\",\"#00cc96\",\"#ab63fa\",\"#FFA15A\",\"#19d3f3\",\"#FF6692\",\"#B6E880\",\"#FF97FF\",\"#FECB52\"],\"font\":{\"color\":\"#2a3f5f\"},\"geo\":{\"bgcolor\":\"white\",\"lakecolor\":\"white\",\"landcolor\":\"#E5ECF6\",\"showlakes\":true,\"showland\":true,\"subunitcolor\":\"white\"},\"hoverlabel\":{\"align\":\"left\"},\"hovermode\":\"closest\",\"mapbox\":{\"style\":\"light\"},\"paper_bgcolor\":\"white\",\"plot_bgcolor\":\"#E5ECF6\",\"polar\":{\"angularaxis\":{\"gridcolor\":\"white\",\"linecolor\":\"white\",\"ticks\":\"\"},\"bgcolor\":\"#E5ECF6\",\"radialaxis\":{\"gridcolor\":\"white\",\"linecolor\":\"white\",\"ticks\":\"\"}},\"scene\":{\"xaxis\":{\"backgroundcolor\":\"#E5ECF6\",\"gridcolor\":\"white\",\"gridwidth\":2,\"linecolor\":\"white\",\"showbackground\":true,\"ticks\":\"\",\"zerolinecolor\":\"white\"},\"yaxis\":{\"backgroundcolor\":\"#E5ECF6\",\"gridcolor\":\"white\",\"gridwidth\":2,\"linecolor\":\"white\",\"showbackground\":true,\"ticks\":\"\",\"zerolinecolor\":\"white\"},\"zaxis\":{\"backgroundcolor\":\"#E5ECF6\",\"gridcolor\":\"white\",\"gridwidth\":2,\"linecolor\":\"white\",\"showbackground\":true,\"ticks\":\"\",\"zerolinecolor\":\"white\"}},\"shapedefaults\":{\"line\":{\"color\":\"#2a3f5f\"}},\"ternary\":{\"aaxis\":{\"gridcolor\":\"white\",\"linecolor\":\"white\",\"ticks\":\"\"},\"baxis\":{\"gridcolor\":\"white\",\"linecolor\":\"white\",\"ticks\":\"\"},\"bgcolor\":\"#E5ECF6\",\"caxis\":{\"gridcolor\":\"white\",\"linecolor\":\"white\",\"ticks\":\"\"}},\"title\":{\"x\":0.05},\"xaxis\":{\"automargin\":true,\"gridcolor\":\"white\",\"linecolor\":\"white\",\"ticks\":\"\",\"title\":{\"standoff\":15},\"zerolinecolor\":\"white\",\"zerolinewidth\":2},\"yaxis\":{\"automargin\":true,\"gridcolor\":\"white\",\"linecolor\":\"white\",\"ticks\":\"\",\"title\":{\"standoff\":15},\"zerolinecolor\":\"white\",\"zerolinewidth\":2}}}},                        {\"responsive\": true}                    ).then(function(){\n",
       "                            \n",
       "var gd = document.getElementById('0227ec93-f119-4992-8f1d-0b7aaf3d246c');\n",
       "var x = new MutationObserver(function (mutations, observer) {{\n",
       "        var display = window.getComputedStyle(gd).display;\n",
       "        if (!display || display === 'none') {{\n",
       "            console.log([gd, 'removed!']);\n",
       "            Plotly.purge(gd);\n",
       "            observer.disconnect();\n",
       "        }}\n",
       "}});\n",
       "\n",
       "// Listen for the removal of the full notebook cells\n",
       "var notebookContainer = gd.closest('#notebook-container');\n",
       "if (notebookContainer) {{\n",
       "    x.observe(notebookContainer, {childList: true});\n",
       "}}\n",
       "\n",
       "// Listen for the clearing of the current output cell\n",
       "var outputEl = gd.closest('.output');\n",
       "if (outputEl) {{\n",
       "    x.observe(outputEl, {childList: true});\n",
       "}}\n",
       "\n",
       "                        })                };                });            </script>        </div>"
      ]
     },
     "metadata": {},
     "output_type": "display_data"
    }
   ],
   "source": [
    " parallel_categories()"
   ]
  },
  {
   "cell_type": "code",
   "execution_count": 69,
   "metadata": {},
   "outputs": [
    {
     "data": {
      "application/vnd.plotly.v1+json": {
       "config": {
        "plotlyServerURL": "https://plot.ly"
       },
       "data": [
        {
         "dimensions": [
          {
           "label": "sale_price_sqr_foot",
           "values": [
            903.9932577166666,
            788.8448177,
            779.81084235,
            689.5558167999999,
            687.08757455,
            676.5065775285714,
            675.3502119833333,
            665.9640416428572,
            662.013612842857,
            650.1244793000001
           ]
          },
          {
           "label": "housing_units",
           "values": [
            377427.5,
            380348,
            375967.25,
            378401,
            382295,
            378401,
            378401,
            378401,
            378401,
            375805
           ]
          },
          {
           "label": "gross_rent",
           "values": [
            2555.1666666666665,
            3414,
            2155.25,
            2817.285714285714,
            3959,
            2817.285714285714,
            2817.285714285714,
            2817.285714285714,
            2817.285714285714,
            2099
           ]
          }
         ],
         "domain": {
          "x": [
           0,
           1
          ],
          "y": [
           0,
           1
          ]
         },
         "line": {
          "color": [
           903.9932577166666,
           788.8448177,
           779.81084235,
           689.5558167999999,
           687.08757455,
           676.5065775285714,
           675.3502119833333,
           665.9640416428572,
           662.013612842857,
           650.1244793000001
          ],
          "coloraxis": "coloraxis"
         },
         "name": "",
         "type": "parcoords"
        }
       ],
       "layout": {
        "coloraxis": {
         "colorbar": {
          "title": {
           "text": "sale_price_sqr_foot"
          }
         },
         "colorscale": [
          [
           0,
           "#0d0887"
          ],
          [
           0.1111111111111111,
           "#46039f"
          ],
          [
           0.2222222222222222,
           "#7201a8"
          ],
          [
           0.3333333333333333,
           "#9c179e"
          ],
          [
           0.4444444444444444,
           "#bd3786"
          ],
          [
           0.5555555555555556,
           "#d8576b"
          ],
          [
           0.6666666666666666,
           "#ed7953"
          ],
          [
           0.7777777777777778,
           "#fb9f3a"
          ],
          [
           0.8888888888888888,
           "#fdca26"
          ],
          [
           1,
           "#f0f921"
          ]
         ]
        },
        "legend": {
         "tracegroupgap": 0
        },
        "margin": {
         "t": 60
        },
        "template": {
         "data": {
          "bar": [
           {
            "error_x": {
             "color": "#2a3f5f"
            },
            "error_y": {
             "color": "#2a3f5f"
            },
            "marker": {
             "line": {
              "color": "#E5ECF6",
              "width": 0.5
             },
             "pattern": {
              "fillmode": "overlay",
              "size": 10,
              "solidity": 0.2
             }
            },
            "type": "bar"
           }
          ],
          "barpolar": [
           {
            "marker": {
             "line": {
              "color": "#E5ECF6",
              "width": 0.5
             },
             "pattern": {
              "fillmode": "overlay",
              "size": 10,
              "solidity": 0.2
             }
            },
            "type": "barpolar"
           }
          ],
          "carpet": [
           {
            "aaxis": {
             "endlinecolor": "#2a3f5f",
             "gridcolor": "white",
             "linecolor": "white",
             "minorgridcolor": "white",
             "startlinecolor": "#2a3f5f"
            },
            "baxis": {
             "endlinecolor": "#2a3f5f",
             "gridcolor": "white",
             "linecolor": "white",
             "minorgridcolor": "white",
             "startlinecolor": "#2a3f5f"
            },
            "type": "carpet"
           }
          ],
          "choropleth": [
           {
            "colorbar": {
             "outlinewidth": 0,
             "ticks": ""
            },
            "type": "choropleth"
           }
          ],
          "contour": [
           {
            "colorbar": {
             "outlinewidth": 0,
             "ticks": ""
            },
            "colorscale": [
             [
              0,
              "#0d0887"
             ],
             [
              0.1111111111111111,
              "#46039f"
             ],
             [
              0.2222222222222222,
              "#7201a8"
             ],
             [
              0.3333333333333333,
              "#9c179e"
             ],
             [
              0.4444444444444444,
              "#bd3786"
             ],
             [
              0.5555555555555556,
              "#d8576b"
             ],
             [
              0.6666666666666666,
              "#ed7953"
             ],
             [
              0.7777777777777778,
              "#fb9f3a"
             ],
             [
              0.8888888888888888,
              "#fdca26"
             ],
             [
              1,
              "#f0f921"
             ]
            ],
            "type": "contour"
           }
          ],
          "contourcarpet": [
           {
            "colorbar": {
             "outlinewidth": 0,
             "ticks": ""
            },
            "type": "contourcarpet"
           }
          ],
          "heatmap": [
           {
            "colorbar": {
             "outlinewidth": 0,
             "ticks": ""
            },
            "colorscale": [
             [
              0,
              "#0d0887"
             ],
             [
              0.1111111111111111,
              "#46039f"
             ],
             [
              0.2222222222222222,
              "#7201a8"
             ],
             [
              0.3333333333333333,
              "#9c179e"
             ],
             [
              0.4444444444444444,
              "#bd3786"
             ],
             [
              0.5555555555555556,
              "#d8576b"
             ],
             [
              0.6666666666666666,
              "#ed7953"
             ],
             [
              0.7777777777777778,
              "#fb9f3a"
             ],
             [
              0.8888888888888888,
              "#fdca26"
             ],
             [
              1,
              "#f0f921"
             ]
            ],
            "type": "heatmap"
           }
          ],
          "heatmapgl": [
           {
            "colorbar": {
             "outlinewidth": 0,
             "ticks": ""
            },
            "colorscale": [
             [
              0,
              "#0d0887"
             ],
             [
              0.1111111111111111,
              "#46039f"
             ],
             [
              0.2222222222222222,
              "#7201a8"
             ],
             [
              0.3333333333333333,
              "#9c179e"
             ],
             [
              0.4444444444444444,
              "#bd3786"
             ],
             [
              0.5555555555555556,
              "#d8576b"
             ],
             [
              0.6666666666666666,
              "#ed7953"
             ],
             [
              0.7777777777777778,
              "#fb9f3a"
             ],
             [
              0.8888888888888888,
              "#fdca26"
             ],
             [
              1,
              "#f0f921"
             ]
            ],
            "type": "heatmapgl"
           }
          ],
          "histogram": [
           {
            "marker": {
             "pattern": {
              "fillmode": "overlay",
              "size": 10,
              "solidity": 0.2
             }
            },
            "type": "histogram"
           }
          ],
          "histogram2d": [
           {
            "colorbar": {
             "outlinewidth": 0,
             "ticks": ""
            },
            "colorscale": [
             [
              0,
              "#0d0887"
             ],
             [
              0.1111111111111111,
              "#46039f"
             ],
             [
              0.2222222222222222,
              "#7201a8"
             ],
             [
              0.3333333333333333,
              "#9c179e"
             ],
             [
              0.4444444444444444,
              "#bd3786"
             ],
             [
              0.5555555555555556,
              "#d8576b"
             ],
             [
              0.6666666666666666,
              "#ed7953"
             ],
             [
              0.7777777777777778,
              "#fb9f3a"
             ],
             [
              0.8888888888888888,
              "#fdca26"
             ],
             [
              1,
              "#f0f921"
             ]
            ],
            "type": "histogram2d"
           }
          ],
          "histogram2dcontour": [
           {
            "colorbar": {
             "outlinewidth": 0,
             "ticks": ""
            },
            "colorscale": [
             [
              0,
              "#0d0887"
             ],
             [
              0.1111111111111111,
              "#46039f"
             ],
             [
              0.2222222222222222,
              "#7201a8"
             ],
             [
              0.3333333333333333,
              "#9c179e"
             ],
             [
              0.4444444444444444,
              "#bd3786"
             ],
             [
              0.5555555555555556,
              "#d8576b"
             ],
             [
              0.6666666666666666,
              "#ed7953"
             ],
             [
              0.7777777777777778,
              "#fb9f3a"
             ],
             [
              0.8888888888888888,
              "#fdca26"
             ],
             [
              1,
              "#f0f921"
             ]
            ],
            "type": "histogram2dcontour"
           }
          ],
          "mesh3d": [
           {
            "colorbar": {
             "outlinewidth": 0,
             "ticks": ""
            },
            "type": "mesh3d"
           }
          ],
          "parcoords": [
           {
            "line": {
             "colorbar": {
              "outlinewidth": 0,
              "ticks": ""
             }
            },
            "type": "parcoords"
           }
          ],
          "pie": [
           {
            "automargin": true,
            "type": "pie"
           }
          ],
          "scatter": [
           {
            "marker": {
             "colorbar": {
              "outlinewidth": 0,
              "ticks": ""
             }
            },
            "type": "scatter"
           }
          ],
          "scatter3d": [
           {
            "line": {
             "colorbar": {
              "outlinewidth": 0,
              "ticks": ""
             }
            },
            "marker": {
             "colorbar": {
              "outlinewidth": 0,
              "ticks": ""
             }
            },
            "type": "scatter3d"
           }
          ],
          "scattercarpet": [
           {
            "marker": {
             "colorbar": {
              "outlinewidth": 0,
              "ticks": ""
             }
            },
            "type": "scattercarpet"
           }
          ],
          "scattergeo": [
           {
            "marker": {
             "colorbar": {
              "outlinewidth": 0,
              "ticks": ""
             }
            },
            "type": "scattergeo"
           }
          ],
          "scattergl": [
           {
            "marker": {
             "colorbar": {
              "outlinewidth": 0,
              "ticks": ""
             }
            },
            "type": "scattergl"
           }
          ],
          "scattermapbox": [
           {
            "marker": {
             "colorbar": {
              "outlinewidth": 0,
              "ticks": ""
             }
            },
            "type": "scattermapbox"
           }
          ],
          "scatterpolar": [
           {
            "marker": {
             "colorbar": {
              "outlinewidth": 0,
              "ticks": ""
             }
            },
            "type": "scatterpolar"
           }
          ],
          "scatterpolargl": [
           {
            "marker": {
             "colorbar": {
              "outlinewidth": 0,
              "ticks": ""
             }
            },
            "type": "scatterpolargl"
           }
          ],
          "scatterternary": [
           {
            "marker": {
             "colorbar": {
              "outlinewidth": 0,
              "ticks": ""
             }
            },
            "type": "scatterternary"
           }
          ],
          "surface": [
           {
            "colorbar": {
             "outlinewidth": 0,
             "ticks": ""
            },
            "colorscale": [
             [
              0,
              "#0d0887"
             ],
             [
              0.1111111111111111,
              "#46039f"
             ],
             [
              0.2222222222222222,
              "#7201a8"
             ],
             [
              0.3333333333333333,
              "#9c179e"
             ],
             [
              0.4444444444444444,
              "#bd3786"
             ],
             [
              0.5555555555555556,
              "#d8576b"
             ],
             [
              0.6666666666666666,
              "#ed7953"
             ],
             [
              0.7777777777777778,
              "#fb9f3a"
             ],
             [
              0.8888888888888888,
              "#fdca26"
             ],
             [
              1,
              "#f0f921"
             ]
            ],
            "type": "surface"
           }
          ],
          "table": [
           {
            "cells": {
             "fill": {
              "color": "#EBF0F8"
             },
             "line": {
              "color": "white"
             }
            },
            "header": {
             "fill": {
              "color": "#C8D4E3"
             },
             "line": {
              "color": "white"
             }
            },
            "type": "table"
           }
          ]
         },
         "layout": {
          "annotationdefaults": {
           "arrowcolor": "#2a3f5f",
           "arrowhead": 0,
           "arrowwidth": 1
          },
          "autotypenumbers": "strict",
          "coloraxis": {
           "colorbar": {
            "outlinewidth": 0,
            "ticks": ""
           }
          },
          "colorscale": {
           "diverging": [
            [
             0,
             "#8e0152"
            ],
            [
             0.1,
             "#c51b7d"
            ],
            [
             0.2,
             "#de77ae"
            ],
            [
             0.3,
             "#f1b6da"
            ],
            [
             0.4,
             "#fde0ef"
            ],
            [
             0.5,
             "#f7f7f7"
            ],
            [
             0.6,
             "#e6f5d0"
            ],
            [
             0.7,
             "#b8e186"
            ],
            [
             0.8,
             "#7fbc41"
            ],
            [
             0.9,
             "#4d9221"
            ],
            [
             1,
             "#276419"
            ]
           ],
           "sequential": [
            [
             0,
             "#0d0887"
            ],
            [
             0.1111111111111111,
             "#46039f"
            ],
            [
             0.2222222222222222,
             "#7201a8"
            ],
            [
             0.3333333333333333,
             "#9c179e"
            ],
            [
             0.4444444444444444,
             "#bd3786"
            ],
            [
             0.5555555555555556,
             "#d8576b"
            ],
            [
             0.6666666666666666,
             "#ed7953"
            ],
            [
             0.7777777777777778,
             "#fb9f3a"
            ],
            [
             0.8888888888888888,
             "#fdca26"
            ],
            [
             1,
             "#f0f921"
            ]
           ],
           "sequentialminus": [
            [
             0,
             "#0d0887"
            ],
            [
             0.1111111111111111,
             "#46039f"
            ],
            [
             0.2222222222222222,
             "#7201a8"
            ],
            [
             0.3333333333333333,
             "#9c179e"
            ],
            [
             0.4444444444444444,
             "#bd3786"
            ],
            [
             0.5555555555555556,
             "#d8576b"
            ],
            [
             0.6666666666666666,
             "#ed7953"
            ],
            [
             0.7777777777777778,
             "#fb9f3a"
            ],
            [
             0.8888888888888888,
             "#fdca26"
            ],
            [
             1,
             "#f0f921"
            ]
           ]
          },
          "colorway": [
           "#636efa",
           "#EF553B",
           "#00cc96",
           "#ab63fa",
           "#FFA15A",
           "#19d3f3",
           "#FF6692",
           "#B6E880",
           "#FF97FF",
           "#FECB52"
          ],
          "font": {
           "color": "#2a3f5f"
          },
          "geo": {
           "bgcolor": "white",
           "lakecolor": "white",
           "landcolor": "#E5ECF6",
           "showlakes": true,
           "showland": true,
           "subunitcolor": "white"
          },
          "hoverlabel": {
           "align": "left"
          },
          "hovermode": "closest",
          "mapbox": {
           "style": "light"
          },
          "paper_bgcolor": "white",
          "plot_bgcolor": "#E5ECF6",
          "polar": {
           "angularaxis": {
            "gridcolor": "white",
            "linecolor": "white",
            "ticks": ""
           },
           "bgcolor": "#E5ECF6",
           "radialaxis": {
            "gridcolor": "white",
            "linecolor": "white",
            "ticks": ""
           }
          },
          "scene": {
           "xaxis": {
            "backgroundcolor": "#E5ECF6",
            "gridcolor": "white",
            "gridwidth": 2,
            "linecolor": "white",
            "showbackground": true,
            "ticks": "",
            "zerolinecolor": "white"
           },
           "yaxis": {
            "backgroundcolor": "#E5ECF6",
            "gridcolor": "white",
            "gridwidth": 2,
            "linecolor": "white",
            "showbackground": true,
            "ticks": "",
            "zerolinecolor": "white"
           },
           "zaxis": {
            "backgroundcolor": "#E5ECF6",
            "gridcolor": "white",
            "gridwidth": 2,
            "linecolor": "white",
            "showbackground": true,
            "ticks": "",
            "zerolinecolor": "white"
           }
          },
          "shapedefaults": {
           "line": {
            "color": "#2a3f5f"
           }
          },
          "ternary": {
           "aaxis": {
            "gridcolor": "white",
            "linecolor": "white",
            "ticks": ""
           },
           "baxis": {
            "gridcolor": "white",
            "linecolor": "white",
            "ticks": ""
           },
           "bgcolor": "#E5ECF6",
           "caxis": {
            "gridcolor": "white",
            "linecolor": "white",
            "ticks": ""
           }
          },
          "title": {
           "x": 0.05
          },
          "xaxis": {
           "automargin": true,
           "gridcolor": "white",
           "linecolor": "white",
           "ticks": "",
           "title": {
            "standoff": 15
           },
           "zerolinecolor": "white",
           "zerolinewidth": 2
          },
          "yaxis": {
           "automargin": true,
           "gridcolor": "white",
           "linecolor": "white",
           "ticks": "",
           "title": {
            "standoff": 15
           },
           "zerolinecolor": "white",
           "zerolinewidth": 2
          }
         }
        }
       }
      },
      "text/html": [
       "<div>                            <div id=\"309655e1-baae-4605-9a14-4fa7e7e12ce7\" class=\"plotly-graph-div\" style=\"height:525px; width:100%;\"></div>            <script type=\"text/javascript\">                require([\"plotly\"], function(Plotly) {                    window.PLOTLYENV=window.PLOTLYENV || {};                                    if (document.getElementById(\"309655e1-baae-4605-9a14-4fa7e7e12ce7\")) {                    Plotly.newPlot(                        \"309655e1-baae-4605-9a14-4fa7e7e12ce7\",                        [{\"dimensions\":[{\"label\":\"sale_price_sqr_foot\",\"values\":[903.9932577166666,788.8448177,779.81084235,689.5558167999999,687.08757455,676.5065775285714,675.3502119833333,665.9640416428572,662.013612842857,650.1244793000001]},{\"label\":\"housing_units\",\"values\":[377427.5,380348.0,375967.25,378401.0,382295.0,378401.0,378401.0,378401.0,378401.0,375805.0]},{\"label\":\"gross_rent\",\"values\":[2555.1666666666665,3414.0,2155.25,2817.285714285714,3959.0,2817.285714285714,2817.285714285714,2817.285714285714,2817.285714285714,2099.0]}],\"domain\":{\"x\":[0.0,1.0],\"y\":[0.0,1.0]},\"line\":{\"color\":[903.9932577166666,788.8448177,779.81084235,689.5558167999999,687.08757455,676.5065775285714,675.3502119833333,665.9640416428572,662.013612842857,650.1244793000001],\"coloraxis\":\"coloraxis\"},\"name\":\"\",\"type\":\"parcoords\"}],                        {\"coloraxis\":{\"colorbar\":{\"title\":{\"text\":\"sale_price_sqr_foot\"}},\"colorscale\":[[0.0,\"#0d0887\"],[0.1111111111111111,\"#46039f\"],[0.2222222222222222,\"#7201a8\"],[0.3333333333333333,\"#9c179e\"],[0.4444444444444444,\"#bd3786\"],[0.5555555555555556,\"#d8576b\"],[0.6666666666666666,\"#ed7953\"],[0.7777777777777778,\"#fb9f3a\"],[0.8888888888888888,\"#fdca26\"],[1.0,\"#f0f921\"]]},\"legend\":{\"tracegroupgap\":0},\"margin\":{\"t\":60},\"template\":{\"data\":{\"bar\":[{\"error_x\":{\"color\":\"#2a3f5f\"},\"error_y\":{\"color\":\"#2a3f5f\"},\"marker\":{\"line\":{\"color\":\"#E5ECF6\",\"width\":0.5},\"pattern\":{\"fillmode\":\"overlay\",\"size\":10,\"solidity\":0.2}},\"type\":\"bar\"}],\"barpolar\":[{\"marker\":{\"line\":{\"color\":\"#E5ECF6\",\"width\":0.5},\"pattern\":{\"fillmode\":\"overlay\",\"size\":10,\"solidity\":0.2}},\"type\":\"barpolar\"}],\"carpet\":[{\"aaxis\":{\"endlinecolor\":\"#2a3f5f\",\"gridcolor\":\"white\",\"linecolor\":\"white\",\"minorgridcolor\":\"white\",\"startlinecolor\":\"#2a3f5f\"},\"baxis\":{\"endlinecolor\":\"#2a3f5f\",\"gridcolor\":\"white\",\"linecolor\":\"white\",\"minorgridcolor\":\"white\",\"startlinecolor\":\"#2a3f5f\"},\"type\":\"carpet\"}],\"choropleth\":[{\"colorbar\":{\"outlinewidth\":0,\"ticks\":\"\"},\"type\":\"choropleth\"}],\"contour\":[{\"colorbar\":{\"outlinewidth\":0,\"ticks\":\"\"},\"colorscale\":[[0.0,\"#0d0887\"],[0.1111111111111111,\"#46039f\"],[0.2222222222222222,\"#7201a8\"],[0.3333333333333333,\"#9c179e\"],[0.4444444444444444,\"#bd3786\"],[0.5555555555555556,\"#d8576b\"],[0.6666666666666666,\"#ed7953\"],[0.7777777777777778,\"#fb9f3a\"],[0.8888888888888888,\"#fdca26\"],[1.0,\"#f0f921\"]],\"type\":\"contour\"}],\"contourcarpet\":[{\"colorbar\":{\"outlinewidth\":0,\"ticks\":\"\"},\"type\":\"contourcarpet\"}],\"heatmap\":[{\"colorbar\":{\"outlinewidth\":0,\"ticks\":\"\"},\"colorscale\":[[0.0,\"#0d0887\"],[0.1111111111111111,\"#46039f\"],[0.2222222222222222,\"#7201a8\"],[0.3333333333333333,\"#9c179e\"],[0.4444444444444444,\"#bd3786\"],[0.5555555555555556,\"#d8576b\"],[0.6666666666666666,\"#ed7953\"],[0.7777777777777778,\"#fb9f3a\"],[0.8888888888888888,\"#fdca26\"],[1.0,\"#f0f921\"]],\"type\":\"heatmap\"}],\"heatmapgl\":[{\"colorbar\":{\"outlinewidth\":0,\"ticks\":\"\"},\"colorscale\":[[0.0,\"#0d0887\"],[0.1111111111111111,\"#46039f\"],[0.2222222222222222,\"#7201a8\"],[0.3333333333333333,\"#9c179e\"],[0.4444444444444444,\"#bd3786\"],[0.5555555555555556,\"#d8576b\"],[0.6666666666666666,\"#ed7953\"],[0.7777777777777778,\"#fb9f3a\"],[0.8888888888888888,\"#fdca26\"],[1.0,\"#f0f921\"]],\"type\":\"heatmapgl\"}],\"histogram\":[{\"marker\":{\"pattern\":{\"fillmode\":\"overlay\",\"size\":10,\"solidity\":0.2}},\"type\":\"histogram\"}],\"histogram2d\":[{\"colorbar\":{\"outlinewidth\":0,\"ticks\":\"\"},\"colorscale\":[[0.0,\"#0d0887\"],[0.1111111111111111,\"#46039f\"],[0.2222222222222222,\"#7201a8\"],[0.3333333333333333,\"#9c179e\"],[0.4444444444444444,\"#bd3786\"],[0.5555555555555556,\"#d8576b\"],[0.6666666666666666,\"#ed7953\"],[0.7777777777777778,\"#fb9f3a\"],[0.8888888888888888,\"#fdca26\"],[1.0,\"#f0f921\"]],\"type\":\"histogram2d\"}],\"histogram2dcontour\":[{\"colorbar\":{\"outlinewidth\":0,\"ticks\":\"\"},\"colorscale\":[[0.0,\"#0d0887\"],[0.1111111111111111,\"#46039f\"],[0.2222222222222222,\"#7201a8\"],[0.3333333333333333,\"#9c179e\"],[0.4444444444444444,\"#bd3786\"],[0.5555555555555556,\"#d8576b\"],[0.6666666666666666,\"#ed7953\"],[0.7777777777777778,\"#fb9f3a\"],[0.8888888888888888,\"#fdca26\"],[1.0,\"#f0f921\"]],\"type\":\"histogram2dcontour\"}],\"mesh3d\":[{\"colorbar\":{\"outlinewidth\":0,\"ticks\":\"\"},\"type\":\"mesh3d\"}],\"parcoords\":[{\"line\":{\"colorbar\":{\"outlinewidth\":0,\"ticks\":\"\"}},\"type\":\"parcoords\"}],\"pie\":[{\"automargin\":true,\"type\":\"pie\"}],\"scatter\":[{\"marker\":{\"colorbar\":{\"outlinewidth\":0,\"ticks\":\"\"}},\"type\":\"scatter\"}],\"scatter3d\":[{\"line\":{\"colorbar\":{\"outlinewidth\":0,\"ticks\":\"\"}},\"marker\":{\"colorbar\":{\"outlinewidth\":0,\"ticks\":\"\"}},\"type\":\"scatter3d\"}],\"scattercarpet\":[{\"marker\":{\"colorbar\":{\"outlinewidth\":0,\"ticks\":\"\"}},\"type\":\"scattercarpet\"}],\"scattergeo\":[{\"marker\":{\"colorbar\":{\"outlinewidth\":0,\"ticks\":\"\"}},\"type\":\"scattergeo\"}],\"scattergl\":[{\"marker\":{\"colorbar\":{\"outlinewidth\":0,\"ticks\":\"\"}},\"type\":\"scattergl\"}],\"scattermapbox\":[{\"marker\":{\"colorbar\":{\"outlinewidth\":0,\"ticks\":\"\"}},\"type\":\"scattermapbox\"}],\"scatterpolar\":[{\"marker\":{\"colorbar\":{\"outlinewidth\":0,\"ticks\":\"\"}},\"type\":\"scatterpolar\"}],\"scatterpolargl\":[{\"marker\":{\"colorbar\":{\"outlinewidth\":0,\"ticks\":\"\"}},\"type\":\"scatterpolargl\"}],\"scatterternary\":[{\"marker\":{\"colorbar\":{\"outlinewidth\":0,\"ticks\":\"\"}},\"type\":\"scatterternary\"}],\"surface\":[{\"colorbar\":{\"outlinewidth\":0,\"ticks\":\"\"},\"colorscale\":[[0.0,\"#0d0887\"],[0.1111111111111111,\"#46039f\"],[0.2222222222222222,\"#7201a8\"],[0.3333333333333333,\"#9c179e\"],[0.4444444444444444,\"#bd3786\"],[0.5555555555555556,\"#d8576b\"],[0.6666666666666666,\"#ed7953\"],[0.7777777777777778,\"#fb9f3a\"],[0.8888888888888888,\"#fdca26\"],[1.0,\"#f0f921\"]],\"type\":\"surface\"}],\"table\":[{\"cells\":{\"fill\":{\"color\":\"#EBF0F8\"},\"line\":{\"color\":\"white\"}},\"header\":{\"fill\":{\"color\":\"#C8D4E3\"},\"line\":{\"color\":\"white\"}},\"type\":\"table\"}]},\"layout\":{\"annotationdefaults\":{\"arrowcolor\":\"#2a3f5f\",\"arrowhead\":0,\"arrowwidth\":1},\"autotypenumbers\":\"strict\",\"coloraxis\":{\"colorbar\":{\"outlinewidth\":0,\"ticks\":\"\"}},\"colorscale\":{\"diverging\":[[0,\"#8e0152\"],[0.1,\"#c51b7d\"],[0.2,\"#de77ae\"],[0.3,\"#f1b6da\"],[0.4,\"#fde0ef\"],[0.5,\"#f7f7f7\"],[0.6,\"#e6f5d0\"],[0.7,\"#b8e186\"],[0.8,\"#7fbc41\"],[0.9,\"#4d9221\"],[1,\"#276419\"]],\"sequential\":[[0.0,\"#0d0887\"],[0.1111111111111111,\"#46039f\"],[0.2222222222222222,\"#7201a8\"],[0.3333333333333333,\"#9c179e\"],[0.4444444444444444,\"#bd3786\"],[0.5555555555555556,\"#d8576b\"],[0.6666666666666666,\"#ed7953\"],[0.7777777777777778,\"#fb9f3a\"],[0.8888888888888888,\"#fdca26\"],[1.0,\"#f0f921\"]],\"sequentialminus\":[[0.0,\"#0d0887\"],[0.1111111111111111,\"#46039f\"],[0.2222222222222222,\"#7201a8\"],[0.3333333333333333,\"#9c179e\"],[0.4444444444444444,\"#bd3786\"],[0.5555555555555556,\"#d8576b\"],[0.6666666666666666,\"#ed7953\"],[0.7777777777777778,\"#fb9f3a\"],[0.8888888888888888,\"#fdca26\"],[1.0,\"#f0f921\"]]},\"colorway\":[\"#636efa\",\"#EF553B\",\"#00cc96\",\"#ab63fa\",\"#FFA15A\",\"#19d3f3\",\"#FF6692\",\"#B6E880\",\"#FF97FF\",\"#FECB52\"],\"font\":{\"color\":\"#2a3f5f\"},\"geo\":{\"bgcolor\":\"white\",\"lakecolor\":\"white\",\"landcolor\":\"#E5ECF6\",\"showlakes\":true,\"showland\":true,\"subunitcolor\":\"white\"},\"hoverlabel\":{\"align\":\"left\"},\"hovermode\":\"closest\",\"mapbox\":{\"style\":\"light\"},\"paper_bgcolor\":\"white\",\"plot_bgcolor\":\"#E5ECF6\",\"polar\":{\"angularaxis\":{\"gridcolor\":\"white\",\"linecolor\":\"white\",\"ticks\":\"\"},\"bgcolor\":\"#E5ECF6\",\"radialaxis\":{\"gridcolor\":\"white\",\"linecolor\":\"white\",\"ticks\":\"\"}},\"scene\":{\"xaxis\":{\"backgroundcolor\":\"#E5ECF6\",\"gridcolor\":\"white\",\"gridwidth\":2,\"linecolor\":\"white\",\"showbackground\":true,\"ticks\":\"\",\"zerolinecolor\":\"white\"},\"yaxis\":{\"backgroundcolor\":\"#E5ECF6\",\"gridcolor\":\"white\",\"gridwidth\":2,\"linecolor\":\"white\",\"showbackground\":true,\"ticks\":\"\",\"zerolinecolor\":\"white\"},\"zaxis\":{\"backgroundcolor\":\"#E5ECF6\",\"gridcolor\":\"white\",\"gridwidth\":2,\"linecolor\":\"white\",\"showbackground\":true,\"ticks\":\"\",\"zerolinecolor\":\"white\"}},\"shapedefaults\":{\"line\":{\"color\":\"#2a3f5f\"}},\"ternary\":{\"aaxis\":{\"gridcolor\":\"white\",\"linecolor\":\"white\",\"ticks\":\"\"},\"baxis\":{\"gridcolor\":\"white\",\"linecolor\":\"white\",\"ticks\":\"\"},\"bgcolor\":\"#E5ECF6\",\"caxis\":{\"gridcolor\":\"white\",\"linecolor\":\"white\",\"ticks\":\"\"}},\"title\":{\"x\":0.05},\"xaxis\":{\"automargin\":true,\"gridcolor\":\"white\",\"linecolor\":\"white\",\"ticks\":\"\",\"title\":{\"standoff\":15},\"zerolinecolor\":\"white\",\"zerolinewidth\":2},\"yaxis\":{\"automargin\":true,\"gridcolor\":\"white\",\"linecolor\":\"white\",\"ticks\":\"\",\"title\":{\"standoff\":15},\"zerolinecolor\":\"white\",\"zerolinewidth\":2}}}},                        {\"responsive\": true}                    ).then(function(){\n",
       "                            \n",
       "var gd = document.getElementById('309655e1-baae-4605-9a14-4fa7e7e12ce7');\n",
       "var x = new MutationObserver(function (mutations, observer) {{\n",
       "        var display = window.getComputedStyle(gd).display;\n",
       "        if (!display || display === 'none') {{\n",
       "            console.log([gd, 'removed!']);\n",
       "            Plotly.purge(gd);\n",
       "            observer.disconnect();\n",
       "        }}\n",
       "}});\n",
       "\n",
       "// Listen for the removal of the full notebook cells\n",
       "var notebookContainer = gd.closest('#notebook-container');\n",
       "if (notebookContainer) {{\n",
       "    x.observe(notebookContainer, {childList: true});\n",
       "}}\n",
       "\n",
       "// Listen for the clearing of the current output cell\n",
       "var outputEl = gd.closest('.output');\n",
       "if (outputEl) {{\n",
       "    x.observe(outputEl, {childList: true});\n",
       "}}\n",
       "\n",
       "                        })                };                });            </script>        </div>"
      ]
     },
     "metadata": {},
     "output_type": "display_data"
    }
   ],
   "source": [
    " parallel_coordinates()"
   ]
  },
  {
   "cell_type": "code",
   "execution_count": 21,
   "metadata": {},
   "outputs": [
    {
     "ename": "NameError",
     "evalue": "name 'rentSalesPlot' is not defined",
     "output_type": "error",
     "traceback": [
      "\u001b[0;31m---------------------------------------------------------------------------\u001b[0m",
      "\u001b[0;31mNameError\u001b[0m                                 Traceback (most recent call last)",
      "\u001b[0;32m<ipython-input-21-21583194b77f>\u001b[0m in \u001b[0;36m<module>\u001b[0;34m\u001b[0m\n\u001b[0;32m----> 1\u001b[0;31m \u001b[0msunburst\u001b[0m\u001b[0;34m(\u001b[0m\u001b[0;34m)\u001b[0m\u001b[0;34m\u001b[0m\u001b[0;34m\u001b[0m\u001b[0m\n\u001b[0m",
      "\u001b[0;32m<ipython-input-13-ca2764efb8e4>\u001b[0m in \u001b[0;36msunburst\u001b[0;34m()\u001b[0m\n\u001b[1;32m    141\u001b[0m \u001b[0;32mdef\u001b[0m \u001b[0msunburst\u001b[0m\u001b[0;34m(\u001b[0m\u001b[0;34m)\u001b[0m\u001b[0;34m:\u001b[0m\u001b[0;34m\u001b[0m\u001b[0;34m\u001b[0m\u001b[0m\n\u001b[1;32m    142\u001b[0m     \u001b[0;34m\"\"\"Sunburst Plot.\"\"\"\u001b[0m\u001b[0;34m\u001b[0m\u001b[0;34m\u001b[0m\u001b[0m\n\u001b[0;32m--> 143\u001b[0;31m     \u001b[0mfig\u001b[0m \u001b[0;34m=\u001b[0m \u001b[0mpx\u001b[0m\u001b[0;34m.\u001b[0m\u001b[0msunburst\u001b[0m\u001b[0;34m(\u001b[0m\u001b[0mrentSalesPlot\u001b[0m\u001b[0;34m,\u001b[0m \u001b[0mpath\u001b[0m\u001b[0;34m=\u001b[0m\u001b[0;34m[\u001b[0m\u001b[0;34m\"year\"\u001b[0m\u001b[0;34m,\u001b[0m\u001b[0;34m\"neighborhood\"\u001b[0m\u001b[0;34m]\u001b[0m\u001b[0;34m,\u001b[0m \u001b[0mvalues\u001b[0m\u001b[0;34m=\u001b[0m\u001b[0;34m\"sale_price_sqr_foot\"\u001b[0m\u001b[0;34m,\u001b[0m \u001b[0mcolor\u001b[0m\u001b[0;34m=\u001b[0m\u001b[0;34m\"gross_rent\"\u001b[0m\u001b[0;34m,\u001b[0m\u001b[0mcolor_continuous_scale\u001b[0m\u001b[0;34m=\u001b[0m\u001b[0;34m\"Blues\"\u001b[0m\u001b[0;34m,\u001b[0m \u001b[0mtitle\u001b[0m \u001b[0;34m=\u001b[0m \u001b[0;34m\"Cost Analysis of Most Expensive Neighborhoods in SFO\"\u001b[0m\u001b[0;34m)\u001b[0m\u001b[0;34m\u001b[0m\u001b[0;34m\u001b[0m\u001b[0m\n\u001b[0m\u001b[1;32m    144\u001b[0m \u001b[0;34m\u001b[0m\u001b[0m\n\u001b[1;32m    145\u001b[0m     \u001b[0;32mreturn\u001b[0m \u001b[0mfig\u001b[0m\u001b[0;34m\u001b[0m\u001b[0;34m\u001b[0m\u001b[0m\n",
      "\u001b[0;31mNameError\u001b[0m: name 'rentSalesPlot' is not defined"
     ]
    }
   ],
   "source": [
    "sunburst()"
   ]
  },
  {
   "cell_type": "code",
   "execution_count": null,
   "metadata": {},
   "outputs": [],
   "source": []
  },
  {
   "cell_type": "code",
   "execution_count": null,
   "metadata": {},
   "outputs": [],
   "source": []
  }
 ],
 "metadata": {
  "file_extension": ".py",
  "kernelspec": {
   "display_name": "Python 3",
   "language": "python",
   "name": "python3"
  },
  "language_info": {
   "codemirror_mode": {
    "name": "ipython",
    "version": 3
   },
   "file_extension": ".py",
   "mimetype": "text/x-python",
   "name": "python",
   "nbconvert_exporter": "python",
   "pygments_lexer": "ipython3",
   "version": "3.8.8"
  },
  "mimetype": "text/x-python",
  "name": "python",
  "npconvert_exporter": "python",
  "pygments_lexer": "ipython3",
  "version": 3
 },
 "nbformat": 4,
 "nbformat_minor": 4
}
